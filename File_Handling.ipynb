{
 "cells": [
  {
   "cell_type": "code",
   "execution_count": 5,
   "id": "47599307",
   "metadata": {},
   "outputs": [
    {
     "data": {
      "text/plain": [
       "<_io.TextIOWrapper name='C:\\\\Users\\\\rupan\\\\OneDrive\\\\Desktop\\\\hii.txt' mode='r' encoding='cp1252'>"
      ]
     },
     "execution_count": 5,
     "metadata": {},
     "output_type": "execute_result"
    }
   ],
   "source": [
    "f=open(\"C:\\\\Users\\\\rupan\\\\OneDrive\\\\Desktop\\\\hii.txt\",\"r\")\n",
    "f"
   ]
  },
  {
   "cell_type": "code",
   "execution_count": 6,
   "id": "7cfcf6de",
   "metadata": {},
   "outputs": [
    {
     "data": {
      "text/plain": [
       "'hii python core.\\nwe are studying file handling\\nwe have four operations in file handling...!!!!'"
      ]
     },
     "execution_count": 6,
     "metadata": {},
     "output_type": "execute_result"
    }
   ],
   "source": [
    "f.read()"
   ]
  },
  {
   "cell_type": "code",
   "execution_count": 7,
   "id": "36762c89",
   "metadata": {},
   "outputs": [
    {
     "data": {
      "text/plain": [
       "96"
      ]
     },
     "execution_count": 7,
     "metadata": {},
     "output_type": "execute_result"
    }
   ],
   "source": [
    "f.tell() #96 indicates the current file position, indexing-96"
   ]
  },
  {
   "cell_type": "code",
   "execution_count": 8,
   "id": "54121d48",
   "metadata": {},
   "outputs": [
    {
     "data": {
      "text/plain": [
       "''"
      ]
     },
     "execution_count": 8,
     "metadata": {},
     "output_type": "execute_result"
    }
   ],
   "source": [
    "f.read() #pointer is at 96 after that there is no content so it is showing empty"
   ]
  },
  {
   "cell_type": "code",
   "execution_count": 9,
   "id": "c792ee2b",
   "metadata": {},
   "outputs": [
    {
     "data": {
      "text/plain": [
       "<_io.TextIOWrapper name='C:\\\\Users\\\\rupan\\\\OneDrive\\\\Desktop\\\\hii.txt' mode='r' encoding='cp1252'>"
      ]
     },
     "execution_count": 9,
     "metadata": {},
     "output_type": "execute_result"
    }
   ],
   "source": [
    "f=open(\"C:\\\\Users\\\\rupan\\\\OneDrive\\\\Desktop\\\\hii.txt\",\"r\")\n",
    "f"
   ]
  },
  {
   "cell_type": "code",
   "execution_count": 10,
   "id": "66ec6575",
   "metadata": {},
   "outputs": [
    {
     "data": {
      "text/plain": [
       "0"
      ]
     },
     "execution_count": 10,
     "metadata": {},
     "output_type": "execute_result"
    }
   ],
   "source": [
    "f.tell() #we havent read the file yet so 0"
   ]
  },
  {
   "cell_type": "code",
   "execution_count": 11,
   "id": "9b93431f",
   "metadata": {},
   "outputs": [
    {
     "data": {
      "text/plain": [
       "'hii pyth'"
      ]
     },
     "execution_count": 11,
     "metadata": {},
     "output_type": "execute_result"
    }
   ],
   "source": [
    "f.read(8) #to read first eight chararcters"
   ]
  },
  {
   "cell_type": "code",
   "execution_count": 12,
   "id": "ae25e764",
   "metadata": {},
   "outputs": [
    {
     "data": {
      "text/plain": [
       "8"
      ]
     },
     "execution_count": 12,
     "metadata": {},
     "output_type": "execute_result"
    }
   ],
   "source": [
    "f.tell()"
   ]
  },
  {
   "cell_type": "code",
   "execution_count": 13,
   "id": "267c684b",
   "metadata": {},
   "outputs": [
    {
     "data": {
      "text/plain": [
       "'on core.\\nwe are studying file handling\\nwe have four operations in file handling...!!!!'"
      ]
     },
     "execution_count": 13,
     "metadata": {},
     "output_type": "execute_result"
    }
   ],
   "source": [
    "f.read() #pointer is at 8"
   ]
  },
  {
   "cell_type": "code",
   "execution_count": 14,
   "id": "5f4aa351",
   "metadata": {},
   "outputs": [
    {
     "data": {
      "text/plain": [
       "''"
      ]
     },
     "execution_count": 14,
     "metadata": {},
     "output_type": "execute_result"
    }
   ],
   "source": [
    "f.read()"
   ]
  },
  {
   "cell_type": "code",
   "execution_count": 16,
   "id": "8552f0f3",
   "metadata": {},
   "outputs": [
    {
     "data": {
      "text/plain": [
       "1"
      ]
     },
     "execution_count": 16,
     "metadata": {},
     "output_type": "execute_result"
    }
   ],
   "source": [
    "f.seek(1) # to move the pointer to the starting position"
   ]
  },
  {
   "cell_type": "code",
   "execution_count": 17,
   "id": "9759e732",
   "metadata": {},
   "outputs": [
    {
     "data": {
      "text/plain": [
       "'ii python core.\\nwe are studying file handling\\nwe have four operations in file handling...!!!!'"
      ]
     },
     "execution_count": 17,
     "metadata": {},
     "output_type": "execute_result"
    }
   ],
   "source": [
    "f.read()"
   ]
  },
  {
   "cell_type": "code",
   "execution_count": 18,
   "id": "641f3086",
   "metadata": {},
   "outputs": [
    {
     "data": {
      "text/plain": [
       "''"
      ]
     },
     "execution_count": 18,
     "metadata": {},
     "output_type": "execute_result"
    }
   ],
   "source": [
    "f.read()"
   ]
  },
  {
   "cell_type": "code",
   "execution_count": 30,
   "id": "3b3991e6",
   "metadata": {},
   "outputs": [
    {
     "data": {
      "text/plain": [
       "<_io.TextIOWrapper name='C:\\\\Users\\\\rupan\\\\OneDrive\\\\Desktop\\\\hii.txt' mode='r' encoding='cp1252'>"
      ]
     },
     "execution_count": 30,
     "metadata": {},
     "output_type": "execute_result"
    }
   ],
   "source": [
    "f=open(\"C:\\\\Users\\\\rupan\\\\OneDrive\\\\Desktop\\\\hii.txt\",\"r\")\n",
    "f"
   ]
  },
  {
   "cell_type": "code",
   "execution_count": 31,
   "id": "baa4ccab",
   "metadata": {},
   "outputs": [
    {
     "data": {
      "text/plain": [
       "'hii python core.\\n'"
      ]
     },
     "execution_count": 31,
     "metadata": {},
     "output_type": "execute_result"
    }
   ],
   "source": [
    "f.readline() #it will give first line "
   ]
  },
  {
   "cell_type": "code",
   "execution_count": 32,
   "id": "72499571",
   "metadata": {},
   "outputs": [
    {
     "data": {
      "text/plain": [
       "'we are studying file handling\\n'"
      ]
     },
     "execution_count": 32,
     "metadata": {},
     "output_type": "execute_result"
    }
   ],
   "source": [
    "f.readline()"
   ]
  },
  {
   "cell_type": "code",
   "execution_count": 33,
   "id": "da323afe",
   "metadata": {},
   "outputs": [
    {
     "data": {
      "text/plain": [
       "'we have four operations in file handling...!!!!'"
      ]
     },
     "execution_count": 33,
     "metadata": {},
     "output_type": "execute_result"
    }
   ],
   "source": [
    "f.readline() "
   ]
  },
  {
   "cell_type": "code",
   "execution_count": 34,
   "id": "65fa12ac",
   "metadata": {},
   "outputs": [
    {
     "data": {
      "text/plain": [
       "''"
      ]
     },
     "execution_count": 34,
     "metadata": {},
     "output_type": "execute_result"
    }
   ],
   "source": [
    "f.readline()  "
   ]
  },
  {
   "cell_type": "code",
   "execution_count": 42,
   "id": "c064dbcf",
   "metadata": {},
   "outputs": [
    {
     "data": {
      "text/plain": [
       "<_io.TextIOWrapper name='C:\\\\Users\\\\rupan\\\\OneDrive\\\\Desktop\\\\hii.txt' mode='r' encoding='cp1252'>"
      ]
     },
     "execution_count": 42,
     "metadata": {},
     "output_type": "execute_result"
    }
   ],
   "source": [
    "f=open(\"C:\\\\Users\\\\rupan\\\\OneDrive\\\\Desktop\\\\hii.txt\",\"r\")\n",
    "f"
   ]
  },
  {
   "cell_type": "code",
   "execution_count": 43,
   "id": "8a35dd6f",
   "metadata": {
    "scrolled": true
   },
   "outputs": [
    {
     "data": {
      "text/plain": [
       "['hii python core.\\n',\n",
       " 'we are studying file handling\\n',\n",
       " 'we have four operations in file handling...!!!!']"
      ]
     },
     "execution_count": 43,
     "metadata": {},
     "output_type": "execute_result"
    }
   ],
   "source": [
    "l=f.readlines() #it will read multiple lines and gives output in list\n",
    "l"
   ]
  },
  {
   "cell_type": "code",
   "execution_count": 44,
   "id": "542ee05e",
   "metadata": {},
   "outputs": [
    {
     "data": {
      "text/plain": [
       "'hii python core.\\n'"
      ]
     },
     "execution_count": 44,
     "metadata": {},
     "output_type": "execute_result"
    }
   ],
   "source": [
    "l[0]"
   ]
  },
  {
   "cell_type": "code",
   "execution_count": 48,
   "id": "62e52d84",
   "metadata": {},
   "outputs": [
    {
     "data": {
      "text/plain": [
       "'hii python core.'"
      ]
     },
     "execution_count": 48,
     "metadata": {},
     "output_type": "execute_result"
    }
   ],
   "source": [
    "l[0][0:-1]"
   ]
  },
  {
   "cell_type": "code",
   "execution_count": 52,
   "id": "0993d4cc",
   "metadata": {},
   "outputs": [
    {
     "data": {
      "text/plain": [
       "'we are studying file handling'"
      ]
     },
     "execution_count": 52,
     "metadata": {},
     "output_type": "execute_result"
    }
   ],
   "source": [
    "l[1][0:-1]"
   ]
  },
  {
   "cell_type": "code",
   "execution_count": 59,
   "id": "f5e3e6d4",
   "metadata": {},
   "outputs": [
    {
     "data": {
      "text/plain": [
       "<_io.TextIOWrapper name='C:\\\\Users\\\\rupan\\\\OneDrive\\\\Desktop\\\\hii.txt' mode='r' encoding='cp1252'>"
      ]
     },
     "execution_count": 59,
     "metadata": {},
     "output_type": "execute_result"
    }
   ],
   "source": [
    "f=open(\"C:\\\\Users\\\\rupan\\\\OneDrive\\\\Desktop\\\\hii.txt\",\"r\")\n",
    "f"
   ]
  },
  {
   "cell_type": "code",
   "execution_count": 60,
   "id": "4b827c9a",
   "metadata": {},
   "outputs": [
    {
     "data": {
      "text/plain": [
       "['hii python core.\\n',\n",
       " 'we are studying file handling\\n',\n",
       " 'we have four operations in file handling...!!!!']"
      ]
     },
     "execution_count": 60,
     "metadata": {},
     "output_type": "execute_result"
    }
   ],
   "source": [
    "l=f.readlines() #it will read multiple lines and gives output in list\n",
    "l"
   ]
  },
  {
   "cell_type": "code",
   "execution_count": 66,
   "id": "ba89110c",
   "metadata": {},
   "outputs": [
    {
     "name": "stdout",
     "output_type": "stream",
     "text": [
      "['hii python core.', 'we are studying file handling', 'we have four operations in file handling...!!!!']\n"
     ]
    }
   ],
   "source": [
    "l1=[]\n",
    "for i in l:\n",
    "    s=i.replace(\"\\n\",\"\")\n",
    "    l1.append(s)\n",
    "print(l1)"
   ]
  },
  {
   "cell_type": "markdown",
   "id": "ab092260",
   "metadata": {},
   "source": [
    "# \"x\"-write()"
   ]
  },
  {
   "cell_type": "markdown",
   "id": "2ee8e707",
   "metadata": {},
   "source": [
    "## it will always open the file in write mode"
   ]
  },
  {
   "cell_type": "code",
   "execution_count": 70,
   "id": "b260018f",
   "metadata": {},
   "outputs": [
    {
     "data": {
      "text/plain": [
       "<_io.TextIOWrapper name='bac.txt' mode='x' encoding='cp1252'>"
      ]
     },
     "execution_count": 70,
     "metadata": {},
     "output_type": "execute_result"
    }
   ],
   "source": [
    "f=open(\"bac.txt\",\"x\")\n",
    "f"
   ]
  },
  {
   "cell_type": "code",
   "execution_count": 71,
   "id": "8892f109",
   "metadata": {},
   "outputs": [
    {
     "ename": "FileExistsError",
     "evalue": "[Errno 17] File exists: 'bac.txt'",
     "output_type": "error",
     "traceback": [
      "\u001b[1;31m---------------------------------------------------------------------------\u001b[0m",
      "\u001b[1;31mFileExistsError\u001b[0m                           Traceback (most recent call last)",
      "Input \u001b[1;32mIn [71]\u001b[0m, in \u001b[0;36m<cell line: 1>\u001b[1;34m()\u001b[0m\n\u001b[1;32m----> 1\u001b[0m f\u001b[38;5;241m=\u001b[39m\u001b[38;5;28;43mopen\u001b[39;49m\u001b[43m(\u001b[49m\u001b[38;5;124;43m\"\u001b[39;49m\u001b[38;5;124;43mbac.txt\u001b[39;49m\u001b[38;5;124;43m\"\u001b[39;49m\u001b[43m,\u001b[49m\u001b[38;5;124;43m\"\u001b[39;49m\u001b[38;5;124;43mx\u001b[39;49m\u001b[38;5;124;43m\"\u001b[39;49m\u001b[43m)\u001b[49m\n\u001b[0;32m      2\u001b[0m f\n",
      "\u001b[1;31mFileExistsError\u001b[0m: [Errno 17] File exists: 'bac.txt'"
     ]
    }
   ],
   "source": [
    "f=open(\"bac.txt\",\"x\")\n",
    "f"
   ]
  },
  {
   "cell_type": "code",
   "execution_count": 72,
   "id": "e6ceba1f",
   "metadata": {},
   "outputs": [
    {
     "data": {
      "text/plain": [
       "<_io.TextIOWrapper name='baccc.txt' mode='x' encoding='cp1252'>"
      ]
     },
     "execution_count": 72,
     "metadata": {},
     "output_type": "execute_result"
    }
   ],
   "source": [
    "f=open(\"baccc.txt\",\"x\")\n",
    "f"
   ]
  },
  {
   "cell_type": "code",
   "execution_count": 73,
   "id": "79cdf2df",
   "metadata": {},
   "outputs": [
    {
     "data": {
      "text/plain": [
       "24"
      ]
     },
     "execution_count": 73,
     "metadata": {},
     "output_type": "execute_result"
    }
   ],
   "source": [
    "f.write(\"hello hi how r u byeeeee\")\n"
   ]
  },
  {
   "cell_type": "code",
   "execution_count": 74,
   "id": "9df477fd",
   "metadata": {},
   "outputs": [
    {
     "data": {
      "text/plain": [
       "24"
      ]
     },
     "execution_count": 74,
     "metadata": {},
     "output_type": "execute_result"
    }
   ],
   "source": [
    "f.tell() #tells where the file pointer is"
   ]
  },
  {
   "cell_type": "code",
   "execution_count": 75,
   "id": "28eef0e7",
   "metadata": {},
   "outputs": [
    {
     "ename": "UnsupportedOperation",
     "evalue": "not readable",
     "output_type": "error",
     "traceback": [
      "\u001b[1;31m---------------------------------------------------------------------------\u001b[0m",
      "\u001b[1;31mUnsupportedOperation\u001b[0m                      Traceback (most recent call last)",
      "Input \u001b[1;32mIn [75]\u001b[0m, in \u001b[0;36m<cell line: 1>\u001b[1;34m()\u001b[0m\n\u001b[1;32m----> 1\u001b[0m \u001b[43mf\u001b[49m\u001b[38;5;241;43m.\u001b[39;49m\u001b[43mread\u001b[49m\u001b[43m(\u001b[49m\u001b[43m)\u001b[49m\n",
      "\u001b[1;31mUnsupportedOperation\u001b[0m: not readable"
     ]
    }
   ],
   "source": [
    "f.read() #file is in write mode"
   ]
  },
  {
   "cell_type": "code",
   "execution_count": 76,
   "id": "e0e2a8d4",
   "metadata": {},
   "outputs": [
    {
     "data": {
      "text/plain": [
       "17"
      ]
     },
     "execution_count": 76,
     "metadata": {},
     "output_type": "execute_result"
    }
   ],
   "source": [
    "f.write(\"   python core yeahh\")"
   ]
  },
  {
   "cell_type": "code",
   "execution_count": 78,
   "id": "72942b6c",
   "metadata": {},
   "outputs": [
    {
     "data": {
      "text/plain": [
       "41"
      ]
     },
     "execution_count": 78,
     "metadata": {},
     "output_type": "execute_result"
    }
   ],
   "source": [
    "f.tell()"
   ]
  },
  {
   "cell_type": "markdown",
   "id": "61207c3f",
   "metadata": {},
   "source": [
    "# write operation"
   ]
  },
  {
   "cell_type": "code",
   "execution_count": 1,
   "id": "28737b38",
   "metadata": {},
   "outputs": [
    {
     "data": {
      "text/plain": [
       "<_io.TextIOWrapper name='m1.txt' mode='w' encoding='cp1252'>"
      ]
     },
     "execution_count": 1,
     "metadata": {},
     "output_type": "execute_result"
    }
   ],
   "source": [
    "f=open(\"m1.txt\",\"w\")\n",
    "f"
   ]
  },
  {
   "cell_type": "code",
   "execution_count": 2,
   "id": "44b4e512",
   "metadata": {},
   "outputs": [],
   "source": [
    "f.write(\"hello mates \\n hope u all r doing good...!!!\")\n",
    "f.write(\"whats ur plan for diwali..??\")\n",
    "f.close()"
   ]
  },
  {
   "cell_type": "code",
   "execution_count": 3,
   "id": "be89e4bb",
   "metadata": {},
   "outputs": [
    {
     "data": {
      "text/plain": [
       "<_io.TextIOWrapper name='m1.txt' mode='w' encoding='cp1252'>"
      ]
     },
     "execution_count": 3,
     "metadata": {},
     "output_type": "execute_result"
    }
   ],
   "source": [
    "# to write again after execution u need to open it again\n",
    "f=open(\"m1.txt\",\"w\")\n",
    "f"
   ]
  },
  {
   "cell_type": "markdown",
   "id": "c71cf319",
   "metadata": {},
   "source": [
    "# for one time only use write mode and to write multiple times, open file in append mode"
   ]
  },
  {
   "cell_type": "code",
   "execution_count": 4,
   "id": "7356d17a",
   "metadata": {},
   "outputs": [],
   "source": [
    "f.write(\"noting as of know...!!!\") \n",
    "f.write(\"what about you??\")\n",
    "f.close()"
   ]
  },
  {
   "cell_type": "markdown",
   "id": "8eafd6f7",
   "metadata": {},
   "source": [
    "# append "
   ]
  },
  {
   "cell_type": "code",
   "execution_count": 10,
   "id": "3aa9fd1f",
   "metadata": {},
   "outputs": [
    {
     "data": {
      "text/plain": [
       "<_io.TextIOWrapper name='m1.txt' mode='a' encoding='cp1252'>"
      ]
     },
     "execution_count": 10,
     "metadata": {},
     "output_type": "execute_result"
    }
   ],
   "source": [
    "f=open(\"m1.txt\",\"a\")\n",
    "f"
   ]
  },
  {
   "cell_type": "code",
   "execution_count": 11,
   "id": "5600ffc1",
   "metadata": {},
   "outputs": [],
   "source": [
    "f.write(\" \\n python core is interesting...\")\n",
    "f.close()"
   ]
  },
  {
   "cell_type": "code",
   "execution_count": 12,
   "id": "acdf408a",
   "metadata": {},
   "outputs": [
    {
     "data": {
      "text/plain": [
       "<_io.TextIOWrapper name='m1.txt' mode='a' encoding='cp1252'>"
      ]
     },
     "execution_count": 12,
     "metadata": {},
     "output_type": "execute_result"
    }
   ],
   "source": [
    "f=open(\"m1.txt\",\"a\")\n",
    "f"
   ]
  },
  {
   "cell_type": "code",
   "execution_count": 13,
   "id": "805767ea",
   "metadata": {},
   "outputs": [
    {
     "data": {
      "text/plain": [
       "101"
      ]
     },
     "execution_count": 13,
     "metadata": {},
     "output_type": "execute_result"
    }
   ],
   "source": [
    "f.tell()"
   ]
  },
  {
   "cell_type": "code",
   "execution_count": 15,
   "id": "400182ff",
   "metadata": {},
   "outputs": [
    {
     "ename": "UnsupportedOperation",
     "evalue": "not readable",
     "output_type": "error",
     "traceback": [
      "\u001b[1;31m---------------------------------------------------------------------------\u001b[0m",
      "\u001b[1;31mUnsupportedOperation\u001b[0m                      Traceback (most recent call last)",
      "Input \u001b[1;32mIn [15]\u001b[0m, in \u001b[0;36m<cell line: 1>\u001b[1;34m()\u001b[0m\n\u001b[1;32m----> 1\u001b[0m \u001b[43mf\u001b[49m\u001b[38;5;241;43m.\u001b[39;49m\u001b[43mread\u001b[49m\u001b[43m(\u001b[49m\u001b[43m)\u001b[49m\n",
      "\u001b[1;31mUnsupportedOperation\u001b[0m: not readable"
     ]
    }
   ],
   "source": [
    "f.read() # in append mode we cannot read, only we are able to write"
   ]
  },
  {
   "cell_type": "code",
   "execution_count": 17,
   "id": "174dbecc",
   "metadata": {},
   "outputs": [
    {
     "data": {
      "text/plain": [
       "0"
      ]
     },
     "execution_count": 17,
     "metadata": {},
     "output_type": "execute_result"
    }
   ],
   "source": [
    "f.seek(0)"
   ]
  },
  {
   "cell_type": "code",
   "execution_count": 18,
   "id": "4a7e31d0",
   "metadata": {},
   "outputs": [],
   "source": [
    "f.write(\"\\n Data Science\")\n",
    "f.close() #it appended on the last so seek does not workon append function"
   ]
  },
  {
   "cell_type": "markdown",
   "id": "c3f3d249",
   "metadata": {},
   "source": [
    "### a+ signifies we are able to read and write a file both in single mode"
   ]
  },
  {
   "cell_type": "code",
   "execution_count": 19,
   "id": "0e47075e",
   "metadata": {},
   "outputs": [
    {
     "data": {
      "text/plain": [
       "<_io.TextIOWrapper name='m1.txt' mode='a+' encoding='cp1252'>"
      ]
     },
     "execution_count": 19,
     "metadata": {},
     "output_type": "execute_result"
    }
   ],
   "source": [
    "f=open(\"m1.txt\",\"a+\")\n",
    "f"
   ]
  },
  {
   "cell_type": "code",
   "execution_count": 20,
   "id": "e7585451",
   "metadata": {},
   "outputs": [
    {
     "data": {
      "text/plain": [
       "116"
      ]
     },
     "execution_count": 20,
     "metadata": {},
     "output_type": "execute_result"
    }
   ],
   "source": [
    "f.tell()"
   ]
  },
  {
   "cell_type": "code",
   "execution_count": 21,
   "id": "8943256e",
   "metadata": {},
   "outputs": [
    {
     "data": {
      "text/plain": [
       "''"
      ]
     },
     "execution_count": 21,
     "metadata": {},
     "output_type": "execute_result"
    }
   ],
   "source": [
    "f.read() # because pointer is at the last position so nothing to read"
   ]
  },
  {
   "cell_type": "code",
   "execution_count": 23,
   "id": "ead6ed59",
   "metadata": {},
   "outputs": [
    {
     "data": {
      "text/plain": [
       "0"
      ]
     },
     "execution_count": 23,
     "metadata": {},
     "output_type": "execute_result"
    }
   ],
   "source": [
    "f.seek(0)"
   ]
  },
  {
   "cell_type": "code",
   "execution_count": 24,
   "id": "f4bd060b",
   "metadata": {},
   "outputs": [
    {
     "data": {
      "text/plain": [
       "'noting as of know...!!!what about you??python core is interesting... \\n python core is interesting...\\n Data Science'"
      ]
     },
     "execution_count": 24,
     "metadata": {},
     "output_type": "execute_result"
    }
   ],
   "source": [
    "f.read()"
   ]
  },
  {
   "cell_type": "code",
   "execution_count": 25,
   "id": "11cab781",
   "metadata": {},
   "outputs": [
    {
     "data": {
      "text/plain": [
       "116"
      ]
     },
     "execution_count": 25,
     "metadata": {},
     "output_type": "execute_result"
    }
   ],
   "source": [
    "f.tell()"
   ]
  },
  {
   "cell_type": "code",
   "execution_count": 26,
   "id": "44d1ed59",
   "metadata": {},
   "outputs": [],
   "source": [
    "f.write(\"\\n boring---\")\n",
    "f.close()"
   ]
  },
  {
   "cell_type": "markdown",
   "id": "696fa061",
   "metadata": {},
   "source": [
    "# writelines()-write the multiplelineas and gives output in a list"
   ]
  },
  {
   "cell_type": "code",
   "execution_count": 28,
   "id": "898c0f6b",
   "metadata": {},
   "outputs": [
    {
     "data": {
      "text/plain": [
       "<_io.TextIOWrapper name='m1.txt' mode='a+' encoding='cp1252'>"
      ]
     },
     "execution_count": 28,
     "metadata": {},
     "output_type": "execute_result"
    }
   ],
   "source": [
    "f=open(\"m1.txt\",\"a+\")\n",
    "f"
   ]
  },
  {
   "cell_type": "code",
   "execution_count": 29,
   "id": "61a17634",
   "metadata": {},
   "outputs": [],
   "source": [
    "f.writelines([\"hello hii how r u \\n\",\"i m doing good\"])\n",
    "f.close()"
   ]
  },
  {
   "cell_type": "markdown",
   "id": "f28cee34",
   "metadata": {},
   "source": [
    "## wap to take five food items from the user and write it in the file named food and display that food item which is longest in length"
   ]
  },
  {
   "cell_type": "code",
   "execution_count": 36,
   "id": "6bf45c80",
   "metadata": {},
   "outputs": [
    {
     "data": {
      "text/plain": [
       "<_io.TextIOWrapper name='food.txt' mode='a+' encoding='cp1252'>"
      ]
     },
     "execution_count": 36,
     "metadata": {},
     "output_type": "execute_result"
    }
   ],
   "source": [
    "f=open(\"food.txt\",\"a+\")\n",
    "f"
   ]
  },
  {
   "cell_type": "code",
   "execution_count": 37,
   "id": "667f1ff6",
   "metadata": {},
   "outputs": [
    {
     "name": "stdout",
     "output_type": "stream",
     "text": [
      "enter the name of food items--pizza\n",
      "enter the name of food items--pasta\n",
      "enter the name of food items--burger\n",
      "enter the name of food items--fries\n",
      "enter the name of food items--corn\n"
     ]
    }
   ],
   "source": [
    "for i in range(1,6):\n",
    "    food=input(\"enter the name of food items--\")\n",
    "    f.write(food)\n",
    "    f.write(\"\\n\")\n",
    "f.close()"
   ]
  },
  {
   "cell_type": "code",
   "execution_count": 41,
   "id": "1fb4f306",
   "metadata": {},
   "outputs": [
    {
     "data": {
      "text/plain": [
       "<_io.TextIOWrapper name='food.txt' mode='r' encoding='cp1252'>"
      ]
     },
     "execution_count": 41,
     "metadata": {},
     "output_type": "execute_result"
    }
   ],
   "source": [
    "f=open(\"food.txt\",\"r\")\n",
    "f"
   ]
  },
  {
   "cell_type": "code",
   "execution_count": 42,
   "id": "fc2418a5",
   "metadata": {},
   "outputs": [
    {
     "data": {
      "text/plain": [
       "['pizza\\n', 'pasta\\n', 'burger\\n', 'fries\\n', 'corn\\n']"
      ]
     },
     "execution_count": 42,
     "metadata": {},
     "output_type": "execute_result"
    }
   ],
   "source": [
    "l=f.readlines()\n",
    "l"
   ]
  },
  {
   "cell_type": "code",
   "execution_count": 44,
   "id": "f0b86209",
   "metadata": {},
   "outputs": [
    {
     "name": "stdout",
     "output_type": "stream",
     "text": [
      "['pizza', 'pasta', 'burger', 'fries', 'corn']\n"
     ]
    }
   ],
   "source": [
    "l1=[]\n",
    "for i in l:\n",
    "    s=i.replace(\"\\n\",\"\")\n",
    "    l1.append(s)\n",
    "print(l1)"
   ]
  },
  {
   "cell_type": "markdown",
   "id": "32b847d7",
   "metadata": {},
   "source": [
    "# 12/10/22"
   ]
  },
  {
   "cell_type": "markdown",
   "id": "d38c5b75",
   "metadata": {},
   "source": [
    "# r+()"
   ]
  },
  {
   "cell_type": "code",
   "execution_count": 1,
   "id": "4111b3e9",
   "metadata": {},
   "outputs": [
    {
     "data": {
      "text/plain": [
       "<_io.TextIOWrapper name='file_mode.txt' mode='w' encoding='cp1252'>"
      ]
     },
     "execution_count": 1,
     "metadata": {},
     "output_type": "execute_result"
    }
   ],
   "source": [
    "f=open(\"file_mode.txt\",\"w\")\n",
    "f"
   ]
  },
  {
   "cell_type": "code",
   "execution_count": 2,
   "id": "5ca3556a",
   "metadata": {},
   "outputs": [
    {
     "data": {
      "text/plain": [
       "<_io.TextIOWrapper name='file_mode.txt' mode='r+' encoding='cp1252'>"
      ]
     },
     "execution_count": 2,
     "metadata": {},
     "output_type": "execute_result"
    }
   ],
   "source": [
    "f=open(\"file_mode.txt\",\"r+\")\n",
    "f"
   ]
  },
  {
   "cell_type": "code",
   "execution_count": 4,
   "id": "deeb4c4d",
   "metadata": {},
   "outputs": [
    {
     "data": {
      "text/plain": [
       "0"
      ]
     },
     "execution_count": 4,
     "metadata": {},
     "output_type": "execute_result"
    }
   ],
   "source": [
    "f.tell() #in r+ file pointer will be at 0"
   ]
  },
  {
   "cell_type": "code",
   "execution_count": 5,
   "id": "85c08aa0",
   "metadata": {},
   "outputs": [],
   "source": [
    "f.writelines([\"hello hii how r u \\n\",\"i m doing good\"])\n",
    "f.close()"
   ]
  },
  {
   "cell_type": "code",
   "execution_count": 7,
   "id": "a796ab55",
   "metadata": {},
   "outputs": [
    {
     "data": {
      "text/plain": [
       "<_io.TextIOWrapper name='file_mode.txt' mode='r+' encoding='cp1252'>"
      ]
     },
     "execution_count": 7,
     "metadata": {},
     "output_type": "execute_result"
    }
   ],
   "source": [
    "f=open(\"file_mode.txt\",\"r+\")\n",
    "f"
   ]
  },
  {
   "cell_type": "code",
   "execution_count": 8,
   "id": "5bc89f76",
   "metadata": {},
   "outputs": [
    {
     "data": {
      "text/plain": [
       "0"
      ]
     },
     "execution_count": 8,
     "metadata": {},
     "output_type": "execute_result"
    }
   ],
   "source": [
    "f.tell()"
   ]
  },
  {
   "cell_type": "code",
   "execution_count": 9,
   "id": "859e38a1",
   "metadata": {},
   "outputs": [
    {
     "data": {
      "text/plain": [
       "'hello hii how r u \\ni m doing good'"
      ]
     },
     "execution_count": 9,
     "metadata": {},
     "output_type": "execute_result"
    }
   ],
   "source": [
    "f.read()"
   ]
  },
  {
   "cell_type": "code",
   "execution_count": 10,
   "id": "7f642115",
   "metadata": {},
   "outputs": [
    {
     "data": {
      "text/plain": [
       "34"
      ]
     },
     "execution_count": 10,
     "metadata": {},
     "output_type": "execute_result"
    }
   ],
   "source": [
    "f.tell()"
   ]
  },
  {
   "cell_type": "code",
   "execution_count": 11,
   "id": "66fabcfa",
   "metadata": {},
   "outputs": [],
   "source": [
    "f.write(\"batch 10:30\")\n",
    "f.close()"
   ]
  },
  {
   "cell_type": "code",
   "execution_count": 12,
   "id": "a65a502d",
   "metadata": {},
   "outputs": [
    {
     "data": {
      "text/plain": [
       "<_io.TextIOWrapper name='file_mode.txt' mode='r+' encoding='cp1252'>"
      ]
     },
     "execution_count": 12,
     "metadata": {},
     "output_type": "execute_result"
    }
   ],
   "source": [
    "f=open(\"file_mode.txt\",\"r+\")\n",
    "f"
   ]
  },
  {
   "cell_type": "code",
   "execution_count": 13,
   "id": "8f5e8a22",
   "metadata": {},
   "outputs": [
    {
     "data": {
      "text/plain": [
       "5"
      ]
     },
     "execution_count": 13,
     "metadata": {},
     "output_type": "execute_result"
    }
   ],
   "source": [
    "f.seek(5)"
   ]
  },
  {
   "cell_type": "code",
   "execution_count": 14,
   "id": "93f7c995",
   "metadata": {},
   "outputs": [],
   "source": [
    "f.write(\"Data science batch\")\n",
    "f.close()"
   ]
  },
  {
   "cell_type": "markdown",
   "id": "6534c743",
   "metadata": {},
   "source": [
    "# \"x\"mode"
   ]
  },
  {
   "cell_type": "code",
   "execution_count": 15,
   "id": "1bcb66dc",
   "metadata": {},
   "outputs": [],
   "source": [
    "f=open(\"file1.txt\",\"x\")\n",
    "f.write(\"hello rupanshi \\n\")\n",
    "f.close()"
   ]
  },
  {
   "cell_type": "markdown",
   "id": "32d06b8e",
   "metadata": {},
   "source": [
    "# with open() instead of open"
   ]
  },
  {
   "cell_type": "code",
   "execution_count": 17,
   "id": "9cc46521",
   "metadata": {},
   "outputs": [
    {
     "name": "stdout",
     "output_type": "stream",
     "text": [
      "hello rupanshi \n",
      "\n"
     ]
    }
   ],
   "source": [
    "with open(\"file1.txt\") as f: #f is alias with read mode by default\n",
    "    print(f.read())"
   ]
  },
  {
   "cell_type": "markdown",
   "id": "3a64362f",
   "metadata": {},
   "source": [
    "## wap to read the line numbers of the file as per the user"
   ]
  },
  {
   "cell_type": "code",
   "execution_count": 18,
   "id": "b19b2d16",
   "metadata": {},
   "outputs": [
    {
     "data": {
      "text/plain": [
       "<_io.TextIOWrapper name='linenumber.txt' mode='w' encoding='cp1252'>"
      ]
     },
     "execution_count": 18,
     "metadata": {},
     "output_type": "execute_result"
    }
   ],
   "source": [
    "f=open(\"linenumber.txt\",\"w\")\n",
    "f"
   ]
  },
  {
   "cell_type": "code",
   "execution_count": 19,
   "id": "f6ed89b8",
   "metadata": {},
   "outputs": [],
   "source": [
    "f.write(\"python is mandatory course \\n\")\n",
    "f.write(\"python is boring\\n\")\n",
    "f.write(\"python is interesting\\n\")\n",
    "f.write(\"python is base language for data science\\n\")\n",
    "f.write(\"python is most demanding language rn\")\n",
    "f.close()"
   ]
  },
  {
   "cell_type": "code",
   "execution_count": 21,
   "id": "491175d1",
   "metadata": {},
   "outputs": [
    {
     "name": "stdout",
     "output_type": "stream",
     "text": [
      "enter the line number--3\n",
      "python is interesting\n",
      "\n"
     ]
    }
   ],
   "source": [
    "linenumber=int(input(\"enter the line number--\"))\n",
    "ln=0\n",
    "f=open(\"linenumber.txt\",\"r\")\n",
    "for i in f:\n",
    "    ln=ln+1\n",
    "    if ln==linenumber:\n",
    "        print(i)\n",
    "        break\n",
    "    "
   ]
  },
  {
   "cell_type": "markdown",
   "id": "ce8fa149",
   "metadata": {},
   "source": [
    "## wap to add food items in the file if that items is not present in the file"
   ]
  },
  {
   "cell_type": "code",
   "execution_count": 22,
   "id": "39166f96",
   "metadata": {},
   "outputs": [
    {
     "data": {
      "text/plain": [
       "<_io.TextIOWrapper name='food.txt' mode='r' encoding='cp1252'>"
      ]
     },
     "execution_count": 22,
     "metadata": {},
     "output_type": "execute_result"
    }
   ],
   "source": [
    "f=open(\"food.txt\")\n",
    "f"
   ]
  },
  {
   "cell_type": "code",
   "execution_count": 23,
   "id": "b75f92bd",
   "metadata": {},
   "outputs": [
    {
     "data": {
      "text/plain": [
       "'pizza\\npasta\\nburger\\nfries\\ncorn\\n'"
      ]
     },
     "execution_count": 23,
     "metadata": {},
     "output_type": "execute_result"
    }
   ],
   "source": [
    "f.read()"
   ]
  },
  {
   "cell_type": "code",
   "execution_count": 39,
   "id": "508b3308",
   "metadata": {},
   "outputs": [
    {
     "name": "stdout",
     "output_type": "stream",
     "text": [
      "enter the food item--burger\n",
      "['pizza', 'pasta', 'burger', 'fries', 'corn', 'pizza', 'pizza', 'cake', 'chips', 'yoo', 'yoo', 'yoooo', 'pizza', 'chai']\n",
      "this items is already present\n"
     ]
    }
   ],
   "source": [
    "food1=input(\"enter the food item--\")\n",
    "f=open(\"food.txt\",\"r+\")\n",
    "food1_items=[]\n",
    "food_items=f.readlines()\n",
    "#print(food_items) # --to check\n",
    "for k in food_items:\n",
    "    k1=k.replace(\"\\n\",\"\")\n",
    "    food1_items.append(k1)\n",
    "print(food1_items)\n",
    "if food1 in food1_items:\n",
    "    print(\"this items is already present\")\n",
    "else:\n",
    "    f.write(food1)\n",
    "    f.write(\"\\n\")\n",
    "    f.close()"
   ]
  },
  {
   "cell_type": "code",
   "execution_count": 40,
   "id": "3bcbb7e2",
   "metadata": {},
   "outputs": [
    {
     "name": "stdout",
     "output_type": "stream",
     "text": [
      "pizza\n",
      "pasta\n",
      "burger\n",
      "fries\n",
      "corn\n",
      "pizza\n",
      "pizza\n",
      "cake\n",
      "chips\n",
      "yoo\n",
      "yoo\n",
      "yoooo\n",
      "pizza\n",
      "chai\n",
      "\n"
     ]
    }
   ],
   "source": [
    "f=open(\"food.txt\",\"r+\")\n",
    "print(f.read())"
   ]
  },
  {
   "cell_type": "markdown",
   "id": "2296a0c7",
   "metadata": {},
   "source": [
    "## wap to read the corresponding line of both the files"
   ]
  },
  {
   "cell_type": "code",
   "execution_count": 3,
   "id": "02c71509",
   "metadata": {},
   "outputs": [],
   "source": [
    "f1=open(\"sports1.txt\",\"r+\")\n",
    "f1.writelines([\"virat kohli \\n MS Dhoni \\n Shubhman Gill\"])\n"
   ]
  },
  {
   "cell_type": "code",
   "execution_count": 4,
   "id": "18eee02d",
   "metadata": {},
   "outputs": [
    {
     "data": {
      "text/plain": [
       "['virat kohli \\n', ' MS Dhoni \\n', ' Shubhman Gill\\n']"
      ]
     },
     "execution_count": 4,
     "metadata": {},
     "output_type": "execute_result"
    }
   ],
   "source": [
    "f1.readlines()"
   ]
  },
  {
   "cell_type": "code",
   "execution_count": 6,
   "id": "f6fd47ba",
   "metadata": {},
   "outputs": [],
   "source": [
    "f2=open(\"sports2.txt\",\"r+\")\n",
    "f2.writelines([\"SKY \\n Rishab Pant\\n Shreyas Iyer\"])\n"
   ]
  },
  {
   "cell_type": "code",
   "execution_count": 7,
   "id": "27454dfe",
   "metadata": {},
   "outputs": [
    {
     "data": {
      "text/plain": [
       "['SKY \\n', ' Rishab Pant\\n', ' Shreyas Iyer \\n']"
      ]
     },
     "execution_count": 7,
     "metadata": {},
     "output_type": "execute_result"
    }
   ],
   "source": [
    "f2.readlines()"
   ]
  },
  {
   "cell_type": "code",
   "execution_count": 9,
   "id": "c7249581",
   "metadata": {},
   "outputs": [
    {
     "name": "stdout",
     "output_type": "stream",
     "text": [
      "['virat kohli \\n', ' MS Dhoni \\n', ' Shubhman Gill\\n', 'virat kohli \\n', ' MS Dhoni \\n', ' Shubhman Gill']\n",
      "['SKY \\n', ' Rishab Pant\\n', ' Shreyas Iyer \\n', 'SKY \\n', ' Rishab Pant\\n', ' Shreyas Iyer']\n"
     ]
    },
    {
     "data": {
      "text/plain": [
       "{'virat kohli \\n': 'SKY \\n',\n",
       " ' MS Dhoni \\n': ' Rishab Pant\\n',\n",
       " ' Shubhman Gill\\n': ' Shreyas Iyer \\n',\n",
       " ' Shubhman Gill': ' Shreyas Iyer'}"
      ]
     },
     "execution_count": 9,
     "metadata": {},
     "output_type": "execute_result"
    }
   ],
   "source": [
    "f1=open(\"sports1.txt\",\"r\")\n",
    "f2=open(\"sports2.txt\",\"r\")\n",
    "l1=f1.readlines()\n",
    "print(l1)\n",
    "l2=f2.readlines()\n",
    "print(l2)\n",
    "dict(zip(l1,l2))\n",
    "#list(zip(l1,l2))"
   ]
  },
  {
   "cell_type": "code",
   "execution_count": 69,
   "id": "8ca14dea",
   "metadata": {},
   "outputs": [
    {
     "data": {
      "text/plain": [
       "<_io.TextIOWrapper name='boring.doc' mode='w' encoding='cp1252'>"
      ]
     },
     "execution_count": 69,
     "metadata": {},
     "output_type": "execute_result"
    }
   ],
   "source": [
    "file=open(\"boring.doc\",\"w\")\n",
    "file"
   ]
  },
  {
   "cell_type": "code",
   "execution_count": 73,
   "id": "39f4f9b7",
   "metadata": {},
   "outputs": [],
   "source": [
    "file.write(\"noooo\")\n",
    "file.close()"
   ]
  },
  {
   "cell_type": "code",
   "execution_count": 90,
   "id": "d25086fc",
   "metadata": {},
   "outputs": [],
   "source": [
    "f=open(\"rup.txt\",\"w\")\n",
    "f\n",
    "f.write(\"yup\")\n",
    "f.close()"
   ]
  },
  {
   "cell_type": "code",
   "execution_count": 4,
   "id": "85786579",
   "metadata": {},
   "outputs": [
    {
     "name": "stdout",
     "output_type": "stream",
     "text": [
      "File Name: rup.txt\n",
      "File Mode: w\n",
      "is file readable: False\n",
      "is file writable: True\n",
      "is file close: None\n",
      "is file closed: True\n"
     ]
    }
   ],
   "source": [
    "f=open(\"rup.txt\",\"w\")\n",
    "print(\"File Name:\",f.name)\n",
    "print(\"File Mode:\",f.mode)\n",
    "print(\"is file readable:\",f.readable())\n",
    "print(\"is file writable:\",f.writable())\n",
    "print(\"is file close:\",f.close())\n",
    "f.close()\n",
    "print(\"is file closed:\",f.closed)"
   ]
  },
  {
   "cell_type": "markdown",
   "id": "4cbec1c0",
   "metadata": {},
   "source": [
    "### homework-12/10/2022"
   ]
  },
  {
   "cell_type": "code",
   "execution_count": 7,
   "id": "7df9ec86",
   "metadata": {},
   "outputs": [
    {
     "name": "stdout",
     "output_type": "stream",
     "text": [
      "enter the first name--jitender\n",
      "enter the last name--kumar\n",
      "enter the phone number9811064181\n",
      "enter the first name--mamta\n",
      "enter the last name--devi\n",
      "enter the phone number8287845293\n",
      "enter the first name--priyanka\n",
      "enter the last name--rana\n",
      "enter the phone number7982182420\n",
      "enter the first name--rupanshi\n",
      "enter the last name--rana\n",
      "enter the phone number7982863466\n",
      "enter the first name--yash\n",
      "enter the last name--rana\n",
      "enter the phone number9953962699\n"
     ]
    }
   ],
   "source": [
    "f=open(\"count.txt\",\"w\")\n",
    "f.write(\"firstname--,lastname--,phonenumber--\")\n",
    "f.write(\"\\n\")\n",
    "for i in range(5):\n",
    "    f.write(input(\"enter the first name--\"))\n",
    "    f.write(\",\")\n",
    "    f.write(input(\"enter the last name--\"))\n",
    "    f.write(\",\")\n",
    "    f.write(input(\"enter the phone number\"))\n",
    "    f.write(\"\\n\")\n",
    "f.close()"
   ]
  },
  {
   "cell_type": "markdown",
   "id": "b8c2a9a4",
   "metadata": {},
   "source": [
    "## wap to count the frequency of each word in the file"
   ]
  },
  {
   "cell_type": "code",
   "execution_count": 70,
   "id": "5c8085a8",
   "metadata": {},
   "outputs": [
    {
     "data": {
      "text/plain": [
       "'pizza\\npasta\\nburger\\nfries\\ncorn\\npizza\\npizza\\ncake\\nchips\\nyoo\\nyoo\\nyoooo\\npizza\\nchai\\nwassup homies\\nwhat do u want to eat today'"
      ]
     },
     "execution_count": 70,
     "metadata": {},
     "output_type": "execute_result"
    }
   ],
   "source": [
    "f1=open(\"food.txt\",\"r\")\n",
    "f1.read()"
   ]
  },
  {
   "cell_type": "code",
   "execution_count": 72,
   "id": "af0e0d35",
   "metadata": {},
   "outputs": [],
   "source": [
    "f1=open(\"food.txt\",\"r\")"
   ]
  },
  {
   "cell_type": "code",
   "execution_count": 73,
   "id": "02fe1bd2",
   "metadata": {},
   "outputs": [
    {
     "name": "stdout",
     "output_type": "stream",
     "text": [
      "pizza\n",
      "\n",
      "pasta\n",
      "\n",
      "burger\n",
      "\n",
      "fries\n",
      "\n",
      "corn\n",
      "\n",
      "pizza\n",
      "\n",
      "pizza\n",
      "\n",
      "cake\n",
      "\n",
      "chips\n",
      "\n",
      "yoo\n",
      "\n",
      "yoo\n",
      "\n",
      "yoooo\n",
      "\n",
      "pizza\n",
      "\n",
      "chai\n",
      "\n",
      "wassup homies\n",
      "\n",
      "what do u want to eat today\n",
      "['pizza\\n', 'pasta\\n', 'burger\\n', 'fries\\n', 'corn\\n', 'pizza\\n', 'pizza\\n', 'cake\\n', 'chips\\n', 'yoo\\n', 'yoo\\n', 'yoooo\\n', 'pizza\\n', 'chai\\n', 'wassup homies\\n', 'what do u want to eat today']\n"
     ]
    }
   ],
   "source": [
    "l=[]\n",
    "for i in f1:\n",
    "    print(i)\n",
    "    l.append(i)\n",
    "print(l)"
   ]
  },
  {
   "cell_type": "code",
   "execution_count": 74,
   "id": "86c461ec",
   "metadata": {},
   "outputs": [
    {
     "name": "stdout",
     "output_type": "stream",
     "text": [
      "[['pizza\\n'], ['pasta\\n'], ['burger\\n'], ['fries\\n'], ['corn\\n'], ['pizza\\n'], ['pizza\\n'], ['cake\\n'], ['chips\\n'], ['yoo\\n'], ['yoo\\n'], ['yoooo\\n'], ['pizza\\n'], ['chai\\n'], ['wassup', 'homies\\n'], ['what', 'do', 'u', 'want', 'to', 'eat', 'today']]\n"
     ]
    }
   ],
   "source": [
    "l1=[]\n",
    "for j in l:\n",
    "    l1.append(j.split(\" \"))\n",
    "print(l1)"
   ]
  },
  {
   "cell_type": "code",
   "execution_count": 75,
   "id": "808c9876",
   "metadata": {},
   "outputs": [
    {
     "name": "stdout",
     "output_type": "stream",
     "text": [
      "['pizza\\n', 'pasta\\n', 'burger\\n', 'fries\\n', 'corn\\n', 'pizza\\n', 'pizza\\n', 'cake\\n', 'chips\\n', 'yoo\\n', 'yoo\\n', 'yoooo\\n', 'pizza\\n', 'chai\\n', 'wassup', 'homies\\n', 'what', 'do', 'u', 'want', 'to', 'eat', 'today']\n"
     ]
    }
   ],
   "source": [
    "l2=[]\n",
    "for k in l1:\n",
    "    for k1 in k:\n",
    "        l2.append(k1)\n",
    "print(l2)"
   ]
  },
  {
   "cell_type": "code",
   "execution_count": 76,
   "id": "909b52b9",
   "metadata": {},
   "outputs": [
    {
     "name": "stdout",
     "output_type": "stream",
     "text": [
      "['pizza', 'pasta', 'burger', 'fries', 'corn', 'pizza', 'pizza', 'cake', 'chips', 'yoo', 'yoo', 'yoooo', 'pizza', 'chai', 'wassup', 'homies', 'what', 'do', 'u', 'want', 'to', 'eat', 'today']\n"
     ]
    }
   ],
   "source": [
    "l=[]\n",
    "for i in l2:\n",
    "    s=i.replace(\"\\n\",\"\")\n",
    "    l.append(s)\n",
    "print(l)"
   ]
  },
  {
   "cell_type": "code",
   "execution_count": 77,
   "id": "30f4b6e5",
   "metadata": {},
   "outputs": [
    {
     "name": "stdout",
     "output_type": "stream",
     "text": [
      "Counter({'pizza': 4, 'yoo': 2, 'pasta': 1, 'burger': 1, 'fries': 1, 'corn': 1, 'cake': 1, 'chips': 1, 'yoooo': 1, 'chai': 1, 'wassup': 1, 'homies': 1, 'what': 1, 'do': 1, 'u': 1, 'want': 1, 'to': 1, 'eat': 1, 'today': 1})\n"
     ]
    }
   ],
   "source": [
    "from collections import Counter\n",
    "print(Counter(l))"
   ]
  }
 ],
 "metadata": {
  "kernelspec": {
   "display_name": "Python 3 (ipykernel)",
   "language": "python",
   "name": "python3"
  },
  "language_info": {
   "codemirror_mode": {
    "name": "ipython",
    "version": 3
   },
   "file_extension": ".py",
   "mimetype": "text/x-python",
   "name": "python",
   "nbconvert_exporter": "python",
   "pygments_lexer": "ipython3",
   "version": "3.9.12"
  }
 },
 "nbformat": 4,
 "nbformat_minor": 5
}
