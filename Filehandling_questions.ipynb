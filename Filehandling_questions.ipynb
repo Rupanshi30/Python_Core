{
 "cells": [
  {
   "cell_type": "code",
   "execution_count": 1,
   "id": "47bbea9d",
   "metadata": {},
   "outputs": [
    {
     "name": "stdout",
     "output_type": "stream",
     "text": [
      "enter the first namerupanshi\n",
      "enter the last namerana\n",
      "enter the phonenumber768902121\n",
      "enter the first namepriyanka\n",
      "enter the last namerana\n",
      "enter the phonenumber34567890\n",
      "enter the first nameyash\n",
      "enter the last namerana\n",
      "enter the phonenumber234567890\n",
      "enter the first namejitender\n",
      "enter the last namekumar\n",
      "enter the phonenumber234567890\n"
     ]
    }
   ],
   "source": [
    "f=open(\"data12.txt\",\"w\")\n",
    "f.write(\"firstname,lastname,phonenumber\")\n",
    "f.write(\"\\n\")\n",
    "for i in range(1,5):\n",
    "    f.write(input(\"enter the first name\"))\n",
    "    f.write(\",\")\n",
    "    f.write(input(\"enter the last name\"))\n",
    "    f.write(\",\")\n",
    "    f.write(input(\"enter the phonenumber\"))\n",
    "    f.write(\"\\n\")\n",
    "f.close()\n",
    "    \n",
    "    "
   ]
  },
  {
   "cell_type": "markdown",
   "id": "67d9ccc1",
   "metadata": {},
   "source": [
    "## count the frequency"
   ]
  },
  {
   "cell_type": "code",
   "execution_count": 2,
   "id": "53b47bcf",
   "metadata": {},
   "outputs": [
    {
     "name": "stdout",
     "output_type": "stream",
     "text": [
      "enter the contenthello python \n",
      "enter the contenthii python\n",
      "enter the contentpython data science\n",
      "enter the contentdata analytics\n"
     ]
    }
   ],
   "source": [
    "f=open(\"count.txt\",\"w\")\n",
    "for i in range(1,5):\n",
    "    c=input(\"enter the content\")\n",
    "    f.write(c)\n",
    "    f.write(\"\\n\")\n",
    "f.close()"
   ]
  },
  {
   "cell_type": "code",
   "execution_count": 3,
   "id": "4d770825",
   "metadata": {},
   "outputs": [],
   "source": [
    "f=open(\"count.txt\",\"r\")\n"
   ]
  },
  {
   "cell_type": "code",
   "execution_count": 4,
   "id": "84894064",
   "metadata": {},
   "outputs": [
    {
     "name": "stdout",
     "output_type": "stream",
     "text": [
      "['hello python \\n', 'hii python\\n', 'python data science\\n', 'data analytics\\n']\n"
     ]
    }
   ],
   "source": [
    "l=f.readlines()\n",
    "print(l)"
   ]
  },
  {
   "cell_type": "code",
   "execution_count": 5,
   "id": "c55d35b0",
   "metadata": {},
   "outputs": [
    {
     "name": "stdout",
     "output_type": "stream",
     "text": [
      "['hello python ', 'hii python', 'python data science', 'data analytics']\n"
     ]
    }
   ],
   "source": [
    "l1=[]\n",
    "for i in l:\n",
    "    s=i.replace(\"\\n\",\"\")\n",
    "    l1.append(s)\n",
    "print(l1)"
   ]
  },
  {
   "cell_type": "code",
   "execution_count": 6,
   "id": "c54b89d0",
   "metadata": {},
   "outputs": [
    {
     "data": {
      "text/plain": [
       "[['hello', 'python', ''],\n",
       " ['hii', 'python'],\n",
       " ['python', 'data', 'science'],\n",
       " ['data', 'analytics']]"
      ]
     },
     "execution_count": 6,
     "metadata": {},
     "output_type": "execute_result"
    }
   ],
   "source": [
    "word=[]\n",
    "main=[]\n",
    "for i in l1:\n",
    "    word=i.split(\" \")\n",
    "    main.append(word)\n",
    "main"
   ]
  },
  {
   "cell_type": "code",
   "execution_count": 8,
   "id": "8b81790b",
   "metadata": {},
   "outputs": [
    {
     "name": "stdout",
     "output_type": "stream",
     "text": [
      "['hello', 'python', '', 'hii', 'python', 'python', 'data', 'science', 'data', 'analytics']\n"
     ]
    },
    {
     "data": {
      "text/plain": [
       "Counter({'hello': 1,\n",
       "         'python': 3,\n",
       "         '': 1,\n",
       "         'hii': 1,\n",
       "         'data': 2,\n",
       "         'science': 1,\n",
       "         'analytics': 1})"
      ]
     },
     "execution_count": 8,
     "metadata": {},
     "output_type": "execute_result"
    }
   ],
   "source": [
    "mainword=[]\n",
    "for i in main:\n",
    "    for j in i:\n",
    "        mainword.append(j)\n",
    "print(mainword)\n",
    "from collections import Counter\n",
    "Counter(mainword)"
   ]
  },
  {
   "cell_type": "code",
   "execution_count": null,
   "id": "6f94f4e2",
   "metadata": {},
   "outputs": [],
   "source": []
  }
 ],
 "metadata": {
  "kernelspec": {
   "display_name": "Python 3 (ipykernel)",
   "language": "python",
   "name": "python3"
  },
  "language_info": {
   "codemirror_mode": {
    "name": "ipython",
    "version": 3
   },
   "file_extension": ".py",
   "mimetype": "text/x-python",
   "name": "python",
   "nbconvert_exporter": "python",
   "pygments_lexer": "ipython3",
   "version": "3.9.12"
  }
 },
 "nbformat": 4,
 "nbformat_minor": 5
}
