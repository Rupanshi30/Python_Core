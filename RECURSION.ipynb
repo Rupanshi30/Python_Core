{
 "cells": [
  {
   "cell_type": "markdown",
   "id": "04802e04",
   "metadata": {},
   "source": [
    "### Local scope"
   ]
  },
  {
   "cell_type": "code",
   "execution_count": 1,
   "id": "60028cbd",
   "metadata": {},
   "outputs": [
    {
     "name": "stdout",
     "output_type": "stream",
     "text": [
      "300\n"
     ]
    }
   ],
   "source": [
    "def myfunc():\n",
    "  x = 300\n",
    "  print(x)\n",
    "\n",
    "myfunc()"
   ]
  },
  {
   "cell_type": "code",
   "execution_count": 3,
   "id": "00c9f23e",
   "metadata": {},
   "outputs": [
    {
     "name": "stdout",
     "output_type": "stream",
     "text": [
      "300\n"
     ]
    }
   ],
   "source": [
    "def myfunc():\n",
    "  x = 300\n",
    "  print(x)\n",
    "\n",
    "myfunc()\n",
    "#print(x)  ### since x is local so we can't access it here."
   ]
  },
  {
   "cell_type": "code",
   "execution_count": 4,
   "id": "e82cad55",
   "metadata": {},
   "outputs": [
    {
     "name": "stdout",
     "output_type": "stream",
     "text": [
      "300\n"
     ]
    }
   ],
   "source": [
    "### The local variable can be accessed from a function within the function:\n",
    "\n",
    "def myfunc():\n",
    "  x = 300\n",
    "  def myinnerfunc():\n",
    "    print(x)\n",
    "  myinnerfunc()\n",
    "\n",
    "myfunc()"
   ]
  },
  {
   "cell_type": "markdown",
   "id": "22489f6c",
   "metadata": {},
   "source": [
    "### Global "
   ]
  },
  {
   "cell_type": "code",
   "execution_count": 5,
   "id": "c441193a",
   "metadata": {},
   "outputs": [
    {
     "name": "stdout",
     "output_type": "stream",
     "text": [
      "300\n",
      "300\n"
     ]
    }
   ],
   "source": [
    "x = 300\n",
    "\n",
    "def myfunc():\n",
    "  print(x)\n",
    "\n",
    "myfunc()\n",
    "\n",
    "print(x)"
   ]
  },
  {
   "cell_type": "markdown",
   "id": "6bfba935",
   "metadata": {},
   "source": [
    "#### The following  function will print the local x, and then the code will print the global x:"
   ]
  },
  {
   "cell_type": "code",
   "execution_count": 6,
   "id": "97abc2c3",
   "metadata": {},
   "outputs": [
    {
     "name": "stdout",
     "output_type": "stream",
     "text": [
      "200\n",
      "300\n"
     ]
    }
   ],
   "source": [
    "x = 300\n",
    "\n",
    "def myfunc():\n",
    "  x = 200\n",
    "  print(x)\n",
    "\n",
    "myfunc()\n",
    "\n",
    "print(x)"
   ]
  },
  {
   "cell_type": "markdown",
   "id": "62fd0c9f",
   "metadata": {},
   "source": [
    "### When to use Global Keyword\n",
    "If you need to create a global variable, but are stuck in the local scope, you can use the global keyword.\n",
    "\n",
    "The global keyword makes the variable global.\n",
    "\n",
    "\n",
    "\n",
    "### global keyword use :  use the global keyword if you want to make a change to a global variable inside a function.\n",
    "\n",
    "\n",
    "Example\n",
    "If you use the global keyword, the variable belongs to the global scope:"
   ]
  },
  {
   "cell_type": "code",
   "execution_count": 8,
   "id": "ee4d6394",
   "metadata": {},
   "outputs": [
    {
     "name": "stdout",
     "output_type": "stream",
     "text": [
      "300\n"
     ]
    }
   ],
   "source": [
    "x = 300\n",
    "\n",
    "def myfunc():\n",
    "    #print(x)\n",
    "    x = 200\n",
    "\n",
    "myfunc()\n",
    "\n",
    "print(x)"
   ]
  },
  {
   "cell_type": "code",
   "execution_count": 9,
   "id": "5d0367fa",
   "metadata": {},
   "outputs": [
    {
     "name": "stdout",
     "output_type": "stream",
     "text": [
      "200\n",
      "200\n"
     ]
    }
   ],
   "source": [
    "x = 300\n",
    "\n",
    "def myfunc():\n",
    "    global x\n",
    "    x = 200\n",
    "    print(x)\n",
    "\n",
    "myfunc()\n",
    "\n",
    "print(x)"
   ]
  },
  {
   "cell_type": "code",
   "execution_count": 10,
   "id": "0590f561",
   "metadata": {},
   "outputs": [
    {
     "name": "stdout",
     "output_type": "stream",
     "text": [
      "300\n",
      "200\n"
     ]
    }
   ],
   "source": [
    "x = 300\n",
    "\n",
    "def myfunc():\n",
    "    global x\n",
    "    print(x)\n",
    "    x = 200\n",
    "\n",
    "myfunc()\n",
    "\n",
    "print(x)"
   ]
  },
  {
   "cell_type": "code",
   "execution_count": 11,
   "id": "2a0caeeb",
   "metadata": {},
   "outputs": [
    {
     "name": "stdout",
     "output_type": "stream",
     "text": [
      "global :  1\n",
      "Inside f() :  1\n",
      "global :  1\n",
      "Inside g() :  2\n",
      "global :  1\n",
      "Inside h() :  3\n",
      "global :  3\n"
     ]
    }
   ],
   "source": [
    "# Python program to demonstrate\n",
    "# scope of variable\n",
    "a = 1\n",
    "# Uses global because there is no local 'a'\n",
    "def f():\n",
    "    print('Inside f() : ', a)\n",
    "# Variable 'a' is redefined as a local\n",
    "def g():\n",
    "    a = 2\n",
    "    print('Inside g() : ', a)\n",
    "# Uses global keyword to modify global 'a'\n",
    "def h():\n",
    "    global a\n",
    "    a = 3\n",
    "    print('Inside h() : ', a)\n",
    "\n",
    "# Global scope\n",
    "print('global : ', a)\n",
    "f()\n",
    "print('global : ', a)\n",
    "g()\n",
    "print('global : ', a)\n",
    "h()\n",
    "print('global : ', a)"
   ]
  },
  {
   "cell_type": "markdown",
   "id": "bc43fe73",
   "metadata": {},
   "source": [
    "### RECURSION"
   ]
  },
  {
   "cell_type": "code",
   "execution_count": 13,
   "id": "1e468cee",
   "metadata": {},
   "outputs": [],
   "source": [
    "### A function is said to be a recursive function if it calls itself.\n",
    "#The following fn() function is a recursive function because it has a call to itself:"
   ]
  },
  {
   "cell_type": "code",
   "execution_count": 14,
   "id": "da7ffc7d",
   "metadata": {},
   "outputs": [],
   "source": [
    "### Base condition or termination condition or stopping condition\n",
    "#Note : A recursive function must have at least one condition where it will stop calling itself, or the function will call itself indefinitely \n"
   ]
  },
  {
   "cell_type": "code",
   "execution_count": 15,
   "id": "f96b7535",
   "metadata": {},
   "outputs": [
    {
     "name": "stdout",
     "output_type": "stream",
     "text": [
      "enter the number5\n",
      "120\n"
     ]
    }
   ],
   "source": [
    "def factorial(num):\n",
    "    if num==1:  #base condition\n",
    "        return 1\n",
    "    else:\n",
    "        return factorial(num-1)*num\n",
    "\n",
    "n=int(input(\"enter the number\"))\n",
    "if n==0 or n==1:\n",
    "    print(\"factorial of \",n,\"is\",1)\n",
    "elif n<0:\n",
    "    print(\"factorial of negative numbers is not defined\")\n",
    "else:\n",
    "    fact=factorial(n) #fuction is calling itself(recursion)\n",
    "    print(fact)"
   ]
  },
  {
   "cell_type": "code",
   "execution_count": 2,
   "id": "d4463ee3",
   "metadata": {},
   "outputs": [
    {
     "name": "stdout",
     "output_type": "stream",
     "text": [
      "enter the upper limit10\n",
      "0 1 2 3 4 5 6 7 8 9 10 "
     ]
    }
   ],
   "source": [
    "num=int(input(\"enter the upper limit\"))\n",
    "def num1(num):\n",
    "    if num>0:\n",
    "        num1(num-1)\n",
    "    print(num,end=\" \")\n",
    "    \n",
    "num1(num)"
   ]
  },
  {
   "cell_type": "code",
   "execution_count": 6,
   "id": "b55da55e",
   "metadata": {},
   "outputs": [
    {
     "name": "stdout",
     "output_type": "stream",
     "text": [
      "enter the upper limit10\n",
      "10 9 8 7 6 5 4 3 2 1 0 "
     ]
    }
   ],
   "source": [
    "num=int(input(\"enter the upper limit\"))\n",
    "def num1(num):\n",
    "    print(num,end=\" \")\n",
    "    if num>0:\n",
    "        num1(num-1)\n",
    "   \n",
    "    \n",
    "num1(num)\n"
   ]
  },
  {
   "cell_type": "code",
   "execution_count": 7,
   "id": "bbb6055a",
   "metadata": {},
   "outputs": [
    {
     "name": "stdout",
     "output_type": "stream",
     "text": [
      "enter the number---1234\n",
      "4321"
     ]
    }
   ],
   "source": [
    "num=int(input(\"enter the number---\"))\n",
    "def reverse(num):\n",
    "    r=num%10\n",
    "    num=num//10\n",
    "    print(r,end=\"\")\n",
    "    if num>0:\n",
    "        reverse(num)\n",
    "reverse(num)"
   ]
  },
  {
   "cell_type": "code",
   "execution_count": null,
   "id": "76f46459",
   "metadata": {},
   "outputs": [],
   "source": []
  }
 ],
 "metadata": {
  "kernelspec": {
   "display_name": "Python 3 (ipykernel)",
   "language": "python",
   "name": "python3"
  },
  "language_info": {
   "codemirror_mode": {
    "name": "ipython",
    "version": 3
   },
   "file_extension": ".py",
   "mimetype": "text/x-python",
   "name": "python",
   "nbconvert_exporter": "python",
   "pygments_lexer": "ipython3",
   "version": "3.9.12"
  }
 },
 "nbformat": 4,
 "nbformat_minor": 5
}
