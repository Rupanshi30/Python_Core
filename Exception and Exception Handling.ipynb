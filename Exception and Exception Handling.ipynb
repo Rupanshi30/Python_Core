{
 "cells": [
  {
   "cell_type": "markdown",
   "id": "b33c58c8",
   "metadata": {},
   "source": [
    "# Exception-it is an error"
   ]
  },
  {
   "cell_type": "markdown",
   "id": "d10f9dbc",
   "metadata": {},
   "source": [
    "### an exception is an event that occurs during the execution of a program that disrupts the normal flow of instructions during the execution of a program"
   ]
  },
  {
   "cell_type": "markdown",
   "id": "71a45061",
   "metadata": {},
   "source": [
    "# types of errors- logical error,syntax error,exception"
   ]
  },
  {
   "cell_type": "markdown",
   "id": "0861689e",
   "metadata": {},
   "source": [
    "### exception-these are those errors which may occur at run time and leads to abnormal termination of code"
   ]
  },
  {
   "cell_type": "markdown",
   "id": "b09f5222",
   "metadata": {},
   "source": [
    "## divisionbyzero error"
   ]
  },
  {
   "cell_type": "code",
   "execution_count": 4,
   "id": "85dbabbc",
   "metadata": {},
   "outputs": [
    {
     "name": "stdout",
     "output_type": "stream",
     "text": [
      "enter the dividend--4\n",
      "enter the divisor--0\n",
      "in except block\n",
      "this is eceptional case i.e. division by zero kindly enter the divisor>0\n",
      "yupp\n"
     ]
    }
   ],
   "source": [
    "a=int(input(\"enter the dividend--\"))\n",
    "b=int(input(\"enter the divisor--\"))\n",
    "try:\n",
    "    print(a/b)\n",
    "    print(\"in try block\")\n",
    "except:\n",
    "    print(\"in except block\")\n",
    "    print(\"this is eceptional case i.e. division by zero kindly enter the divisor>0\")\n",
    "print(\"yupp\") # if there is an exception than it will skip the try block statements"
   ]
  },
  {
   "cell_type": "code",
   "execution_count": 9,
   "id": "846413db",
   "metadata": {},
   "outputs": [
    {
     "name": "stdout",
     "output_type": "stream",
     "text": [
      "enter the dividend--3\n",
      "enter the divisor--5\n",
      "0.6\n",
      "in try block\n",
      "exception not occured\n",
      "important task\n",
      "yupp\n"
     ]
    }
   ],
   "source": [
    "import sys\n",
    "a=int(input(\"enter the dividend--\"))\n",
    "b=int(input(\"enter the divisor--\"))\n",
    "try:\n",
    "    print(a/b)   # \n",
    "    print(\"in try block\")\n",
    "except Exception as e:\n",
    "    print(\"in except block\")\n",
    "    print(\"Oops!\",e.__class__,\"occured.\")\n",
    "else:\n",
    "    print(\"exception not occured\") \n",
    "finally:\n",
    "    print(\"important task\") #we will give important piece of code in finally\n",
    "    \n",
    "print(\"yupp\")\n"
   ]
  },
  {
   "cell_type": "markdown",
   "id": "3d3dd398",
   "metadata": {},
   "source": [
    "## category-name error"
   ]
  },
  {
   "cell_type": "code",
   "execution_count": 10,
   "id": "0a12f77b",
   "metadata": {},
   "outputs": [
    {
     "name": "stdout",
     "output_type": "stream",
     "text": [
      "enter a--3\n",
      "enter b---4\n",
      "in except block\n",
      "Oops! <class 'NameError'> occured.\n",
      "important task\n",
      "yupp\n"
     ]
    }
   ],
   "source": [
    "import sys\n",
    "a=int(input(\"enter a--\"))\n",
    "b=int(input(\"enter b---\"))\n",
    "try:\n",
    "    print(a+b+c)\n",
    "    print(a/b)   # \n",
    "    print(\"in try block\")\n",
    "except Exception as e:\n",
    "    print(\"in except block\")\n",
    "    print(\"Oops!\",e.__class__,\"occured.\")\n",
    "else:\n",
    "    print(\"exception not occured\") \n",
    "finally:\n",
    "    print(\"important task\") \n",
    "    \n",
    "print(\"yupp\")"
   ]
  },
  {
   "cell_type": "code",
   "execution_count": 11,
   "id": "064a1665",
   "metadata": {},
   "outputs": [],
   "source": [
    "# a try can have more than 1 except block"
   ]
  },
  {
   "cell_type": "code",
   "execution_count": 13,
   "id": "59c9f1ad",
   "metadata": {},
   "outputs": [
    {
     "name": "stdout",
     "output_type": "stream",
     "text": [
      "variable x is not defined\n"
     ]
    }
   ],
   "source": [
    "try:\n",
    "    print(x)\n",
    "except NameError:  #specify the exception using in built exception\n",
    "    print(\"variable x is not defined\")\n",
    "except:\n",
    "    print(\"something else went wrong\")"
   ]
  },
  {
   "cell_type": "code",
   "execution_count": 16,
   "id": "571eac02",
   "metadata": {},
   "outputs": [
    {
     "name": "stdout",
     "output_type": "stream",
     "text": [
      "enter the dividend4\n",
      "enter the divisor0\n",
      "in try\n",
      "Oops! occured\n"
     ]
    }
   ],
   "source": [
    "num1=input(\"enter the dividend\")\n",
    "num2=input(\"enter the divisor\")\n",
    "try:\n",
    "    print(\"in try\")\n",
    "    print(num1/num2)\n",
    "    print(\"in try block\")\n",
    "except ZeroDivisionError:\n",
    "    print(\"divisor should not be zero\")\n",
    "except NameError:\n",
    "    print(\"variable x is not defined\")\n",
    "except TypeError:\n",
    "    print(\"Oops!\",\"occured\")\n",
    "    "
   ]
  },
  {
   "cell_type": "markdown",
   "id": "92c123bd",
   "metadata": {},
   "source": [
    "### wap to do exception handling by taking input from the user regarding a divisor,the program to should handle the zerodivision error and also if possible take the input until taken as valid intergral number"
   ]
  },
  {
   "cell_type": "code",
   "execution_count": 19,
   "id": "85125cc5",
   "metadata": {},
   "outputs": [
    {
     "name": "stdout",
     "output_type": "stream",
     "text": [
      "enter the divisor: 0\n",
      "divisor should be >0\n",
      "kindly re enter\n",
      "enter the divisor: 0\n",
      "divisor should be >0\n",
      "kindly re enter\n",
      "enter the divisor: 0\n",
      "divisor should be >0\n",
      "kindly re enter\n",
      "you tried too many times-\n"
     ]
    }
   ],
   "source": [
    "dividend=100\n",
    "c=0\n",
    "while True:\n",
    "    if c==3:\n",
    "        print(\"you tried too many times-\")\n",
    "        break\n",
    "    divisor=int(input(\"enter the divisor: \"))\n",
    "    try:\n",
    "        q=(dividend)/(divisor)\n",
    "    except:\n",
    "        c=c+1\n",
    "        print(\"divisor should be >0\")\n",
    "        print(\"kindly re enter\")\n",
    "        continue\n",
    "    else:\n",
    "        print(\"the answer is:\",q)\n",
    "        break"
   ]
  },
  {
   "cell_type": "code",
   "execution_count": null,
   "id": "ba8fb948",
   "metadata": {},
   "outputs": [],
   "source": []
  }
 ],
 "metadata": {
  "kernelspec": {
   "display_name": "Python 3 (ipykernel)",
   "language": "python",
   "name": "python3"
  },
  "language_info": {
   "codemirror_mode": {
    "name": "ipython",
    "version": 3
   },
   "file_extension": ".py",
   "mimetype": "text/x-python",
   "name": "python",
   "nbconvert_exporter": "python",
   "pygments_lexer": "ipython3",
   "version": "3.9.12"
  }
 },
 "nbformat": 4,
 "nbformat_minor": 5
}
