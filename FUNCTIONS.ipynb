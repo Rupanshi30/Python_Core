{
 "cells": [
  {
   "cell_type": "code",
   "execution_count": null,
   "id": "7abe0b7b",
   "metadata": {},
   "outputs": [],
   "source": [
    "#08/09/2022"
   ]
  },
  {
   "cell_type": "code",
   "execution_count": 1,
   "id": "6021a9a8",
   "metadata": {},
   "outputs": [
    {
     "name": "stdout",
     "output_type": "stream",
     "text": [
      "enter the two numbers34,67\n",
      "101\n"
     ]
    }
   ],
   "source": [
    "#case1: no parameters given,no return\n",
    "def add():\n",
    "    num1,num2=input(\"enter the two numbers\").split(\",\")\n",
    "    num1=int(num1)\n",
    "    num2=int(num2)\n",
    "    result=num1+num2\n",
    "    print(result)\n",
    "add()"
   ]
  },
  {
   "cell_type": "code",
   "execution_count": 2,
   "id": "4b95bf71",
   "metadata": {},
   "outputs": [
    {
     "name": "stdout",
     "output_type": "stream",
     "text": [
      "hello\n",
      "before function calling\n",
      "enter the two numbers3,9\n",
      "12\n",
      "after function calling\n"
     ]
    }
   ],
   "source": [
    "print(\"hello\")\n",
    "def add():\n",
    "    num1,num2=input(\"enter the two numbers\").split(\",\")\n",
    "    num1=int(num1)\n",
    "    num2=int(num2)\n",
    "    result=num1+num2\n",
    "    print(result)\n",
    "print(\"before function calling\")\n",
    "add()\n",
    "print(\"after function calling\")"
   ]
  },
  {
   "cell_type": "code",
   "execution_count": 4,
   "id": "98462843",
   "metadata": {},
   "outputs": [
    {
     "name": "stdout",
     "output_type": "stream",
     "text": [
      "enter the numbers:3,4\n",
      "before function calling\n",
      "7\n",
      "inside function calling\n",
      "after function calling\n"
     ]
    }
   ],
   "source": [
    "#case2:with arguments and no return\n",
    "def add(num1,num2):\n",
    "    result=num1+num2\n",
    "    print(result)\n",
    "    print(\"inside function calling\")\n",
    "n1,n2=input(\"enter the numbers:\").split(\",\")\n",
    "print(\"before function calling\")\n",
    "n1=int(n1)\n",
    "n2=int(n2)\n",
    "add(n1,n2)\n",
    "print(\"after function calling\")"
   ]
  },
  {
   "cell_type": "code",
   "execution_count": 6,
   "id": "a6c91316",
   "metadata": {},
   "outputs": [
    {
     "name": "stdout",
     "output_type": "stream",
     "text": [
      "hello\n",
      "before function calling\n",
      "enter the two numbers2,5\n",
      "after function calling\n",
      "7\n"
     ]
    }
   ],
   "source": [
    "#case3: without args and with return type\n",
    "print(\"hello\")\n",
    "def add():\n",
    "    num1,num2=input(\"enter the two numbers\").split(\",\")\n",
    "    num1=int(num1)\n",
    "    num2=int(num2)\n",
    "    result=num1+num2\n",
    "    return result\n",
    "print(\"before function calling\")\n",
    "a=add()\n",
    "print(\"after function calling\")\n",
    "print(a)\n",
    "\n"
   ]
  },
  {
   "cell_type": "code",
   "execution_count": 7,
   "id": "9f988487",
   "metadata": {},
   "outputs": [
    {
     "name": "stdout",
     "output_type": "stream",
     "text": [
      "hello\n",
      "enter the two numbers2,4\n",
      "before function calling\n",
      "after function calling\n",
      "6\n"
     ]
    }
   ],
   "source": [
    "#case4:with argument and with return type\n",
    "print(\"hello\")\n",
    "def add(a,b):\n",
    "    result=num1+num2\n",
    "    return result\n",
    "num1,num2=input(\"enter the two numbers\").split(\",\")\n",
    "num1=int(num1)\n",
    "num2=int(num2)\n",
    "print(\"before function calling\")\n",
    "a=add(num1,num2)\n",
    "print(\"after function calling\")\n",
    "print(a)"
   ]
  },
  {
   "cell_type": "code",
   "execution_count": 5,
   "id": "4de55278",
   "metadata": {},
   "outputs": [
    {
     "name": "stdout",
     "output_type": "stream",
     "text": [
      "hello\n",
      "inside the function\n",
      "enter the two numbers2,4\n",
      "before function calling\n",
      "after function calling\n",
      "(6, 'madrid', [1, 2, 3], [2, 4])\n"
     ]
    }
   ],
   "source": [
    "print(\"hello\")\n",
    "def add(a,b):\n",
    "    l=[1,2,3]\n",
    "    l1=[2,4]\n",
    "    result=num1+num2\n",
    "    return result,\"madrid\",l,l1\n",
    "print(\"inside the function\")\n",
    "num1,num2=input(\"enter the two numbers\").split(\",\")\n",
    "num1=int(num1)\n",
    "num2=int(num2)\n",
    "print(\"before function calling\")\n",
    "a=add(num1,num2)\n",
    "print(\"after function calling\")\n",
    "print(a)"
   ]
  },
  {
   "cell_type": "markdown",
   "id": "e32120db",
   "metadata": {},
   "source": [
    "#### Q. WAF to check whether the number is odd or even using 4 cases above"
   ]
  },
  {
   "cell_type": "code",
   "execution_count": 1,
   "id": "d6123196",
   "metadata": {},
   "outputs": [
    {
     "name": "stdout",
     "output_type": "stream",
     "text": [
      "enter the number6\n",
      "6 is even no\n"
     ]
    }
   ],
   "source": [
    "#no arguments no return\n",
    "def even():\n",
    "    num=input(\"enter the number\")\n",
    "    num=int(num)\n",
    "    if num%2==0:\n",
    "        print(num,\"is even no\")\n",
    "    else:\n",
    "        print(num,\"is odd no\")\n",
    "even()"
   ]
  },
  {
   "cell_type": "code",
   "execution_count": 2,
   "id": "1aa209c7",
   "metadata": {},
   "outputs": [
    {
     "name": "stdout",
     "output_type": "stream",
     "text": [
      "enter the number:67\n",
      "67 is odd no\n"
     ]
    }
   ],
   "source": [
    "#2 with arguments no return\n",
    "def even(num):\n",
    "    if num%2==0:\n",
    "        print(num,\"is even no\")\n",
    "    else:\n",
    "        print(num,\"is odd no\")\n",
    "n=input(\"enter the number:\")\n",
    "n=int(n)\n",
    "even(n)\n"
   ]
  },
  {
   "cell_type": "code",
   "execution_count": 7,
   "id": "5ea286b6",
   "metadata": {},
   "outputs": [
    {
     "name": "stdout",
     "output_type": "stream",
     "text": [
      "enter the number4\n",
      "4 even no\n",
      "4\n"
     ]
    }
   ],
   "source": [
    "#3 without arguments with return type\n",
    "def even():\n",
    "    num=input(\"enter the number\")\n",
    "    num=int(num)\n",
    "    if num%2==0:\n",
    "        print(num,\"even no\")\n",
    "    else:\n",
    "        print(num,\"odd no\") \n",
    "    \n",
    "    return num #to use it later, just printing would be used just here\n",
    "\n",
    "a=even() #result wasn't stored in just even()\n",
    "print(a)\n"
   ]
  },
  {
   "cell_type": "code",
   "execution_count": 8,
   "id": "2503b075",
   "metadata": {},
   "outputs": [
    {
     "name": "stdout",
     "output_type": "stream",
     "text": [
      "enter the number34\n",
      "34 even no\n",
      "34\n"
     ]
    }
   ],
   "source": [
    "#4 with args with return type\n",
    "def even(num):\n",
    "    if num%2==0:\n",
    "        print(num,\"even no\")\n",
    "    else:\n",
    "        print(num,\"odd no\") \n",
    "    return num\n",
    "n=input(\"enter the number\")\n",
    "n=int(n)\n",
    "\n",
    "a=even(n)\n",
    "print(a)"
   ]
  },
  {
   "cell_type": "markdown",
   "id": "a2ec2f79",
   "metadata": {},
   "source": [
    "#### Q. WAF to compute the area of a circle"
   ]
  },
  {
   "cell_type": "code",
   "execution_count": 8,
   "id": "20c8373f",
   "metadata": {},
   "outputs": [
    {
     "name": "stdout",
     "output_type": "stream",
     "text": [
      "enter the radius of circle:6\n",
      "113.03999999999999\n"
     ]
    }
   ],
   "source": [
    "#no args no return type\n",
    "pi=3.14\n",
    "def area():\n",
    "    radius=float(input(\"enter the radius of circle:\"))\n",
    "    area_circle=pi*radius*radius\n",
    "    print(area_circle)\n",
    "area()"
   ]
  },
  {
   "cell_type": "code",
   "execution_count": 9,
   "id": "0b9f940c",
   "metadata": {},
   "outputs": [
    {
     "name": "stdout",
     "output_type": "stream",
     "text": [
      "enter the radius of circle:6\n",
      "113.03999999999999\n"
     ]
    }
   ],
   "source": [
    "#2: with arguments no return \n",
    "pi=3.14\n",
    "def area(r):\n",
    "    area1=pi*radius*radius\n",
    "    print(area1)\n",
    "radius=float(input(\"enter the radius of circle:\"))\n",
    "area(radius)"
   ]
  },
  {
   "cell_type": "code",
   "execution_count": 11,
   "id": "3f4536e3",
   "metadata": {},
   "outputs": [
    {
     "name": "stdout",
     "output_type": "stream",
     "text": [
      "enter the radius of circle:6\n",
      "113.03999999999999\n"
     ]
    }
   ],
   "source": [
    "#3: without args with return type\n",
    "pi=3.14\n",
    "def area():\n",
    "    radius=float(input(\"enter the radius of circle:\"))\n",
    "    area2=pi*radius*radius\n",
    "    return area2\n",
    "r=area()\n",
    "print(r)"
   ]
  },
  {
   "cell_type": "code",
   "execution_count": 13,
   "id": "170040c8",
   "metadata": {},
   "outputs": [
    {
     "name": "stdout",
     "output_type": "stream",
     "text": [
      "enter the radius of circle:6\n",
      "113.03999999999999\n"
     ]
    }
   ],
   "source": [
    "#4: with args with return type\n",
    "pi=3.14\n",
    "def area(r):\n",
    "    area3=pi*r*r\n",
    "    return area3\n",
    "rad=float(input(\"enter the radius of circle:\"))\n",
    "a=area(rad)\n",
    "print(a)"
   ]
  },
  {
   "cell_type": "code",
   "execution_count": 1,
   "id": "2571e42e",
   "metadata": {},
   "outputs": [],
   "source": [
    "#13/09/2022\n"
   ]
  },
  {
   "cell_type": "code",
   "execution_count": 14,
   "id": "9981887e",
   "metadata": {},
   "outputs": [
    {
     "name": "stdout",
     "output_type": "stream",
     "text": [
      "enter a number:5\n",
      "5 is positive\n",
      "5\n"
     ]
    }
   ],
   "source": [
    "#case 4:with args and with return type\n",
    "def pos(x):\n",
    "    if x>0:\n",
    "        print(x,\"is positive\")\n",
    "    elif x<0:\n",
    "        print(x,\"is negative\")\n",
    "    else:\n",
    "        print(x,\"is zero\")\n",
    "    return x\n",
    "y=int(input(\"enter a number:\"))\n",
    "z=pos(y)\n",
    "print(z)"
   ]
  },
  {
   "cell_type": "code",
   "execution_count": 15,
   "id": "ff700d32",
   "metadata": {},
   "outputs": [
    {
     "name": "stdout",
     "output_type": "stream",
     "text": [
      "enter the no.-9\n",
      "-9 is negative\n",
      "-9\n"
     ]
    }
   ],
   "source": [
    "#with args and no return\n",
    "def pos(x):\n",
    "    if x>0:\n",
    "        print(x,\"is positive\")\n",
    "    elif x<0:\n",
    "        print(x,\"is negative\")\n",
    "    else:\n",
    "        print(x,\"is zero\")\n",
    "    print(x)\n",
    "n=int(input(\"enter the no.\"))\n",
    "pos(n)"
   ]
  },
  {
   "cell_type": "code",
   "execution_count": 17,
   "id": "fcf472fb",
   "metadata": {},
   "outputs": [
    {
     "name": "stdout",
     "output_type": "stream",
     "text": [
      "enter the number:45\n",
      "positive no\n"
     ]
    }
   ],
   "source": [
    "#without args without return type\n",
    "def check():\n",
    "    num=int(input(\"enter the number:\"))\n",
    "    if num>=0:\n",
    "        print(\"positive no\")\n",
    "    else:\n",
    "        print(\"negative no\")\n",
    "check()\n"
   ]
  },
  {
   "cell_type": "code",
   "execution_count": 20,
   "id": "22e1ec7a",
   "metadata": {},
   "outputs": [
    {
     "name": "stdout",
     "output_type": "stream",
     "text": [
      "enter the number:45\n",
      "(45, 'positive no')\n"
     ]
    }
   ],
   "source": [
    "#without args with return type\n",
    "def check():\n",
    "    num=int(input(\"enter the number:\"))\n",
    "    if num>=0:\n",
    "        return num,\"positive no\"\n",
    "a=check()\n",
    "print(a)"
   ]
  },
  {
   "cell_type": "code",
   "execution_count": 12,
   "id": "47a07f4c",
   "metadata": {},
   "outputs": [
    {
     "data": {
      "text/plain": [
       "3"
      ]
     },
     "execution_count": 12,
     "metadata": {},
     "output_type": "execute_result"
    }
   ],
   "source": [
    "len(\"hii\")#len is used on iterables, list,tuples,strig,dictionary"
   ]
  },
  {
   "cell_type": "code",
   "execution_count": 13,
   "id": "59d54be9",
   "metadata": {},
   "outputs": [
    {
     "data": {
      "text/plain": [
       "3"
      ]
     },
     "execution_count": 13,
     "metadata": {},
     "output_type": "execute_result"
    }
   ],
   "source": [
    "len([1,2,\"hii\"])"
   ]
  },
  {
   "cell_type": "code",
   "execution_count": 14,
   "id": "d2688fe5",
   "metadata": {},
   "outputs": [
    {
     "data": {
      "text/plain": [
       "8"
      ]
     },
     "execution_count": 14,
     "metadata": {},
     "output_type": "execute_result"
    }
   ],
   "source": [
    "pow(2,3)"
   ]
  },
  {
   "cell_type": "code",
   "execution_count": 15,
   "id": "a48d4e3c",
   "metadata": {},
   "outputs": [
    {
     "data": {
      "text/plain": [
       "1700065004336"
      ]
     },
     "execution_count": 15,
     "metadata": {},
     "output_type": "execute_result"
    }
   ],
   "source": [
    "a=\"hello\"#it checks the memory location and gives back the reference id\n",
    "id(a)"
   ]
  },
  {
   "cell_type": "code",
   "execution_count": 16,
   "id": "5b761b64",
   "metadata": {},
   "outputs": [
    {
     "data": {
      "text/plain": [
       "65"
      ]
     },
     "execution_count": 16,
     "metadata": {},
     "output_type": "execute_result"
    }
   ],
   "source": [
    "ord(\"A\") #ascii value"
   ]
  },
  {
   "cell_type": "code",
   "execution_count": 18,
   "id": "2f299320",
   "metadata": {},
   "outputs": [
    {
     "data": {
      "text/plain": [
       "'A'"
      ]
     },
     "execution_count": 18,
     "metadata": {},
     "output_type": "execute_result"
    }
   ],
   "source": [
    "chr(65) #corresponding character to ascii value"
   ]
  },
  {
   "cell_type": "code",
   "execution_count": 19,
   "id": "1343f2c1",
   "metadata": {},
   "outputs": [
    {
     "data": {
      "text/plain": [
       "13"
      ]
     },
     "execution_count": 19,
     "metadata": {},
     "output_type": "execute_result"
    }
   ],
   "source": [
    "round(12.76)"
   ]
  },
  {
   "cell_type": "code",
   "execution_count": 20,
   "id": "e886ff8a",
   "metadata": {},
   "outputs": [
    {
     "data": {
      "text/plain": [
       "12.78"
      ]
     },
     "execution_count": 20,
     "metadata": {},
     "output_type": "execute_result"
    }
   ],
   "source": [
    "round(12.776655,2)#default end digits are none"
   ]
  },
  {
   "cell_type": "code",
   "execution_count": 21,
   "id": "fb890c35",
   "metadata": {},
   "outputs": [
    {
     "data": {
      "text/plain": [
       "['__add__',\n",
       " '__class__',\n",
       " '__class_getitem__',\n",
       " '__contains__',\n",
       " '__delattr__',\n",
       " '__delitem__',\n",
       " '__dir__',\n",
       " '__doc__',\n",
       " '__eq__',\n",
       " '__format__',\n",
       " '__ge__',\n",
       " '__getattribute__',\n",
       " '__getitem__',\n",
       " '__gt__',\n",
       " '__hash__',\n",
       " '__iadd__',\n",
       " '__imul__',\n",
       " '__init__',\n",
       " '__init_subclass__',\n",
       " '__iter__',\n",
       " '__le__',\n",
       " '__len__',\n",
       " '__lt__',\n",
       " '__mul__',\n",
       " '__ne__',\n",
       " '__new__',\n",
       " '__reduce__',\n",
       " '__reduce_ex__',\n",
       " '__repr__',\n",
       " '__reversed__',\n",
       " '__rmul__',\n",
       " '__setattr__',\n",
       " '__setitem__',\n",
       " '__sizeof__',\n",
       " '__str__',\n",
       " '__subclasshook__',\n",
       " 'append',\n",
       " 'clear',\n",
       " 'copy',\n",
       " 'count',\n",
       " 'extend',\n",
       " 'index',\n",
       " 'insert',\n",
       " 'pop',\n",
       " 'remove',\n",
       " 'reverse',\n",
       " 'sort']"
      ]
     },
     "execution_count": 21,
     "metadata": {},
     "output_type": "execute_result"
    }
   ],
   "source": [
    "dir(list) #directories\n",
    "#to check functions and attributes"
   ]
  },
  {
   "cell_type": "code",
   "execution_count": 23,
   "id": "42234e49",
   "metadata": {},
   "outputs": [
    {
     "name": "stdout",
     "output_type": "stream",
     "text": [
      "Help on built-in function print in module builtins:\n",
      "\n",
      "print(...)\n",
      "    print(value, ..., sep=' ', end='\\n', file=sys.stdout, flush=False)\n",
      "    \n",
      "    Prints the values to a stream, or to sys.stdout by default.\n",
      "    Optional keyword arguments:\n",
      "    file:  a file-like object (stream); defaults to the current sys.stdout.\n",
      "    sep:   string inserted between values, default a space.\n",
      "    end:   string appended after the last value, default a newline.\n",
      "    flush: whether to forcibly flush the stream.\n",
      "\n"
     ]
    }
   ],
   "source": [
    "help(print)#it gives us the detail of the function"
   ]
  },
  {
   "cell_type": "code",
   "execution_count": 26,
   "id": "033a2754",
   "metadata": {},
   "outputs": [
    {
     "name": "stdout",
     "output_type": "stream",
     "text": [
      "(2, 3)\n",
      "<class 'tuple'>\n",
      "5\n",
      "(2, 4, 6, 7)\n",
      "<class 'tuple'>\n",
      "19\n"
     ]
    }
   ],
   "source": [
    "#scalable function\n",
    "#case4: variable number of arguments\n",
    "def add(*args):\n",
    "    type(args)\n",
    "    print(args)\n",
    "    sum=0\n",
    "    for arg in args:\n",
    "        sum=sum+arg\n",
    "    print(type(args))\n",
    "    print(sum)\n",
    "\n",
    "add(2,3)\n",
    "add(2,4,6,7)\n",
    "        "
   ]
  },
  {
   "cell_type": "code",
   "execution_count": 28,
   "id": "2cc35ebd",
   "metadata": {},
   "outputs": [
    {
     "name": "stdout",
     "output_type": "stream",
     "text": [
      "madrid solutions\n",
      "madrid solutions\n"
     ]
    }
   ],
   "source": [
    "#keyword arguments\n",
    "def student(firstname,lastname):\n",
    "    print(firstname,lastname)\n",
    "#keyword arguments\n",
    "#same as normal arguments but you can specify the arguments\n",
    "student(firstname=\"madrid\",lastname=\"solutions\")\n",
    "student(lastname=\"solutions\",firstname=\"madrid\")\n",
    "#we gave same output in different order and still get same output\n"
   ]
  },
  {
   "cell_type": "code",
   "execution_count": 16,
   "id": "c7640822",
   "metadata": {},
   "outputs": [
    {
     "name": "stdout",
     "output_type": "stream",
     "text": [
      "hii\n",
      "hello\n"
     ]
    }
   ],
   "source": [
    "def madrid():\n",
    "    print(\"hii\")\n",
    "    return \"hello\"\n",
    "    print(\"hii\")\n",
    "a=madrid()\n",
    "print(a)"
   ]
  },
  {
   "cell_type": "code",
   "execution_count": 1,
   "id": "32a88ed3",
   "metadata": {},
   "outputs": [],
   "source": [
    "#14/09/22"
   ]
  },
  {
   "cell_type": "code",
   "execution_count": 2,
   "id": "c90fcb09",
   "metadata": {},
   "outputs": [
    {
     "name": "stdout",
     "output_type": "stream",
     "text": [
      "300\n",
      "2\n",
      "2\n"
     ]
    }
   ],
   "source": [
    "#local scope\n",
    "a=2\n",
    "def myfunc():\n",
    "    x=300\n",
    "    print(x)\n",
    "    print(a)\n",
    "myfunc()\n",
    "print(a)"
   ]
  },
  {
   "cell_type": "code",
   "execution_count": 3,
   "id": "3df36420",
   "metadata": {},
   "outputs": [
    {
     "name": "stdout",
     "output_type": "stream",
     "text": [
      "200\n",
      "300\n"
     ]
    }
   ],
   "source": [
    "#global\n",
    "x=300\n",
    "def myfunc():\n",
    "    x=200\n",
    "    print(x)\n",
    "myfunc()\n",
    "print(x)"
   ]
  },
  {
   "cell_type": "code",
   "execution_count": 5,
   "id": "38a0ac0c",
   "metadata": {},
   "outputs": [
    {
     "name": "stdout",
     "output_type": "stream",
     "text": [
      "300\n",
      "300\n",
      "200\n",
      "200\n"
     ]
    }
   ],
   "source": [
    "x=300\n",
    "def myfunc():\n",
    "    global x\n",
    "    print(x)\n",
    "    x=200\n",
    "    print(x)\n",
    "print(x)\n",
    "myfunc()\n",
    "print(x)"
   ]
  },
  {
   "cell_type": "code",
   "execution_count": 6,
   "id": "e64d3cc2",
   "metadata": {},
   "outputs": [],
   "source": [
    "#recursion"
   ]
  },
  {
   "cell_type": "code",
   "execution_count": 7,
   "id": "18657b56",
   "metadata": {},
   "outputs": [
    {
     "name": "stdout",
     "output_type": "stream",
     "text": [
      "enter the number5\n",
      "120\n"
     ]
    }
   ],
   "source": [
    "def factorial(num):\n",
    "    if num==1:  #base condition\n",
    "        return 1\n",
    "    else:\n",
    "        return factorial(num-1)*num\n",
    "\n",
    "n=int(input(\"enter the number\"))\n",
    "if n==0 or n==1:\n",
    "    print(\"factorial of \",n,\"is\",1)\n",
    "elif n<0:\n",
    "    print(\"factorial of negative numbers is not defined\")\n",
    "else:\n",
    "    fact=factorial(n) #fuction is calling itself(recursion)\n",
    "    print(fact)"
   ]
  },
  {
   "cell_type": "code",
   "execution_count": 8,
   "id": "9ba6ce5b",
   "metadata": {},
   "outputs": [],
   "source": [
    "#modules"
   ]
  },
  {
   "cell_type": "code",
   "execution_count": 9,
   "id": "7507e4c8",
   "metadata": {},
   "outputs": [
    {
     "data": {
      "text/plain": [
       "['__doc__',\n",
       " '__loader__',\n",
       " '__name__',\n",
       " '__package__',\n",
       " '__spec__',\n",
       " 'acos',\n",
       " 'acosh',\n",
       " 'asin',\n",
       " 'asinh',\n",
       " 'atan',\n",
       " 'atan2',\n",
       " 'atanh',\n",
       " 'ceil',\n",
       " 'comb',\n",
       " 'copysign',\n",
       " 'cos',\n",
       " 'cosh',\n",
       " 'degrees',\n",
       " 'dist',\n",
       " 'e',\n",
       " 'erf',\n",
       " 'erfc',\n",
       " 'exp',\n",
       " 'expm1',\n",
       " 'fabs',\n",
       " 'factorial',\n",
       " 'floor',\n",
       " 'fmod',\n",
       " 'frexp',\n",
       " 'fsum',\n",
       " 'gamma',\n",
       " 'gcd',\n",
       " 'hypot',\n",
       " 'inf',\n",
       " 'isclose',\n",
       " 'isfinite',\n",
       " 'isinf',\n",
       " 'isnan',\n",
       " 'isqrt',\n",
       " 'lcm',\n",
       " 'ldexp',\n",
       " 'lgamma',\n",
       " 'log',\n",
       " 'log10',\n",
       " 'log1p',\n",
       " 'log2',\n",
       " 'modf',\n",
       " 'nan',\n",
       " 'nextafter',\n",
       " 'perm',\n",
       " 'pi',\n",
       " 'pow',\n",
       " 'prod',\n",
       " 'radians',\n",
       " 'remainder',\n",
       " 'sin',\n",
       " 'sinh',\n",
       " 'sqrt',\n",
       " 'tan',\n",
       " 'tanh',\n",
       " 'tau',\n",
       " 'trunc',\n",
       " 'ulp']"
      ]
     },
     "execution_count": 9,
     "metadata": {},
     "output_type": "execute_result"
    }
   ],
   "source": [
    "import math\n",
    "\n",
    "dir(math)"
   ]
  },
  {
   "cell_type": "code",
   "execution_count": 10,
   "id": "815a692a",
   "metadata": {},
   "outputs": [
    {
     "data": {
      "text/plain": [
       "3.141592653589793"
      ]
     },
     "execution_count": 10,
     "metadata": {},
     "output_type": "execute_result"
    }
   ],
   "source": [
    "math.pi"
   ]
  },
  {
   "cell_type": "code",
   "execution_count": 11,
   "id": "4161a4fd",
   "metadata": {},
   "outputs": [
    {
     "data": {
      "text/plain": [
       "3"
      ]
     },
     "execution_count": 11,
     "metadata": {},
     "output_type": "execute_result"
    }
   ],
   "source": [
    "math.floor(3.66) #it gives the integer part"
   ]
  },
  {
   "cell_type": "code",
   "execution_count": 13,
   "id": "98487eb6",
   "metadata": {},
   "outputs": [
    {
     "data": {
      "text/plain": [
       "4"
      ]
     },
     "execution_count": 13,
     "metadata": {},
     "output_type": "execute_result"
    }
   ],
   "source": [
    "math.ceil(3.435) #equal to or greater than the number"
   ]
  },
  {
   "cell_type": "code",
   "execution_count": 14,
   "id": "a1663919",
   "metadata": {},
   "outputs": [
    {
     "data": {
      "text/plain": [
       "-3"
      ]
     },
     "execution_count": 14,
     "metadata": {},
     "output_type": "execute_result"
    }
   ],
   "source": [
    "math.floor(-2.7)"
   ]
  },
  {
   "cell_type": "code",
   "execution_count": 15,
   "id": "0e64a3ff",
   "metadata": {},
   "outputs": [
    {
     "data": {
      "text/plain": [
       "-2"
      ]
     },
     "execution_count": 15,
     "metadata": {},
     "output_type": "execute_result"
    }
   ],
   "source": [
    "math.ceil(-2.7)"
   ]
  },
  {
   "cell_type": "code",
   "execution_count": 16,
   "id": "6bfa630c",
   "metadata": {},
   "outputs": [],
   "source": [
    "import random"
   ]
  },
  {
   "cell_type": "code",
   "execution_count": 17,
   "id": "05fb309b",
   "metadata": {},
   "outputs": [
    {
     "data": {
      "text/plain": [
       "62"
      ]
     },
     "execution_count": 17,
     "metadata": {},
     "output_type": "execute_result"
    }
   ],
   "source": [
    "random.randint(1,100)"
   ]
  },
  {
   "cell_type": "code",
   "execution_count": 18,
   "id": "b46643c4",
   "metadata": {},
   "outputs": [
    {
     "data": {
      "text/plain": [
       "[4, 5, 2, 6]"
      ]
     },
     "execution_count": 18,
     "metadata": {},
     "output_type": "execute_result"
    }
   ],
   "source": [
    "a=[2,4,5,6]\n",
    "random.shuffle(a)\n",
    "a"
   ]
  },
  {
   "cell_type": "code",
   "execution_count": 10,
   "id": "35bb1002",
   "metadata": {},
   "outputs": [],
   "source": [
    "import time"
   ]
  },
  {
   "cell_type": "code",
   "execution_count": 20,
   "id": "afd68db6",
   "metadata": {},
   "outputs": [
    {
     "data": {
      "text/plain": [
       "1663136049.9968824"
      ]
     },
     "execution_count": 20,
     "metadata": {},
     "output_type": "execute_result"
    }
   ],
   "source": [
    "time.time()  #it returns the total seconds from 1 jan"
   ]
  },
  {
   "cell_type": "code",
   "execution_count": 11,
   "id": "54f79aac",
   "metadata": {},
   "outputs": [
    {
     "data": {
      "text/plain": [
       "1665356536.312462"
      ]
     },
     "execution_count": 11,
     "metadata": {},
     "output_type": "execute_result"
    }
   ],
   "source": [
    "time.time()"
   ]
  },
  {
   "cell_type": "code",
   "execution_count": 21,
   "id": "6f513570",
   "metadata": {},
   "outputs": [
    {
     "data": {
      "text/plain": [
       "'Wed Sep 14 11:44:54 2022'"
      ]
     },
     "execution_count": 21,
     "metadata": {},
     "output_type": "execute_result"
    }
   ],
   "source": [
    "time.ctime() #as per geographical location"
   ]
  },
  {
   "cell_type": "code",
   "execution_count": 24,
   "id": "06969ee1",
   "metadata": {},
   "outputs": [
    {
     "name": "stdout",
     "output_type": "stream",
     "text": [
      "hello\n",
      "hello\n"
     ]
    }
   ],
   "source": [
    "print(\"hello\")\n",
    "time.sleep(2)\n",
    "print(\"hello\")"
   ]
  },
  {
   "cell_type": "code",
   "execution_count": 22,
   "id": "8a61d29c",
   "metadata": {},
   "outputs": [],
   "source": [
    "import os"
   ]
  },
  {
   "cell_type": "code",
   "execution_count": 23,
   "id": "204286bc",
   "metadata": {},
   "outputs": [
    {
     "data": {
      "text/plain": [
       "'C:\\\\Users\\\\rupan\\\\core python'"
      ]
     },
     "execution_count": 23,
     "metadata": {},
     "output_type": "execute_result"
    }
   ],
   "source": [
    "os.getcwd() #returns current working directory"
   ]
  },
  {
   "cell_type": "code",
   "execution_count": 12,
   "id": "b8aea68b",
   "metadata": {},
   "outputs": [
    {
     "name": "stdout",
     "output_type": "stream",
     "text": [
      "enter the number2345\n",
      "5\n"
     ]
    }
   ],
   "source": [
    "#Q-1\n",
    "reverse=0\n",
    "def rev(nu):\n",
    "    global reverse\n",
    "    if nu>10:\n",
    "        r=nu%10\n",
    "        nu=nu//10\n",
    "        reverse=reverse*10+r\n",
    "num=int(input(\"enter the number\"))\n",
    "rev(num)\n",
    "print(reverse)\n",
    "\n"
   ]
  },
  {
   "cell_type": "code",
   "execution_count": 2,
   "id": "ed7d0dc3",
   "metadata": {},
   "outputs": [
    {
     "name": "stdout",
     "output_type": "stream",
     "text": [
      "enter the list: 56 67 4 5\n",
      "56 even number\n",
      "67 odd number\n",
      "4 even number\n",
      "5 odd number\n"
     ]
    }
   ],
   "source": [
    "#Q-2\n",
    "def list():\n",
    "    for i in l:\n",
    "        i=int(i)\n",
    "        if i%2==0:\n",
    "            print(i,\"even number\")\n",
    "        else:\n",
    "            print(i,\"odd number\")\n",
    "l=input(\"enter the list: \").split(\" \")\n",
    "list()\n",
    "\n",
    "        "
   ]
  },
  {
   "cell_type": "code",
   "execution_count": 35,
   "id": "aea02a53",
   "metadata": {},
   "outputs": [
    {
     "name": "stdout",
     "output_type": "stream",
     "text": [
      "enter the names:zayn niall louis rupa\n",
      "the names are: ['zayn', 'niall', 'louis', 'rupa']\n",
      "Good Morning zayn\n",
      "Good Morning niall\n",
      "hello louis\n",
      "Good Morning rupa\n"
     ]
    }
   ],
   "source": [
    "#Q-3\n",
    "name=input(\"enter the names:\").split(\" \")\n",
    "print(\"the names are:\",name)\n",
    "def greet():\n",
    "    for i in name:\n",
    "        if \"a\" in i:\n",
    "            print(\"Good Morning\",i)\n",
    "        else:\n",
    "            print(\"hello\",i)\n",
    "greet()\n",
    "    "
   ]
  },
  {
   "cell_type": "code",
   "execution_count": 3,
   "id": "837271bf",
   "metadata": {},
   "outputs": [
    {
     "name": "stdout",
     "output_type": "stream",
     "text": [
      "1\n",
      "hi\n",
      "p\n",
      "1\n"
     ]
    }
   ],
   "source": [
    "l1=1\n",
    "def a():\n",
    "    s=\"hi\"\n",
    "    print(s)\n",
    "    return s\n",
    "    l1=2\n",
    "print(l1)\n",
    "k=a()\n",
    "print(\"p\")\n",
    "print(l1)\n",
    "    "
   ]
  },
  {
   "cell_type": "code",
   "execution_count": 3,
   "id": "b29aa5d8",
   "metadata": {},
   "outputs": [],
   "source": [
    "def st_details(n1,n2):\n",
    "    '''this is for student details'''\n",
    "    print(\"student details\")\n",
    "    "
   ]
  },
  {
   "cell_type": "code",
   "execution_count": 2,
   "id": "cccb9fe2",
   "metadata": {},
   "outputs": [
    {
     "data": {
      "text/plain": [
       "'this is for student details'"
      ]
     },
     "execution_count": 2,
     "metadata": {},
     "output_type": "execute_result"
    }
   ],
   "source": [
    "st_details.__doc__ #name of the function . double underscore doc double underscore\n",
    "st_details()"
   ]
  },
  {
   "cell_type": "code",
   "execution_count": null,
   "id": "d1aa02cf",
   "metadata": {},
   "outputs": [],
   "source": []
  }
 ],
 "metadata": {
  "kernelspec": {
   "display_name": "Python 3 (ipykernel)",
   "language": "python",
   "name": "python3"
  },
  "language_info": {
   "codemirror_mode": {
    "name": "ipython",
    "version": 3
   },
   "file_extension": ".py",
   "mimetype": "text/x-python",
   "name": "python",
   "nbconvert_exporter": "python",
   "pygments_lexer": "ipython3",
   "version": "3.9.12"
  }
 },
 "nbformat": 4,
 "nbformat_minor": 5
}
