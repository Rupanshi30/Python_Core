{
 "cells": [
  {
   "cell_type": "markdown",
   "id": "b7b51b5e",
   "metadata": {},
   "source": [
    "# iterators and generators"
   ]
  },
  {
   "cell_type": "markdown",
   "id": "44c2f774",
   "metadata": {},
   "source": [
    "## how to create a iterator"
   ]
  },
  {
   "cell_type": "code",
   "execution_count": 1,
   "id": "db612ff4",
   "metadata": {},
   "outputs": [
    {
     "data": {
      "text/plain": [
       "<list_iterator at 0x2ddc3830880>"
      ]
     },
     "execution_count": 1,
     "metadata": {},
     "output_type": "execute_result"
    }
   ],
   "source": [
    "l=[20,30,40,50]\n",
    "iter(l)"
   ]
  },
  {
   "cell_type": "code",
   "execution_count": 2,
   "id": "7b4938bb",
   "metadata": {},
   "outputs": [
    {
     "data": {
      "text/plain": [
       "list_iterator"
      ]
     },
     "execution_count": 2,
     "metadata": {},
     "output_type": "execute_result"
    }
   ],
   "source": [
    "type(iter(l))"
   ]
  },
  {
   "cell_type": "code",
   "execution_count": 4,
   "id": "4e5ee5e9",
   "metadata": {},
   "outputs": [
    {
     "data": {
      "text/plain": [
       "[20, 30, 40, 50]"
      ]
     },
     "execution_count": 4,
     "metadata": {},
     "output_type": "execute_result"
    }
   ],
   "source": [
    "result=list(l)\n",
    "result"
   ]
  },
  {
   "cell_type": "code",
   "execution_count": 5,
   "id": "e1652259",
   "metadata": {},
   "outputs": [
    {
     "data": {
      "text/plain": [
       "<list_iterator at 0x2ddc3844850>"
      ]
     },
     "execution_count": 5,
     "metadata": {},
     "output_type": "execute_result"
    }
   ],
   "source": [
    "result=iter(l)\n",
    "result"
   ]
  },
  {
   "cell_type": "code",
   "execution_count": 6,
   "id": "e130cd3d",
   "metadata": {},
   "outputs": [
    {
     "data": {
      "text/plain": [
       "20"
      ]
     },
     "execution_count": 6,
     "metadata": {},
     "output_type": "execute_result"
    }
   ],
   "source": [
    "next(result)"
   ]
  },
  {
   "cell_type": "code",
   "execution_count": 11,
   "id": "eb2fe4f6",
   "metadata": {},
   "outputs": [
    {
     "ename": "StopIteration",
     "evalue": "",
     "output_type": "error",
     "traceback": [
      "\u001b[1;31m---------------------------------------------------------------------------\u001b[0m",
      "\u001b[1;31mStopIteration\u001b[0m                             Traceback (most recent call last)",
      "Input \u001b[1;32mIn [11]\u001b[0m, in \u001b[0;36m<cell line: 1>\u001b[1;34m()\u001b[0m\n\u001b[1;32m----> 1\u001b[0m \u001b[38;5;28;43mnext\u001b[39;49m\u001b[43m(\u001b[49m\u001b[43mresult\u001b[49m\u001b[43m)\u001b[49m\n",
      "\u001b[1;31mStopIteration\u001b[0m: "
     ]
    }
   ],
   "source": [
    "next(result)"
   ]
  },
  {
   "cell_type": "code",
   "execution_count": 12,
   "id": "fb719557",
   "metadata": {},
   "outputs": [],
   "source": [
    "l=[20,30,50,70]\n",
    "def gen():\n",
    "    for i in l:\n",
    "        print(\"hello\")\n",
    "        yield i\n",
    "        print(\"after yield\")\n",
    "        \n",
    "        "
   ]
  },
  {
   "cell_type": "code",
   "execution_count": 13,
   "id": "d54003ea",
   "metadata": {},
   "outputs": [
    {
     "data": {
      "text/plain": [
       "<generator object gen at 0x000002DDC5351F20>"
      ]
     },
     "execution_count": 13,
     "metadata": {},
     "output_type": "execute_result"
    }
   ],
   "source": [
    "k=gen()\n",
    "k"
   ]
  },
  {
   "cell_type": "code",
   "execution_count": 14,
   "id": "26394488",
   "metadata": {},
   "outputs": [
    {
     "data": {
      "text/plain": [
       "generator"
      ]
     },
     "execution_count": 14,
     "metadata": {},
     "output_type": "execute_result"
    }
   ],
   "source": [
    "type(k) #it will return iterator"
   ]
  },
  {
   "cell_type": "code",
   "execution_count": 15,
   "id": "709e4b0c",
   "metadata": {},
   "outputs": [
    {
     "name": "stdout",
     "output_type": "stream",
     "text": [
      "hello\n"
     ]
    },
    {
     "data": {
      "text/plain": [
       "20"
      ]
     },
     "execution_count": 15,
     "metadata": {},
     "output_type": "execute_result"
    }
   ],
   "source": [
    "next(k) #output in chunk form #yield go to sleep untill we call it again"
   ]
  },
  {
   "cell_type": "code",
   "execution_count": 16,
   "id": "0b235fa4",
   "metadata": {},
   "outputs": [
    {
     "name": "stdout",
     "output_type": "stream",
     "text": [
      "after yield\n",
      "hello\n"
     ]
    },
    {
     "data": {
      "text/plain": [
       "30"
      ]
     },
     "execution_count": 16,
     "metadata": {},
     "output_type": "execute_result"
    }
   ],
   "source": [
    "next(k)"
   ]
  },
  {
   "cell_type": "code",
   "execution_count": 17,
   "id": "760442ea",
   "metadata": {},
   "outputs": [
    {
     "name": "stdout",
     "output_type": "stream",
     "text": [
      "after yield\n",
      "hello\n"
     ]
    },
    {
     "data": {
      "text/plain": [
       "50"
      ]
     },
     "execution_count": 17,
     "metadata": {},
     "output_type": "execute_result"
    }
   ],
   "source": [
    "next(k)"
   ]
  },
  {
   "cell_type": "code",
   "execution_count": 18,
   "id": "99e7f941",
   "metadata": {},
   "outputs": [
    {
     "name": "stdout",
     "output_type": "stream",
     "text": [
      "after yield\n",
      "hello\n"
     ]
    },
    {
     "data": {
      "text/plain": [
       "70"
      ]
     },
     "execution_count": 18,
     "metadata": {},
     "output_type": "execute_result"
    }
   ],
   "source": [
    "next(k)"
   ]
  },
  {
   "cell_type": "code",
   "execution_count": 19,
   "id": "366de5f2",
   "metadata": {},
   "outputs": [
    {
     "name": "stdout",
     "output_type": "stream",
     "text": [
      "after yield\n"
     ]
    },
    {
     "ename": "StopIteration",
     "evalue": "",
     "output_type": "error",
     "traceback": [
      "\u001b[1;31m---------------------------------------------------------------------------\u001b[0m",
      "\u001b[1;31mStopIteration\u001b[0m                             Traceback (most recent call last)",
      "Input \u001b[1;32mIn [19]\u001b[0m, in \u001b[0;36m<cell line: 1>\u001b[1;34m()\u001b[0m\n\u001b[1;32m----> 1\u001b[0m \u001b[38;5;28;43mnext\u001b[39;49m\u001b[43m(\u001b[49m\u001b[43mk\u001b[49m\u001b[43m)\u001b[49m\n",
      "\u001b[1;31mStopIteration\u001b[0m: "
     ]
    }
   ],
   "source": [
    "next(k)"
   ]
  },
  {
   "cell_type": "markdown",
   "id": "9aa8979b",
   "metadata": {},
   "source": [
    "# lambda(annonymous function means no name)-it is a keyword "
   ]
  },
  {
   "cell_type": "code",
   "execution_count": 20,
   "id": "fd9f7417",
   "metadata": {},
   "outputs": [
    {
     "data": {
      "text/plain": [
       "6"
      ]
     },
     "execution_count": 20,
     "metadata": {},
     "output_type": "execute_result"
    }
   ],
   "source": [
    "def add(n1,n2):\n",
    "    n=n1+n2\n",
    "    return n\n",
    "add(2,4)\n"
   ]
  },
  {
   "cell_type": "code",
   "execution_count": 21,
   "id": "8f9ec820",
   "metadata": {},
   "outputs": [
    {
     "data": {
      "text/plain": [
       "<function __main__.<lambda>(a1, a2)>"
      ]
     },
     "execution_count": 21,
     "metadata": {},
     "output_type": "execute_result"
    }
   ],
   "source": [
    "lambda a1,a2:a1+a2"
   ]
  },
  {
   "cell_type": "code",
   "execution_count": 22,
   "id": "f4f3a064",
   "metadata": {},
   "outputs": [
    {
     "data": {
      "text/plain": [
       "function"
      ]
     },
     "execution_count": 22,
     "metadata": {},
     "output_type": "execute_result"
    }
   ],
   "source": [
    "type(lambda a1,a2:a1+a2)"
   ]
  },
  {
   "cell_type": "code",
   "execution_count": 24,
   "id": "ea86a3f5",
   "metadata": {},
   "outputs": [
    {
     "data": {
      "text/plain": [
       "6"
      ]
     },
     "execution_count": 24,
     "metadata": {},
     "output_type": "execute_result"
    }
   ],
   "source": [
    "(lambda a1,a2:a1+a2)(2,4)"
   ]
  },
  {
   "cell_type": "code",
   "execution_count": 26,
   "id": "f68c5c48",
   "metadata": {},
   "outputs": [
    {
     "name": "stdout",
     "output_type": "stream",
     "text": [
      "enter the first number---2\n",
      "enter the second number---4\n"
     ]
    },
    {
     "data": {
      "text/plain": [
       "6"
      ]
     },
     "execution_count": 26,
     "metadata": {},
     "output_type": "execute_result"
    }
   ],
   "source": [
    "(lambda a1,a2:a1+a2)(int(input(\"enter the first number---\")),int(input(\"enter the second number---\")))"
   ]
  },
  {
   "cell_type": "code",
   "execution_count": 27,
   "id": "52aac69d",
   "metadata": {},
   "outputs": [
    {
     "data": {
      "text/plain": [
       "<function __main__.<lambda>(a1, a2)>"
      ]
     },
     "execution_count": 27,
     "metadata": {},
     "output_type": "execute_result"
    }
   ],
   "source": [
    "k=(lambda a1,a2:a1+a2)\n",
    "k #for reusability"
   ]
  },
  {
   "cell_type": "code",
   "execution_count": 28,
   "id": "7575c95e",
   "metadata": {},
   "outputs": [
    {
     "data": {
      "text/plain": [
       "11"
      ]
     },
     "execution_count": 28,
     "metadata": {},
     "output_type": "execute_result"
    }
   ],
   "source": [
    "k(5,6)"
   ]
  },
  {
   "cell_type": "code",
   "execution_count": 29,
   "id": "bf221b7b",
   "metadata": {},
   "outputs": [
    {
     "data": {
      "text/plain": [
       "8"
      ]
     },
     "execution_count": 29,
     "metadata": {},
     "output_type": "execute_result"
    }
   ],
   "source": [
    "k(3,5)"
   ]
  },
  {
   "cell_type": "markdown",
   "id": "7c9bbb1e",
   "metadata": {},
   "source": [
    "# waf to display all the fruits that starts with A "
   ]
  },
  {
   "cell_type": "code",
   "execution_count": 30,
   "id": "63bd9736",
   "metadata": {},
   "outputs": [],
   "source": [
    "fruits=[\"apple\",\"avacado\",\"banana\",\"cherry\"]\n"
   ]
  },
  {
   "cell_type": "code",
   "execution_count": 36,
   "id": "c384c51d",
   "metadata": {},
   "outputs": [],
   "source": [
    "fruits=[\"apple\",\"avacado\",\"banana\",\"cherry\"]\n",
    "def fruit():\n",
    "    for i in fruits:\n",
    "        if i.startswith(\"a\"):\n",
    "            print(i)\n",
    "#will do later bcz of list"
   ]
  },
  {
   "cell_type": "code",
   "execution_count": 42,
   "id": "19e2cd5d",
   "metadata": {},
   "outputs": [
    {
     "name": "stdout",
     "output_type": "stream",
     "text": [
      "cherry does not starts with a\n"
     ]
    }
   ],
   "source": [
    "f=\"cherry\"\n",
    "def fruit():\n",
    "    if f.startswith(\"a\"):\n",
    "        print(f,\"starts with a\")\n",
    "    else:\n",
    "        print(f,\"does not starts with a\")\n",
    "f=fruit()\n",
    "f\n",
    "    "
   ]
  },
  {
   "cell_type": "code",
   "execution_count": 41,
   "id": "c884be53",
   "metadata": {},
   "outputs": [
    {
     "ename": "SyntaxError",
     "evalue": "invalid syntax (4173444142.py, line 2)",
     "output_type": "error",
     "traceback": [
      "\u001b[1;36m  Input \u001b[1;32mIn [41]\u001b[1;36m\u001b[0m\n\u001b[1;33m    lambda fruit: fruit if fruit.startswith(\"a\")\u001b[0m\n\u001b[1;37m                                                ^\u001b[0m\n\u001b[1;31mSyntaxError\u001b[0m\u001b[1;31m:\u001b[0m invalid syntax\n"
     ]
    }
   ],
   "source": [
    "#using lambda\n",
    "lambda fruit: fruit if fruit.startswith(\"a\") #always give else condition while using lambda"
   ]
  },
  {
   "cell_type": "code",
   "execution_count": 47,
   "id": "bcf0a028",
   "metadata": {},
   "outputs": [
    {
     "data": {
      "text/plain": [
       "''"
      ]
     },
     "execution_count": 47,
     "metadata": {},
     "output_type": "execute_result"
    }
   ],
   "source": [
    "fruit=\"kapple\"\n",
    "k=(lambda fruit: fruit if fruit.startswith(\"a\") else\"\")\n",
    "k(fruit)"
   ]
  },
  {
   "cell_type": "markdown",
   "id": "220eabce",
   "metadata": {},
   "source": [
    "# Wap to check if given string is number or not using lambda"
   ]
  },
  {
   "cell_type": "code",
   "execution_count": 52,
   "id": "4990209f",
   "metadata": {},
   "outputs": [
    {
     "data": {
      "text/plain": [
       "'23'"
      ]
     },
     "execution_count": 52,
     "metadata": {},
     "output_type": "execute_result"
    }
   ],
   "source": [
    "(lambda num: num if num.isnumeric() else \"\")(\"23\")"
   ]
  },
  {
   "cell_type": "code",
   "execution_count": 57,
   "id": "46da778c",
   "metadata": {},
   "outputs": [
    {
     "data": {
      "text/plain": [
       "12345"
      ]
     },
     "execution_count": 57,
     "metadata": {},
     "output_type": "execute_result"
    }
   ],
   "source": [
    "(lambda n: n if type(n)==int else \"string\")(12345)"
   ]
  },
  {
   "cell_type": "markdown",
   "id": "561150e4",
   "metadata": {},
   "source": [
    "# wap to sort the dictionary using values"
   ]
  },
  {
   "cell_type": "code",
   "execution_count": 58,
   "id": "90c7485d",
   "metadata": {},
   "outputs": [
    {
     "data": {
      "text/plain": [
       "dict_items([('one', 1), ('five', 5), ('two', 2)])"
      ]
     },
     "execution_count": 58,
     "metadata": {},
     "output_type": "execute_result"
    }
   ],
   "source": [
    "d={\"one\":1,\"five\":5,\"two\":2}\n",
    "d.items()"
   ]
  },
  {
   "cell_type": "code",
   "execution_count": 59,
   "id": "82f51e79",
   "metadata": {},
   "outputs": [
    {
     "data": {
      "text/plain": [
       "[('five', 5), ('one', 1), ('two', 2)]"
      ]
     },
     "execution_count": 59,
     "metadata": {},
     "output_type": "execute_result"
    }
   ],
   "source": [
    "sorted(d.items()) #in ascending order"
   ]
  },
  {
   "cell_type": "code",
   "execution_count": 60,
   "id": "a1a20746",
   "metadata": {},
   "outputs": [
    {
     "data": {
      "text/plain": [
       "[('two', 2), ('one', 1), ('five', 5)]"
      ]
     },
     "execution_count": 60,
     "metadata": {},
     "output_type": "execute_result"
    }
   ],
   "source": [
    "sorted(d.items(),reverse=True)"
   ]
  },
  {
   "cell_type": "code",
   "execution_count": 63,
   "id": "214aeb3a",
   "metadata": {},
   "outputs": [
    {
     "data": {
      "text/plain": [
       "[('one', 1), ('two', 2), ('five', 5)]"
      ]
     },
     "execution_count": 63,
     "metadata": {},
     "output_type": "execute_result"
    }
   ],
   "source": [
    "sorted(d.items(),key=lambda x: x[1])"
   ]
  },
  {
   "cell_type": "code",
   "execution_count": 64,
   "id": "8d869795",
   "metadata": {},
   "outputs": [
    {
     "data": {
      "text/plain": [
       "[('five', 5), ('two', 2), ('one', 1)]"
      ]
     },
     "execution_count": 64,
     "metadata": {},
     "output_type": "execute_result"
    }
   ],
   "source": [
    "sorted(d.items(),key=lambda x: x[1],reverse=True)"
   ]
  },
  {
   "cell_type": "markdown",
   "id": "1ffedce4",
   "metadata": {},
   "source": [
    "# map"
   ]
  },
  {
   "cell_type": "markdown",
   "id": "de59fd77",
   "metadata": {},
   "source": [
    "# wap to fetch those fruits name that starts with a"
   ]
  },
  {
   "cell_type": "code",
   "execution_count": 65,
   "id": "6d267795",
   "metadata": {},
   "outputs": [
    {
     "data": {
      "text/plain": [
       "['apple', 'avacado']"
      ]
     },
     "execution_count": 65,
     "metadata": {},
     "output_type": "execute_result"
    }
   ],
   "source": [
    "fruits=[\"apple\",\"avacado\",\"banana\",\"cherry\"]\n",
    "[i for i in fruits if i.startswith(\"a\")]"
   ]
  },
  {
   "cell_type": "code",
   "execution_count": 1,
   "id": "7f17f445",
   "metadata": {},
   "outputs": [
    {
     "name": "stdout",
     "output_type": "stream",
     "text": [
      "['apple', 'avacado']\n"
     ]
    }
   ],
   "source": [
    "fruits=[\"apple\",\"avacado\",\"banana\",\"cherry\"]\n",
    "l=[]\n",
    "for i in fruits:\n",
    "    if i.startswith(\"a\"):\n",
    "        l.append(i)\n",
    "print(l)"
   ]
  },
  {
   "cell_type": "code",
   "execution_count": 74,
   "id": "4185876e",
   "metadata": {},
   "outputs": [],
   "source": [
    " #map takes function as an argument, we called these type of function as high order function"
   ]
  },
  {
   "cell_type": "code",
   "execution_count": 75,
   "id": "1ffcd0a0",
   "metadata": {},
   "outputs": [],
   "source": [
    "def fruit_check(fruit):\n",
    "    if fruit.startswith(\"a\"):\n",
    "        return fruit\n",
    "    else:\n",
    "        return \"\""
   ]
  },
  {
   "cell_type": "code",
   "execution_count": 76,
   "id": "b8d1efe3",
   "metadata": {},
   "outputs": [
    {
     "data": {
      "text/plain": [
       "<map at 0x2ddc492b460>"
      ]
     },
     "execution_count": 76,
     "metadata": {},
     "output_type": "execute_result"
    }
   ],
   "source": [
    "map(fruit_check,fruits)"
   ]
  },
  {
   "cell_type": "code",
   "execution_count": 77,
   "id": "af0690ff",
   "metadata": {},
   "outputs": [
    {
     "data": {
      "text/plain": [
       "map"
      ]
     },
     "execution_count": 77,
     "metadata": {},
     "output_type": "execute_result"
    }
   ],
   "source": [
    "type(map(fruit_check,fruits))"
   ]
  },
  {
   "cell_type": "code",
   "execution_count": 78,
   "id": "2ba8b6a7",
   "metadata": {},
   "outputs": [
    {
     "data": {
      "text/plain": [
       "['apple', 'avacado', '', '']"
      ]
     },
     "execution_count": 78,
     "metadata": {},
     "output_type": "execute_result"
    }
   ],
   "source": [
    "list(map(fruit_check,fruits))"
   ]
  },
  {
   "cell_type": "code",
   "execution_count": 81,
   "id": "5e2736ba",
   "metadata": {},
   "outputs": [
    {
     "data": {
      "text/plain": [
       "['apple', 'avacado', '', '']"
      ]
     },
     "execution_count": 81,
     "metadata": {},
     "output_type": "execute_result"
    }
   ],
   "source": [
    "list(map(lambda fruit: fruit if fruit.startswith(\"a\") else \"\",fruits))"
   ]
  },
  {
   "cell_type": "code",
   "execution_count": 82,
   "id": "466ca6f6",
   "metadata": {},
   "outputs": [],
   "source": [
    "#map return iterators"
   ]
  },
  {
   "cell_type": "code",
   "execution_count": 84,
   "id": "6f657b39",
   "metadata": {},
   "outputs": [
    {
     "data": {
      "text/plain": [
       "<map at 0x2ddc4a7e9d0>"
      ]
     },
     "execution_count": 84,
     "metadata": {},
     "output_type": "execute_result"
    }
   ],
   "source": [
    "a=map(lambda fruit: fruit if fruit.startswith(\"a\") else \"\",fruits)\n",
    "a"
   ]
  },
  {
   "cell_type": "code",
   "execution_count": 85,
   "id": "c1970b5c",
   "metadata": {},
   "outputs": [
    {
     "data": {
      "text/plain": [
       "'apple'"
      ]
     },
     "execution_count": 85,
     "metadata": {},
     "output_type": "execute_result"
    }
   ],
   "source": [
    "next(a)"
   ]
  },
  {
   "cell_type": "code",
   "execution_count": 86,
   "id": "7240e53b",
   "metadata": {},
   "outputs": [
    {
     "data": {
      "text/plain": [
       "'avacado'"
      ]
     },
     "execution_count": 86,
     "metadata": {},
     "output_type": "execute_result"
    }
   ],
   "source": [
    "next(a)"
   ]
  },
  {
   "cell_type": "code",
   "execution_count": 87,
   "id": "a42a3be5",
   "metadata": {},
   "outputs": [
    {
     "data": {
      "text/plain": [
       "''"
      ]
     },
     "execution_count": 87,
     "metadata": {},
     "output_type": "execute_result"
    }
   ],
   "source": [
    "next(a)"
   ]
  },
  {
   "cell_type": "code",
   "execution_count": 88,
   "id": "e870d52f",
   "metadata": {},
   "outputs": [
    {
     "data": {
      "text/plain": [
       "''"
      ]
     },
     "execution_count": 88,
     "metadata": {},
     "output_type": "execute_result"
    }
   ],
   "source": [
    "next(a)"
   ]
  },
  {
   "cell_type": "code",
   "execution_count": 89,
   "id": "7613f22b",
   "metadata": {},
   "outputs": [
    {
     "ename": "StopIteration",
     "evalue": "",
     "output_type": "error",
     "traceback": [
      "\u001b[1;31m---------------------------------------------------------------------------\u001b[0m",
      "\u001b[1;31mStopIteration\u001b[0m                             Traceback (most recent call last)",
      "Input \u001b[1;32mIn [89]\u001b[0m, in \u001b[0;36m<cell line: 1>\u001b[1;34m()\u001b[0m\n\u001b[1;32m----> 1\u001b[0m \u001b[38;5;28;43mnext\u001b[39;49m\u001b[43m(\u001b[49m\u001b[43ma\u001b[49m\u001b[43m)\u001b[49m\n",
      "\u001b[1;31mStopIteration\u001b[0m: "
     ]
    }
   ],
   "source": [
    "next(a)"
   ]
  },
  {
   "cell_type": "code",
   "execution_count": 1,
   "id": "5cdb0c31",
   "metadata": {},
   "outputs": [],
   "source": [
    "# take a list and display its cubes in a list using map\n",
    "l=[-2,4,5,85,99,-67]\n",
    "def cube(num):\n",
    "    return num**3"
   ]
  },
  {
   "cell_type": "code",
   "execution_count": 2,
   "id": "f4bf583d",
   "metadata": {},
   "outputs": [
    {
     "data": {
      "text/plain": [
       "[-8, 64, 125, 614125, 970299, -300763]"
      ]
     },
     "execution_count": 2,
     "metadata": {},
     "output_type": "execute_result"
    }
   ],
   "source": [
    "list(map(cube,l))"
   ]
  },
  {
   "cell_type": "code",
   "execution_count": null,
   "id": "48dd063b",
   "metadata": {},
   "outputs": [],
   "source": [
    "l1=[12,3,4]\n",
    "l2=[2,3,4]\n",
    "#output---l=[14,6,8]"
   ]
  },
  {
   "cell_type": "code",
   "execution_count": 3,
   "id": "f9108f56",
   "metadata": {},
   "outputs": [
    {
     "data": {
      "text/plain": [
       "[(12, 2), (3, 3), (4, 4)]"
      ]
     },
     "execution_count": 3,
     "metadata": {},
     "output_type": "execute_result"
    }
   ],
   "source": [
    "l1=[12,3,4]\n",
    "l2=[2,3,4]\n",
    "l=list(zip(l1,l2))\n",
    "l"
   ]
  },
  {
   "cell_type": "code",
   "execution_count": 4,
   "id": "ce24f894",
   "metadata": {},
   "outputs": [
    {
     "data": {
      "text/plain": [
       "[14, 6, 8]"
      ]
     },
     "execution_count": 4,
     "metadata": {},
     "output_type": "execute_result"
    }
   ],
   "source": [
    "k=[]\n",
    "for i in l:\n",
    "    s=i[0]+i[1]\n",
    "    k.append(s)\n",
    "k\n",
    "    "
   ]
  },
  {
   "cell_type": "markdown",
   "id": "aae37ed3",
   "metadata": {},
   "source": [
    "# using map"
   ]
  },
  {
   "cell_type": "code",
   "execution_count": 5,
   "id": "9021d9be",
   "metadata": {},
   "outputs": [
    {
     "data": {
      "text/plain": [
       "[14, 6, 8]"
      ]
     },
     "execution_count": 5,
     "metadata": {},
     "output_type": "execute_result"
    }
   ],
   "source": [
    "l1=[12,3,4]\n",
    "l2=[2,3,4]\n",
    "list(map(lambda x,y:x+y,l1,l2))"
   ]
  },
  {
   "cell_type": "code",
   "execution_count": 6,
   "id": "c6bcad54",
   "metadata": {},
   "outputs": [],
   "source": [
    "base_list=[2,4,6]\n",
    "power_list=[2,3,1]\n",
    "def num_power(base,number):\n",
    "    result=base**power\n",
    "    return result\n"
   ]
  },
  {
   "cell_type": "code",
   "execution_count": 7,
   "id": "5d6f8056",
   "metadata": {},
   "outputs": [
    {
     "data": {
      "text/plain": [
       "[4, 64, 6]"
      ]
     },
     "execution_count": 7,
     "metadata": {},
     "output_type": "execute_result"
    }
   ],
   "source": [
    "list(map(lambda b,p:b**p,base_list,power_list))"
   ]
  },
  {
   "cell_type": "code",
   "execution_count": 1,
   "id": "a09a3a0a",
   "metadata": {},
   "outputs": [
    {
     "data": {
      "text/plain": [
       "[8, 11, 14, 17]"
      ]
     },
     "execution_count": 1,
     "metadata": {},
     "output_type": "execute_result"
    }
   ],
   "source": [
    "a=[1,2,3,4]\n",
    "b=[5,6,7,8]\n",
    "c=[2,3,4,5]\n",
    "list(map(lambda x,y,z : x+y+z ,a,b,c))\n"
   ]
  },
  {
   "cell_type": "markdown",
   "id": "19db3243",
   "metadata": {},
   "source": [
    "# filter-higher order function"
   ]
  },
  {
   "cell_type": "code",
   "execution_count": 8,
   "id": "57f62838",
   "metadata": {},
   "outputs": [
    {
     "data": {
      "text/plain": [
       "['apple', 'avacado', '', '']"
      ]
     },
     "execution_count": 8,
     "metadata": {},
     "output_type": "execute_result"
    }
   ],
   "source": [
    "fruits=[\"apple\",\"avacado\",\"banana\",\"cherry\"]\n",
    "list(map(lambda fruit: fruit if fruit.startswith(\"a\") else \"\",fruits))\n"
   ]
  },
  {
   "cell_type": "code",
   "execution_count": 9,
   "id": "dad19731",
   "metadata": {},
   "outputs": [],
   "source": [
    "# using filter"
   ]
  },
  {
   "cell_type": "code",
   "execution_count": 10,
   "id": "16f797bc",
   "metadata": {},
   "outputs": [
    {
     "data": {
      "text/plain": [
       "<filter at 0x241faa4a9d0>"
      ]
     },
     "execution_count": 10,
     "metadata": {},
     "output_type": "execute_result"
    }
   ],
   "source": [
    "filter(lambda fruit:fruit if fruit.startswith(\"a\") else \"\",fruits)"
   ]
  },
  {
   "cell_type": "code",
   "execution_count": 12,
   "id": "81f9b6ff",
   "metadata": {},
   "outputs": [
    {
     "data": {
      "text/plain": [
       "['apple', 'avacado']"
      ]
     },
     "execution_count": 12,
     "metadata": {},
     "output_type": "execute_result"
    }
   ],
   "source": [
    "list(filter(lambda fruit:fruit if fruit.startswith(\"a\") else \"\",fruits)) # gives output for true condition only#that is the main difference b/w filter and map"
   ]
  },
  {
   "cell_type": "code",
   "execution_count": 17,
   "id": "6d094baa",
   "metadata": {},
   "outputs": [
    {
     "data": {
      "text/plain": [
       "[2, 4, 6, 8]"
      ]
     },
     "execution_count": 17,
     "metadata": {},
     "output_type": "execute_result"
    }
   ],
   "source": [
    "l=[1,2,3,4]\n",
    "list(map(lambda x: x*2,l))"
   ]
  },
  {
   "cell_type": "code",
   "execution_count": 15,
   "id": "3ac9d75b",
   "metadata": {},
   "outputs": [
    {
     "data": {
      "text/plain": [
       "[1, 2, 3, 4]"
      ]
     },
     "execution_count": 15,
     "metadata": {},
     "output_type": "execute_result"
    }
   ],
   "source": [
    "list(filter(lambda x: x*2,l)) #only applicable on if condition #for computation use map function,for extraction use filter"
   ]
  },
  {
   "cell_type": "markdown",
   "id": "1ce96c9b",
   "metadata": {},
   "source": [
    "# reduce()-single answer"
   ]
  },
  {
   "cell_type": "code",
   "execution_count": 21,
   "id": "8b51b1f3",
   "metadata": {},
   "outputs": [
    {
     "data": {
      "text/plain": [
       "113"
      ]
     },
     "execution_count": 21,
     "metadata": {},
     "output_type": "execute_result"
    }
   ],
   "source": [
    "\n",
    "from functools import reduce\n",
    "li=[47,11,42,13]\n",
    "reduce(lambda x,y:x+y,li)"
   ]
  },
  {
   "cell_type": "code",
   "execution_count": 26,
   "id": "25943828",
   "metadata": {},
   "outputs": [
    {
     "data": {
      "text/plain": [
       "47"
      ]
     },
     "execution_count": 26,
     "metadata": {},
     "output_type": "execute_result"
    }
   ],
   "source": [
    "from functools import reduce\n",
    "li=[47,11,42,13]\n",
    "reduce(lambda a,b: a if a>b else b,li)"
   ]
  },
  {
   "cell_type": "code",
   "execution_count": null,
   "id": "9e28076a",
   "metadata": {},
   "outputs": [],
   "source": []
  }
 ],
 "metadata": {
  "kernelspec": {
   "display_name": "Python 3 (ipykernel)",
   "language": "python",
   "name": "python3"
  },
  "language_info": {
   "codemirror_mode": {
    "name": "ipython",
    "version": 3
   },
   "file_extension": ".py",
   "mimetype": "text/x-python",
   "name": "python",
   "nbconvert_exporter": "python",
   "pygments_lexer": "ipython3",
   "version": "3.9.12"
  }
 },
 "nbformat": 4,
 "nbformat_minor": 5
}
