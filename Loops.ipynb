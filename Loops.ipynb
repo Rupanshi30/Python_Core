{
 "cells": [
  {
   "cell_type": "markdown",
   "id": "5476538b",
   "metadata": {},
   "source": [
    "# first program"
   ]
  },
  {
   "cell_type": "markdown",
   "id": "6741c9a7",
   "metadata": {},
   "source": [
    "## first program"
   ]
  },
  {
   "cell_type": "markdown",
   "id": "61f23d53",
   "metadata": {},
   "source": [
    "wap to **add** two numbers"
   ]
  },
  {
   "attachments": {
    "SIGNATURE%201.jpg": {
     "image/jpeg": "[encoded data removed]"
    }
   },
   "cell_type": "markdown",
   "id": "73c75a5d",
   "metadata": {},
   "source": [
    "![SIGNATURE%201.jpg](attachment:SIGNATURE%201.jpg)"
   ]
  },
  {
   "cell_type": "code",
   "execution_count": null,
   "id": "da5dc8aa",
   "metadata": {},
   "outputs": [],
   "source": [
    "#wap to display hello if the number is divisible by 5 otherwise print bye\n",
    "num = int(input(\"Enter a number\"))\n",
    "if num%5==0:\n",
    "    print(\"hello\")\n",
    "else:\n",
    "    print(\"bye\")\n",
    "a=2"
   ]
  },
  {
   "cell_type": "code",
   "execution_count": null,
   "id": "2acf30d6",
   "metadata": {},
   "outputs": [],
   "source": [
    "print(a)"
   ]
  },
  {
   "cell_type": "code",
   "execution_count": 29,
   "id": "be81a52b",
   "metadata": {},
   "outputs": [],
   "source": [
    "a=3\n"
   ]
  },
  {
   "cell_type": "code",
   "execution_count": 30,
   "id": "a8cc8f9d",
   "metadata": {},
   "outputs": [],
   "source": [
    "#Homeworkquestions"
   ]
  },
  {
   "cell_type": "code",
   "execution_count": 31,
   "id": "918f0d02",
   "metadata": {},
   "outputs": [
    {
     "name": "stdout",
     "output_type": "stream",
     "text": [
      "Enter the age :6\n",
      "Person is not eligible for voting\n"
     ]
    }
   ],
   "source": [
    "x=int(input(\"Enter the age :\"))\n",
    "if x>18:\n",
    "    print(\"Person is eligible for voting\")\n",
    "elif x==18:\n",
    "    print(\"Person is 18 years old and eligible for voting\")\n",
    "else:\n",
    "    print(\"Person is not eligible for voting\")"
   ]
  },
  {
   "cell_type": "code",
   "execution_count": 32,
   "id": "0d8f3014",
   "metadata": {},
   "outputs": [
    {
     "name": "stdout",
     "output_type": "stream",
     "text": [
      "Enter a number: 5\n",
      "No is odd\n"
     ]
    }
   ],
   "source": [
    "x=int(input(\"Enter a number: \"))\n",
    "if x%2==0:\n",
    "    print(\"No is even\")\n",
    "else:\n",
    "    print(\"No is odd\")"
   ]
  },
  {
   "cell_type": "code",
   "execution_count": 33,
   "id": "3a6fe728",
   "metadata": {},
   "outputs": [
    {
     "name": "stdout",
     "output_type": "stream",
     "text": [
      "Enter a number: 56\n",
      "No is div by 7\n"
     ]
    }
   ],
   "source": [
    "x=int(input(\"Enter a number: \"))\n",
    "if x%7==0:\n",
    "    print(\"No is div by 7\")\n",
    "else:\n",
    "    print(\"No is not div\")"
   ]
  },
  {
   "cell_type": "code",
   "execution_count": 34,
   "id": "b0d66c1f",
   "metadata": {},
   "outputs": [
    {
     "name": "stdout",
     "output_type": "stream",
     "text": [
      "Enter a number: 10\n",
      "Hello\n"
     ]
    }
   ],
   "source": [
    "x=int(input(\"Enter a number: \"))\n",
    "if x%5==0:\n",
    "    print(\"Hello\")\n",
    "else:\n",
    "    print(\"Bye\")"
   ]
  },
  {
   "cell_type": "code",
   "execution_count": 35,
   "id": "cc004a91",
   "metadata": {},
   "outputs": [
    {
     "name": "stdout",
     "output_type": "stream",
     "text": [
      "Enter a number between 1-7 : 3\n",
      "TUESDAY\n"
     ]
    }
   ],
   "source": [
    "x=int(input(\"Enter a number between 1-7 : \"))\n",
    "if x==1:\n",
    "    print(\"SUNDAY\")\n",
    "elif x==2:\n",
    "    print(\"Monday\")\n",
    "elif x==3:\n",
    "    print(\"TUESDAY\")\n",
    "elif x==4:\n",
    "    print(\"WEDNESDAY\")\n",
    "elif x==5:\n",
    "    print(\"THURSDAY\")\n",
    "elif x==6:\n",
    "    print(\"FRIDAY\")\n",
    "elif x==7:\n",
    "    print(\"SATURDAY\")\n",
    "else:\n",
    "    print(\"WRONG INPUT!!\")"
   ]
  },
  {
   "cell_type": "code",
   "execution_count": 36,
   "id": "c8b98393",
   "metadata": {},
   "outputs": [
    {
     "name": "stdout",
     "output_type": "stream",
     "text": [
      "Enter the city: Delhi\n",
      "MONUMENT IS : Red Fort\n"
     ]
    }
   ],
   "source": [
    "x=str(input(\"Enter the city: \"))\n",
    "if x==\"Delhi\":\n",
    "    print(\"MONUMENT IS : Red Fort\")\n",
    "elif x==\"Agra\":\n",
    "    print(\"MONUMENT IS : Taj Mahal\")\n",
    "elif x==\"Jaipur\":\n",
    "    print(\"MONUMENT IS : Jal Mahal\")\n",
    "else:\n",
    "    print(\"Wrong City!!\")"
   ]
  },
  {
   "cell_type": "code",
   "execution_count": 39,
   "id": "194d47c7",
   "metadata": {},
   "outputs": [
    {
     "name": "stdout",
     "output_type": "stream",
     "text": [
      "8 is greater\n"
     ]
    }
   ],
   "source": [
    "x=3\n",
    "y=5\n",
    "z=8\n",
    "if x>y and x>z:\n",
    "    print(x, \"is greater\")\n",
    "elif y>z and y>x:\n",
    "    print(y,\"is greater\")\n",
    "elif z>x and z>y:\n",
    "    print(z,\"is greater\")\n",
    "elif x==y and y==z:\n",
    "    print(\"all three are equal\")\n",
    "else:\n",
    "    print(\"Invalid input\")"
   ]
  },
  {
   "cell_type": "code",
   "execution_count": 40,
   "id": "5bf1e1c5",
   "metadata": {},
   "outputs": [
    {
     "name": "stdout",
     "output_type": "stream",
     "text": [
      "Enter a number: 35\n",
      "No is div by both 5 and 7\n"
     ]
    }
   ],
   "source": [
    "x=int(input(\"Enter a number: \"))\n",
    "if x%5==0 and x%7==0:\n",
    "    print(\"No is div by both 5 and 7\")\n",
    "elif x%5==0 or x%7==0:\n",
    "    print(\"No is either div by 5 0r 7\")\n",
    "else:\n",
    "    print(\"invalid no\")"
   ]
  },
  {
   "cell_type": "code",
   "execution_count": 7,
   "id": "76f60a51",
   "metadata": {},
   "outputs": [
    {
     "name": "stdout",
     "output_type": "stream",
     "text": [
      "all three will get: 26 candies\n",
      "diksha gets 1 candies\n"
     ]
    }
   ],
   "source": [
    "r=24\n",
    "s=34\n",
    "a=21\n",
    "sum=(r+s+a)\n",
    "rem=sum%3\n",
    "if sum%3==0:\n",
    "    print(sum/3,\"equally divided\")\n",
    "else:\n",
    "    m=sum//3\n",
    "    print(\"all three will get:\",m,\"candies\")\n",
    "    print(\"diksha gets\",rem,\"candies\")\n"
   ]
  },
  {
   "cell_type": "code",
   "execution_count": null,
   "id": "9997a4cd",
   "metadata": {},
   "outputs": [],
   "source": [
    "#05/09/22"
   ]
  },
  {
   "cell_type": "code",
   "execution_count": 1,
   "id": "60e84cf6",
   "metadata": {},
   "outputs": [
    {
     "name": "stdout",
     "output_type": "stream",
     "text": [
      "0\n",
      "1\n",
      "2\n",
      "3\n",
      "4\n",
      "5\n",
      "6\n",
      "7\n",
      "8\n",
      "9\n"
     ]
    }
   ],
   "source": [
    "# FIRST operation in for loop is range\n",
    "for i in range(10):\n",
    "    print(i)\n",
    "# in range 1 argument is starting point and second is ending point which is (n-1)"
   ]
  },
  {
   "cell_type": "code",
   "execution_count": 6,
   "id": "c8374f88",
   "metadata": {},
   "outputs": [
    {
     "name": "stdout",
     "output_type": "stream",
     "text": [
      "enter a number: 9\n",
      "9 is not a prime number\n",
      "9 is a prime number\n"
     ]
    }
   ],
   "source": [
    "num=int(input(\"enter a number: \"))\n",
    "if num > 1:\n",
    "    for i in range(2,int(num/2)+1):\n",
    "        if (num % i) == 0:\n",
    "            print(num, \"is not a prime number\")\n",
    "    else:\n",
    "        print(num, \"is a prime number\")\n",
    "        \n",
    "\n"
   ]
  },
  {
   "cell_type": "code",
   "execution_count": 78,
   "id": "fcf53007",
   "metadata": {},
   "outputs": [
    {
     "name": "stdout",
     "output_type": "stream",
     "text": [
      "enter how many units: 350\n",
      "2000\n"
     ]
    }
   ],
   "source": [
    "unit=int(input(\"enter how many units: \"))\n",
    "if unit<=100:\n",
    "    print(\"no bill\")\n",
    "elif unit>100 and unit<200:\n",
    "    bill=(unit-100)*5\n",
    "    print(bill)\n",
    "elif unit>=200:\n",
    "    bill=(100*5)+(unit-200)*10\n",
    "    \n",
    "    print(bill)"
   ]
  },
  {
   "cell_type": "code",
   "execution_count": 70,
   "id": "02fc5e4a",
   "metadata": {},
   "outputs": [],
   "source": [
    "#05/09/22"
   ]
  },
  {
   "cell_type": "code",
   "execution_count": 2,
   "id": "3ff2b793",
   "metadata": {},
   "outputs": [
    {
     "name": "stdout",
     "output_type": "stream",
     "text": [
      "1\n",
      "2\n",
      "3\n",
      "4\n",
      "5\n",
      "6\n",
      "7\n",
      "8\n",
      "9\n"
     ]
    }
   ],
   "source": [
    "## range with start and end\n",
    "for i in range(1,10):\n",
    "    print(i)"
   ]
  },
  {
   "cell_type": "code",
   "execution_count": 3,
   "id": "6860f7f3",
   "metadata": {},
   "outputs": [
    {
     "name": "stdout",
     "output_type": "stream",
     "text": [
      "1\n",
      "3\n",
      "5\n",
      "7\n",
      "9\n"
     ]
    }
   ],
   "source": [
    "# next operation in for loop is  using all parameters along with step size\n",
    "for i in range(1,10,2):\n",
    "    print(i)\n",
    "# stepsize is argument after end of range it helps in jumping or getting desiered output.\n",
    "# in above I want to get odd numbers between 1,9\n",
    "# so I used stepsize of 2 which skips 1 value"
   ]
  },
  {
   "cell_type": "code",
   "execution_count": 4,
   "id": "8cf0b473",
   "metadata": {},
   "outputs": [
    {
     "name": "stdout",
     "output_type": "stream",
     "text": [
      "10\n",
      "9\n",
      "8\n",
      "7\n",
      "6\n",
      "5\n",
      "4\n",
      "3\n",
      "2\n"
     ]
    }
   ],
   "source": [
    "## with negative step size \n",
    "for i in range(10,1,-1):\n",
    "    print(i)\n",
    "# negative stepsize gives us decreasing or opposite order of output"
   ]
  },
  {
   "cell_type": "code",
   "execution_count": 1,
   "id": "416ff4ab",
   "metadata": {},
   "outputs": [
    {
     "name": "stdout",
     "output_type": "stream",
     "text": [
      "10\n",
      "8\n",
      "6\n",
      "4\n",
      "2\n"
     ]
    }
   ],
   "source": [
    "for i in range(10,0,-2):\n",
    "    print(i)"
   ]
  },
  {
   "cell_type": "code",
   "execution_count": 5,
   "id": "18a70fd6",
   "metadata": {},
   "outputs": [
    {
     "name": "stdout",
     "output_type": "stream",
     "text": [
      "2\n",
      "4\n",
      "6\n",
      "8\n"
     ]
    }
   ],
   "source": [
    "# applying functions or if/else in for loop\n",
    "for i in range(1,10):\n",
    "    if i%2==0:\n",
    "        print(i)\n",
    "# as we can see for loop applies if else condition in a list  without looping we have to apply if/else condition 9 times\n",
    "# but with for loop it gets complete in 2 line code"
   ]
  },
  {
   "cell_type": "code",
   "execution_count": 6,
   "id": "c5d295e2",
   "metadata": {},
   "outputs": [
    {
     "name": "stdout",
     "output_type": "stream",
     "text": [
      "1 2 3 4 5 "
     ]
    }
   ],
   "source": [
    "#### output in one line \n",
    "for i in range(1,6):\n",
    "    print(i, end=\" \")"
   ]
  },
  {
   "cell_type": "code",
   "execution_count": 7,
   "id": "ae6f35fd",
   "metadata": {},
   "outputs": [
    {
     "name": "stdout",
     "output_type": "stream",
     "text": [
      "12345"
     ]
    }
   ],
   "source": [
    "#### output in one line \n",
    "for i in range(1,6):\n",
    "    print(i, end= \"\")"
   ]
  },
  {
   "cell_type": "code",
   "execution_count": 8,
   "id": "c5e74fec",
   "metadata": {},
   "outputs": [
    {
     "name": "stdout",
     "output_type": "stream",
     "text": [
      "hello,1 hello,2 hello,3 hello,4 hello,5 "
     ]
    }
   ],
   "source": [
    "for i in range(1,6):\n",
    "    print(\"hello\",i, sep=\",\", end=\" \") #use of separator and end"
   ]
  },
  {
   "cell_type": "code",
   "execution_count": 9,
   "id": "3bee6fc5",
   "metadata": {},
   "outputs": [
    {
     "name": "stdout",
     "output_type": "stream",
     "text": [
      "enter the number : 6\n",
      "6 * 1 = 6\n",
      "6 * 2 = 12\n",
      "6 * 3 = 18\n",
      "6 * 4 = 24\n",
      "6 * 5 = 30\n",
      "6 * 6 = 36\n",
      "6 * 7 = 42\n",
      "6 * 8 = 48\n",
      "6 * 9 = 54\n",
      "6 * 10 = 60\n"
     ]
    }
   ],
   "source": [
    "#table of number entered by user\n",
    "num=int(input(\"enter the number : \"))\n",
    "for i in range(1,11):\n",
    "    print(num ,\"*\", i ,\"=\", num*i)"
   ]
  },
  {
   "cell_type": "code",
   "execution_count": 1,
   "id": "a0b66a7f",
   "metadata": {},
   "outputs": [
    {
     "name": "stdout",
     "output_type": "stream",
     "text": [
      "enter the number : 5\n",
      "5 * 1 = 5\n",
      "              sqaure of 2 is   4\n",
      "5 * 3 = 15\n",
      "              sqaure of 4 is   16\n",
      "5 * 5 = 25\n",
      "              sqaure of 6 is   36\n",
      "5 * 7 = 35\n",
      "              sqaure of 8 is   64\n",
      "5 * 9 = 45\n",
      "              sqaure of 10 is   100\n"
     ]
    }
   ],
   "source": [
    "#square of even no and table of odd no\n",
    "num=int(input(\"enter the number : \"))\n",
    "for i in range(1,11):\n",
    "    if (i%2==0):\n",
    "        print(\"     sqaure of\", i,\"is  \", i*i)\n",
    "    else:\n",
    "        print(num ,\"*\", i ,\"=\", num*i)"
   ]
  },
  {
   "cell_type": "code",
   "execution_count": 12,
   "id": "d02df4a4",
   "metadata": {},
   "outputs": [
    {
     "name": "stdout",
     "output_type": "stream",
     "text": [
      "8 * = 80\n",
      "8 * = 72\n",
      "8 * = 64\n",
      "8 * = 56\n",
      "8 * = 48\n",
      "8 * = 40\n",
      "8 * = 32\n",
      "8 * = 24\n",
      "8 * = 16\n",
      "8 * = 8\n"
     ]
    }
   ],
   "source": [
    "\n",
    "for i in range(80,7,-8):\n",
    "    print(\"8 * \" \"=\" , i )"
   ]
  },
  {
   "cell_type": "code",
   "execution_count": 4,
   "id": "64fb7783",
   "metadata": {},
   "outputs": [
    {
     "name": "stdout",
     "output_type": "stream",
     "text": [
      "the cube of 1 is 1\n",
      "the square of 2 is 4\n",
      "the cube of 3 is 27\n",
      "the square of 4 is 16\n",
      "the cube of 5 is 125\n",
      "the square of 6 is 36\n",
      "the cube of 7 is 343\n",
      "the square of 8 is 64\n",
      "the cube of 9 is 729\n",
      "the square of 10 is 100\n",
      "the cube of 11 is 1331\n",
      "the square of 12 is 144\n",
      "the cube of 13 is 2197\n",
      "the square of 14 is 196\n",
      "the cube of 15 is 3375\n",
      "the square of 16 is 256\n",
      "the cube of 17 is 4913\n",
      "the square of 18 is 324\n",
      "the cube of 19 is 6859\n",
      "the square of 20 is 400\n"
     ]
    }
   ],
   "source": [
    "for i in range (1,21):\n",
    "    if i%2==0:\n",
    "        print(\"the square of\",i,\"is\",i**2)\n",
    "    else:\n",
    "        print(\"the cube of\",i,\"is\",i**3)"
   ]
  },
  {
   "cell_type": "code",
   "execution_count": 3,
   "id": "7692c60c",
   "metadata": {},
   "outputs": [
    {
     "name": "stdout",
     "output_type": "stream",
     "text": [
      "Enter the range2@4\n",
      "6\n"
     ]
    }
   ],
   "source": [
    "a,b=input(\"Enter the range\").split(\"@\")\n",
    "a=int(a)\n",
    "b=int(b)\n",
    "c=a+b\n",
    "print(c)"
   ]
  },
  {
   "cell_type": "code",
   "execution_count": 5,
   "id": "7b8d667e",
   "metadata": {},
   "outputs": [
    {
     "name": "stdout",
     "output_type": "stream",
     "text": [
      "1@2@hello@hii\n"
     ]
    }
   ],
   "source": [
    "print(1,2,\"hello\",\"hii\",sep=\"@\")"
   ]
  },
  {
   "cell_type": "code",
   "execution_count": 6,
   "id": "d5f0b080",
   "metadata": {},
   "outputs": [
    {
     "name": "stdout",
     "output_type": "stream",
     "text": [
      "1@\n",
      "@2@hello@hii\n"
     ]
    }
   ],
   "source": [
    "print(1,\"\\n\",2,\"hello\",\"hii\",sep=\"@\")"
   ]
  },
  {
   "cell_type": "code",
   "execution_count": 7,
   "id": "230431d6",
   "metadata": {},
   "outputs": [
    {
     "name": "stdout",
     "output_type": "stream",
     "text": [
      "Enter a no: 15\n",
      "1 is the factor of 15\n",
      "3 is the factor of 15\n",
      "5 is the factor of 15\n",
      "15 is the factor of 15\n"
     ]
    }
   ],
   "source": [
    "x=int(input(\"Enter a no: \"))\n",
    "for i in range(1,x+1):\n",
    "    if (x%i==0):\n",
    "        print(i,\"is the factor of\",x)"
   ]
  },
  {
   "cell_type": "code",
   "execution_count": 8,
   "id": "32d752da",
   "metadata": {},
   "outputs": [
    {
     "name": "stdout",
     "output_type": "stream",
     "text": [
      "1 neither by 5 nor by 3\n",
      "2 neither by 5 nor by 3\n",
      "12 either by 5 or 3\n",
      "23 neither by 5 nor by 3\n",
      "34 neither by 5 nor by 3\n",
      "45 div by both\n",
      "56 neither by 5 nor by 3\n",
      "55 either by 5 or 3\n"
     ]
    }
   ],
   "source": [
    "list=[1,2,12,23,34,45,56,55]\n",
    "for i in list:\n",
    "    if i%5==0 and i%3==0:\n",
    "        print(i,\"div by both\")\n",
    "    elif i%5==0 or i%3==0:\n",
    "        print(i,\"either by 5 or 3\")\n",
    "    else:\n",
    "        print(i,\"neither by 5 nor by 3\")"
   ]
  },
  {
   "cell_type": "code",
   "execution_count": 9,
   "id": "a10ec9ca",
   "metadata": {},
   "outputs": [
    {
     "name": "stdout",
     "output_type": "stream",
     "text": [
      "Enter the numbers:4,8\n",
      "30\n"
     ]
    }
   ],
   "source": [
    "start,end=input(\"Enter the numbers:\").split(\",\")\n",
    "start=int(start)\n",
    "end=int(end)\n",
    "sum=0\n",
    "for i in range(start,end+1):\n",
    "    sum=sum+i\n",
    "print(sum)"
   ]
  },
  {
   "cell_type": "code",
   "execution_count": 13,
   "id": "bc88f8c8",
   "metadata": {},
   "outputs": [],
   "source": [
    "### loops with sequence: strings,list,tuple etc. or any iterable"
   ]
  },
  {
   "cell_type": "code",
   "execution_count": 14,
   "id": "82781194",
   "metadata": {},
   "outputs": [
    {
     "name": "stdout",
     "output_type": "stream",
     "text": [
      "1\n",
      "2\n",
      "3\n",
      "4\n"
     ]
    }
   ],
   "source": [
    "# first we take a list\n",
    "a=[1,2,3,4]\n",
    "# applying for loop in it to print all values\n",
    "for i in a:\n",
    "    print(i)"
   ]
  },
  {
   "cell_type": "code",
   "execution_count": 15,
   "id": "5ff7d71e",
   "metadata": {},
   "outputs": [
    {
     "name": "stdout",
     "output_type": "stream",
     "text": [
      "p\n",
      "y\n",
      "t\n",
      "h\n",
      "o\n",
      "n\n"
     ]
    }
   ],
   "source": [
    "# you can use string instead of list or any other iterable object\n",
    "for i in 'python':\n",
    "    print(i)"
   ]
  },
  {
   "cell_type": "code",
   "execution_count": 16,
   "id": "92b31fd8",
   "metadata": {},
   "outputs": [
    {
     "name": "stdout",
     "output_type": "stream",
     "text": [
      "1\n",
      "2\n"
     ]
    }
   ],
   "source": [
    "d={1:\"one\",\"2\":\"two\"}\n",
    "for i in d:\n",
    "    print(i)  ## returns keys"
   ]
  },
  {
   "cell_type": "code",
   "execution_count": 17,
   "id": "2a9f01ee",
   "metadata": {},
   "outputs": [
    {
     "name": "stdout",
     "output_type": "stream",
     "text": [
      "1\n",
      "2\n",
      "3\n",
      "4\n",
      "5\n",
      "6\n",
      "7\n",
      "8\n",
      "9\n",
      "hello\n"
     ]
    }
   ],
   "source": [
    "for i in range(1,10):\n",
    "    print(i)\n",
    "else:\n",
    "    print(\"hello\")"
   ]
  },
  {
   "cell_type": "code",
   "execution_count": null,
   "id": "5c8ab569",
   "metadata": {},
   "outputs": [],
   "source": []
  },
  {
   "cell_type": "code",
   "execution_count": null,
   "id": "80bcaabc",
   "metadata": {},
   "outputs": [],
   "source": [
    "#06/09/22"
   ]
  },
  {
   "cell_type": "code",
   "execution_count": 10,
   "id": "7b6a018f",
   "metadata": {},
   "outputs": [
    {
     "name": "stdout",
     "output_type": "stream",
     "text": [
      "enter the no: 6\n",
      "factorial of 6 is 720\n"
     ]
    }
   ],
   "source": [
    "x=int(input(\"enter the no: \"))\n",
    "if x==0 or x==1:\n",
    "    print(\"factorial of\",x,\"is\",1)\n",
    "elif(x<0):\n",
    "    print(\"factorial of negative number cant be exist\")\n",
    "else:\n",
    "    fact=1\n",
    "    for i in range(1,x+1):\n",
    "        fact=fact*i\n",
    "print(\"factorial of\",x,\"is\",fact)"
   ]
  },
  {
   "cell_type": "code",
   "execution_count": 11,
   "id": "63308908",
   "metadata": {},
   "outputs": [
    {
     "name": "stdout",
     "output_type": "stream",
     "text": [
      "Enter the number:5\n",
      "the number is prime\n"
     ]
    }
   ],
   "source": [
    "num=int(input(\"Enter the number:\"))\n",
    "count=0\n",
    "for i in range(1,num+1):\n",
    "    if num%i==0:\n",
    "        count=count+1\n",
    "if count==2:\n",
    "    print(\"the number is prime\")\n",
    "else:\n",
    "    print(\"the number is composite\")\n",
    "    "
   ]
  },
  {
   "cell_type": "code",
   "execution_count": 13,
   "id": "67e55702",
   "metadata": {},
   "outputs": [
    {
     "name": "stdout",
     "output_type": "stream",
     "text": [
      "enter the range2 50\n",
      "2 3 4 5 6 7 8 9 10 11 12 13 14 15 16 17 18 19 20 21 22 23 24 "
     ]
    }
   ],
   "source": [
    "start,end=input(\"enter the range\").split(\" \")\n",
    "start=int(start)\n",
    "end=int(end)\n",
    "for i in range(start,end+1):\n",
    "    if i==25:\n",
    "        break\n",
    "    print(i,end=\" \")\n",
    "    "
   ]
  },
  {
   "cell_type": "code",
   "execution_count": 15,
   "id": "f470bb7f",
   "metadata": {},
   "outputs": [
    {
     "name": "stdout",
     "output_type": "stream",
     "text": [
      "enter the number :10\n",
      "1\n",
      "bye\n",
      "2\n",
      "bye\n",
      "3\n",
      "bye\n",
      "4\n",
      "bye\n",
      "5\n",
      "bye\n",
      "6\n",
      "bye\n",
      "7\n",
      "bye\n",
      "8\n",
      "bye\n",
      "10\n",
      "bye\n"
     ]
    }
   ],
   "source": [
    "a=int(input(\"enter the number :\"))\n",
    "for i in range(1,a+1):\n",
    "    if i==9:\n",
    "        continue\n",
    "    print(i)\n",
    "    print(\"bye\")"
   ]
  },
  {
   "cell_type": "code",
   "execution_count": 16,
   "id": "da234bc6",
   "metadata": {},
   "outputs": [],
   "source": [
    "a=\"hi\"\n",
    "if a==\"hello\":\n",
    "    pass"
   ]
  },
  {
   "cell_type": "code",
   "execution_count": 18,
   "id": "6d652d1f",
   "metadata": {},
   "outputs": [
    {
     "name": "stdout",
     "output_type": "stream",
     "text": [
      "Enter the numbers: 2 7\n",
      "the table of 2 is as:\n",
      "2 * 10 =  20\n",
      "2 * 9 =  18\n",
      "2 * 8 =  16\n",
      "2 * 7 =  14\n",
      "2 * 6 =  12\n",
      "2 * 5 =  10\n",
      "2 * 4 =  8\n",
      "2 * 3 =  6\n",
      "2 * 2 =  4\n",
      "2 * 1 =  2\n",
      "the table of 3 is as:\n",
      "3 * 10 =  30\n",
      "3 * 9 =  27\n",
      "3 * 8 =  24\n",
      "3 * 7 =  21\n",
      "3 * 6 =  18\n",
      "3 * 5 =  15\n",
      "3 * 4 =  12\n",
      "3 * 3 =  9\n",
      "3 * 2 =  6\n",
      "3 * 1 =  3\n",
      "the table of 4 is as:\n",
      "4 * 10 =  40\n",
      "4 * 9 =  36\n",
      "4 * 8 =  32\n",
      "4 * 7 =  28\n",
      "4 * 6 =  24\n",
      "4 * 5 =  20\n",
      "4 * 4 =  16\n",
      "4 * 3 =  12\n",
      "4 * 2 =  8\n",
      "4 * 1 =  4\n",
      "the table of 5 is as:\n",
      "5 * 10 =  50\n",
      "5 * 9 =  45\n",
      "5 * 8 =  40\n",
      "5 * 7 =  35\n",
      "5 * 6 =  30\n",
      "5 * 5 =  25\n",
      "5 * 4 =  20\n",
      "5 * 3 =  15\n",
      "5 * 2 =  10\n",
      "5 * 1 =  5\n",
      "the table of 6 is as:\n",
      "6 * 10 =  60\n",
      "6 * 9 =  54\n",
      "6 * 8 =  48\n",
      "6 * 7 =  42\n",
      "6 * 6 =  36\n",
      "6 * 5 =  30\n",
      "6 * 4 =  24\n",
      "6 * 3 =  18\n",
      "6 * 2 =  12\n",
      "6 * 1 =  6\n",
      "the table of 7 is as:\n",
      "7 * 10 =  70\n",
      "7 * 9 =  63\n",
      "7 * 8 =  56\n",
      "7 * 7 =  49\n",
      "7 * 6 =  42\n",
      "7 * 5 =  35\n",
      "7 * 4 =  28\n",
      "7 * 3 =  21\n",
      "7 * 2 =  14\n",
      "7 * 1 =  7\n"
     ]
    }
   ],
   "source": [
    "#wap to print the table from specified range\n",
    "x,y=input(\"Enter the numbers: \").split(\" \")\n",
    "x=int(x)\n",
    "y=int(y)\n",
    "for i in range(x,y+1):\n",
    "    print(\"the table of\",i,\"is as:\")\n",
    "    for j in range(10,0,-1):\n",
    "        print(i,\"*\",j,\"= \",i*j)"
   ]
  },
  {
   "cell_type": "code",
   "execution_count": 20,
   "id": "ed616a41",
   "metadata": {},
   "outputs": [
    {
     "name": "stdout",
     "output_type": "stream",
     "text": [
      "enter the number of rows5\n",
      "#####\n",
      "#####\n",
      "#####\n",
      "#####\n",
      "#####\n"
     ]
    }
   ],
   "source": [
    "rows=int(input(\"enter the number of rows\"))\n",
    "for i in range(1,rows+1):\n",
    "    for j in range(1,6):\n",
    "        print(\"#\",end=\"\")\n",
    "    print(end=\"\\n\")"
   ]
  },
  {
   "cell_type": "code",
   "execution_count": 46,
   "id": "374d5ae7",
   "metadata": {},
   "outputs": [
    {
     "name": "stdout",
     "output_type": "stream",
     "text": [
      "enter the number of rows6\n",
      "enter the number of columns 6\n",
      "1  2  3  4  5  6  \n",
      "1  2  3  4  5  6  \n",
      "1  2  3  4  5  6  \n",
      "1  2  3  4  5  6  \n",
      "1  2  3  4  5  6  \n",
      "1  2  3  4  5  6  \n"
     ]
    }
   ],
   "source": [
    "rows=int(input(\"enter the number of rows\"))\n",
    "num=int(input(\"enter the number of columns \"))\n",
    "for i in range(1,rows+1):\n",
    "    for j in range(1,num+1):\n",
    "        print(j,\" \",end=\"\")\n",
    "    print(end=\"\\n\")"
   ]
  },
  {
   "cell_type": "code",
   "execution_count": 22,
   "id": "929c7566",
   "metadata": {},
   "outputs": [
    {
     "name": "stdout",
     "output_type": "stream",
     "text": [
      "enter the number of rows10\n",
      "enter the number of columns 10\n",
      "1 2 3 4 5 6 7 8 9 10 \n",
      "11 12 13 14 15 16 17 18 19 20 \n",
      "21 22 23 24 25 26 27 28 29 30 \n",
      "31 32 33 34 35 36 37 38 39 40 \n",
      "41 42 43 44 45 46 47 48 49 50 \n",
      "51 52 53 54 55 56 57 58 59 60 \n",
      "61 62 63 64 65 66 67 68 69 70 \n",
      "71 72 73 74 75 76 77 78 79 80 \n",
      "81 82 83 84 85 86 87 88 89 90 \n",
      "91 92 93 94 95 96 97 98 99 100 \n"
     ]
    }
   ],
   "source": [
    "rows=int(input(\"enter the number of rows\"))\n",
    "num=int(input(\"enter the number of columns \"))\n",
    "count=1\n",
    "for i in range(1,rows+1):\n",
    "    for j in range(1,num+1):\n",
    "        print(count,end=\" \")\n",
    "        count+=1\n",
    "    print(end=\"\\n\")"
   ]
  },
  {
   "cell_type": "code",
   "execution_count": null,
   "id": "09585e60",
   "metadata": {},
   "outputs": [],
   "source": [
    "#homework of 6th september"
   ]
  },
  {
   "cell_type": "code",
   "execution_count": 26,
   "id": "f880db66",
   "metadata": {},
   "outputs": [
    {
     "name": "stdout",
     "output_type": "stream",
     "text": [
      "enter the number of rows5\n",
      "* \n",
      "* * \n",
      "* * * \n",
      "* * * * \n",
      "* * * * * \n"
     ]
    }
   ],
   "source": [
    "rows=int(input(\"enter the number of rows\"))\n",
    "for i in range(1,rows+1):\n",
    "    for j in range(1,i+1):\n",
    "        print(\"*\",end=\" \")\n",
    "    print(end=\"\\n\")"
   ]
  },
  {
   "cell_type": "code",
   "execution_count": 45,
   "id": "bccfaa2c",
   "metadata": {},
   "outputs": [
    {
     "name": "stdout",
     "output_type": "stream",
     "text": [
      "enter the number of rows5\n",
      "*   *   *   *   *    \n",
      "*   *   *   *    \n",
      "*   *   *    \n",
      "*   *    \n",
      "*    \n"
     ]
    }
   ],
   "source": [
    "rows=int(input(\"enter the number of rows\"))\n",
    "k=rows\n",
    "for i in range(1,rows+1):\n",
    "    for j in range(1,k+1):\n",
    "        print(\"*\",\" \",end=\" \")\n",
    "    k=k-1\n",
    "    print(\" \")"
   ]
  },
  {
   "cell_type": "code",
   "execution_count": 9,
   "id": "e4ea6067",
   "metadata": {},
   "outputs": [
    {
     "name": "stdout",
     "output_type": "stream",
     "text": [
      "odd no : 1\n",
      "even no : 4\n",
      "odd no : 9\n",
      "even no : 78\n",
      "odd no : 67\n",
      "even no : 98\n",
      "odd no : 55\n",
      "even no : 44\n"
     ]
    }
   ],
   "source": [
    "l=[1,4,9,78,67,98,55,44]\n",
    "for i in l:\n",
    "    if i%2==0:\n",
    "        print(\"even no :\",i)\n",
    "    else:\n",
    "        print(\"odd no :\",i)"
   ]
  },
  {
   "cell_type": "code",
   "execution_count": 13,
   "id": "0a452020",
   "metadata": {},
   "outputs": [
    {
     "name": "stdout",
     "output_type": "stream",
     "text": [
      "enter the range :2,6,8,9,4,7,23,67\n",
      "even no : 2\n",
      "even no : 6\n",
      "even no : 8\n",
      "odd no:  9\n",
      "even no : 4\n",
      "odd no:  7\n",
      "odd no:  23\n",
      "odd no:  67\n"
     ]
    }
   ],
   "source": [
    "list=input(\"enter the range :\").split(\",\")\n",
    "for i in list:\n",
    "    i=int(i)\n",
    "    if i%2==0:\n",
    "        print(\"even no :\",i)\n",
    "    else:\n",
    "        print(\"odd no: \",i)\n"
   ]
  },
  {
   "cell_type": "code",
   "execution_count": 83,
   "id": "b31a208e",
   "metadata": {},
   "outputs": [
    {
     "name": "stdout",
     "output_type": "stream",
     "text": [
      "enter the range :2 5\n",
      "The factorial of 2 is 2\n",
      "The factorial of 3 is 6\n",
      "The factorial of 4 is 24\n",
      "The factorial of 5 is 120\n"
     ]
    }
   ],
   "source": [
    "start,end=input(\"enter the range :\").split(\" \")\n",
    "start=int(start)\n",
    "end=int(end)\n",
    "for i in range(start, end + 1):\n",
    "        fact = 1\n",
    "        for j in range(1, i + 1):\n",
    "            fact = fact * j\n",
    "        print(f'The factorial of {i} is {fact}')\n",
    " \n",
    " "
   ]
  },
  {
   "cell_type": "code",
   "execution_count": 3,
   "id": "af99087b",
   "metadata": {},
   "outputs": [],
   "source": [
    "#07/09/22"
   ]
  },
  {
   "cell_type": "code",
   "execution_count": 17,
   "id": "06ed70c2",
   "metadata": {},
   "outputs": [
    {
     "name": "stdout",
     "output_type": "stream",
     "text": [
      "enter the range :2 20\n",
      "the number is prime 2\n",
      "the number is prime 3\n",
      "the number is composite 4\n",
      "the number is prime 5\n",
      "the number is composite 6\n",
      "the number is prime 7\n",
      "the number is composite 8\n",
      "the number is composite 9\n",
      "the number is composite 10\n",
      "the number is prime 11\n",
      "the number is composite 12\n",
      "the number is prime 13\n",
      "the number is composite 14\n",
      "the number is composite 15\n",
      "the number is composite 16\n",
      "the number is prime 17\n",
      "the number is composite 18\n",
      "the number is prime 19\n"
     ]
    }
   ],
   "source": [
    "start,end=input(\"enter the range :\").split(\" \")\n",
    "start=int(start)\n",
    "end=int(end)\n",
    "for i in range(start, end):\n",
    "    count=0\n",
    "    for j in range(1,i+1):\n",
    "        if i%j==0:\n",
    "            count=count+1\n",
    "    if count==2:\n",
    "        print(\"the number is prime:\",j)\n",
    "    else:\n",
    "        print(\"the number is composite:\",j)\n",
    "        "
   ]
  },
  {
   "cell_type": "code",
   "execution_count": 23,
   "id": "aba195f7",
   "metadata": {},
   "outputs": [
    {
     "name": "stdout",
     "output_type": "stream",
     "text": [
      "Enter the number :1234\n",
      "4321\n",
      "not palindrome\n"
     ]
    }
   ],
   "source": [
    "num=int(input(\"Enter the number :\"))\n",
    "temp=num\n",
    "reverse=0\n",
    "if num==0:\n",
    "    print(\"reverse of\",0,\"is\",0)\n",
    "while(num!=0):\n",
    "    r=num%10\n",
    "    num=num//10\n",
    "    reverse=reverse*10+r\n",
    "print(reverse)\n",
    "if(temp!=reverse):\n",
    "    print(\"not palindrome\")\n",
    "else:\n",
    "    print(\"palindrome\")"
   ]
  },
  {
   "cell_type": "code",
   "execution_count": 1,
   "id": "6cf33df4",
   "metadata": {},
   "outputs": [
    {
     "name": "stdout",
     "output_type": "stream",
     "text": [
      "enter how many natural numbers: 34\n",
      "The sum is 595\n"
     ]
    }
   ],
   "source": [
    "num=int(input(\"enter how many natural numbers: \"))\n",
    "sum=0\n",
    "if num<0:\n",
    "    print(\"Enter a positive number\")\n",
    "else:\n",
    "    sum=0\n",
    "while(num > 0):\n",
    "    sum+=num\n",
    "    num-=1\n",
    "print(\"The sum is\", sum)\n",
    "    "
   ]
  },
  {
   "cell_type": "code",
   "execution_count": 8,
   "id": "89d8f273",
   "metadata": {},
   "outputs": [
    {
     "name": "stdout",
     "output_type": "stream",
     "text": [
      "Enter the number :153\n",
      "sum is: 153\n",
      "The no is armstrong: 153\n"
     ]
    }
   ],
   "source": [
    "num=int(input(\"Enter the number :\"))\n",
    "temp=num\n",
    "sum=0\n",
    "while(num!=0):\n",
    "    r=num%10\n",
    "    num=num//10\n",
    "    sum=sum+r**3\n",
    "print(\"sum is:\",sum)\n",
    "if(sum==temp):\n",
    "    print(\"The no is armstrong:\",sum)\n",
    "else:\n",
    "    print(\"not armstrong\")"
   ]
  },
  {
   "cell_type": "code",
   "execution_count": 25,
   "id": "31bca594",
   "metadata": {},
   "outputs": [
    {
     "name": "stdout",
     "output_type": "stream",
     "text": [
      "enter the no of row:5\n",
      "0  1  0  1  0  \n",
      "1  0  1  0  1  \n",
      "0  1  0  1  0  \n",
      "1  0  1  0  1  \n",
      "0  1  0  1  0  \n"
     ]
    }
   ],
   "source": [
    "row=int(input(\"enter the no of row:\"))\n",
    "k=0\n",
    "for i in range(1,row+1):\n",
    "    for j in range(1,row+1):\n",
    "        print(k,\" \",end=\"\")\n",
    "        k=int(not k)\n",
    "    print(end=\"\\n\")"
   ]
  },
  {
   "cell_type": "code",
   "execution_count": 26,
   "id": "8c9ef81c",
   "metadata": {},
   "outputs": [
    {
     "name": "stdout",
     "output_type": "stream",
     "text": [
      "enter the number of rows:5\n",
      "A  F  K  P  U  \n",
      "B  G  L  Q  V  \n",
      "C  H  M  R  W  \n",
      "D  I  N  S  X  \n",
      "E  J  O  T  Y  \n"
     ]
    }
   ],
   "source": [
    "row=int(input(\"enter the number of rows:\"))\n",
    "m=65\n",
    "for i in range(1,row+1):\n",
    "    k=m\n",
    "    for j in range(1,row+1):\n",
    "        print(chr(k),\" \",end=\"\")\n",
    "        k=k+5\n",
    "    m=m+1\n",
    "    print(end=\"\\n\")"
   ]
  },
  {
   "cell_type": "code",
   "execution_count": 27,
   "id": "82dba8e6",
   "metadata": {},
   "outputs": [
    {
     "data": {
      "text/plain": [
       "'&'"
      ]
     },
     "execution_count": 27,
     "metadata": {},
     "output_type": "execute_result"
    }
   ],
   "source": [
    "chr(38)"
   ]
  },
  {
   "cell_type": "code",
   "execution_count": 29,
   "id": "59f57f7e",
   "metadata": {},
   "outputs": [
    {
     "data": {
      "text/plain": [
       "38"
      ]
     },
     "execution_count": 29,
     "metadata": {},
     "output_type": "execute_result"
    }
   ],
   "source": [
    "ord(\"&\")"
   ]
  },
  {
   "cell_type": "code",
   "execution_count": 30,
   "id": "5a9b1328",
   "metadata": {},
   "outputs": [
    {
     "name": "stdout",
     "output_type": "stream",
     "text": [
      "enter the no of rows 5\n",
      "    *\n",
      "   **\n",
      "  ***\n",
      " ****\n",
      "*****\n"
     ]
    }
   ],
   "source": [
    "row=int(input(\"enter the no of rows \"))\n",
    "space=row\n",
    "for i in range(1,row+1):\n",
    "    for j in range(1,space):\n",
    "        print(end=\" \")\n",
    "    space=space-1\n",
    "    for k in range(1,i+1):\n",
    "        print(\"*\",end=\"\")\n",
    "    print(end = \"\\n\")"
   ]
  },
  {
   "cell_type": "code",
   "execution_count": 32,
   "id": "ddb222b2",
   "metadata": {},
   "outputs": [
    {
     "name": "stdout",
     "output_type": "stream",
     "text": [
      "enter the no of rows: 5\n",
      "5\n",
      "44\n",
      "333\n",
      "2222\n",
      "11111\n"
     ]
    }
   ],
   "source": [
    "row=int(input(\"enter the no of rows: \"))\n",
    "k=row\n",
    "for i in range(1,row+1):\n",
    "    for j in range(1,i+1):\n",
    "        print(k,end=\"\")\n",
    "    k=k-1\n",
    "    print(end=\"\\n\")"
   ]
  },
  {
   "cell_type": "markdown",
   "id": "5a1af6cf",
   "metadata": {},
   "source": [
    "##homework of 07/09/22"
   ]
  },
  {
   "cell_type": "code",
   "execution_count": 3,
   "id": "4740efe9",
   "metadata": {},
   "outputs": [
    {
     "name": "stdout",
     "output_type": "stream",
     "text": [
      "enter the range :2 20\n",
      "the number is prime: 2\n",
      "the number is prime: 3\n",
      "the number is composite: 4\n",
      "the number is prime: 5\n",
      "the number is composite: 6\n",
      "the number is prime: 7\n",
      "the number is composite: 8\n",
      "the number is composite: 9\n",
      "the number is composite: 10\n",
      "the number is prime: 11\n",
      "the number is composite: 12\n",
      "the number is prime: 13\n",
      "the number is composite: 14\n",
      "the number is composite: 15\n",
      "the number is composite: 16\n",
      "the number is prime: 17\n",
      "the number is composite: 18\n",
      "the number is prime: 19\n",
      "total no of composite no 10\n",
      "total no of prime 8\n"
     ]
    }
   ],
   "source": [
    "start,end=input(\"enter the range :\").split(\" \")\n",
    "start=int(start)\n",
    "end=int(end)\n",
    "num_prime=0\n",
    "num_composite=0\n",
    "for i in range(start, end):\n",
    "    count=0\n",
    "    for j in range(1,i+1):\n",
    "        if i%j==0:\n",
    "            count=count+1\n",
    "    if count==2:\n",
    "        print(\"the number is prime:\",j)\n",
    "        num_prime+=1\n",
    "    else:\n",
    "        print(\"the number is composite:\",j)\n",
    "        num_composite+=1\n",
    "print(\"total no of composite no\",num_composite)\n",
    "print(\"total no of prime\",num_prime)\n",
    "        "
   ]
  },
  {
   "cell_type": "code",
   "execution_count": 3,
   "id": "00d4da33",
   "metadata": {},
   "outputs": [
    {
     "name": "stdout",
     "output_type": "stream",
     "text": [
      "Enter the range :4356,345678\n",
      "['4356,345678']\n",
      "num--- 4356,345678\n",
      "temp--- 4356,345678\n",
      "4356,345678\n"
     ]
    },
    {
     "ename": "TypeError",
     "evalue": "not all arguments converted during string formatting",
     "output_type": "error",
     "traceback": [
      "\u001b[1;31m---------------------------------------------------------------------------\u001b[0m",
      "\u001b[1;31mTypeError\u001b[0m                                 Traceback (most recent call last)",
      "Input \u001b[1;32mIn [3]\u001b[0m, in \u001b[0;36m<cell line: 6>\u001b[1;34m()\u001b[0m\n\u001b[0;32m     12\u001b[0m rev\u001b[38;5;241m=\u001b[39m\u001b[38;5;241m0\u001b[39m\n\u001b[0;32m     13\u001b[0m \u001b[38;5;28;01mwhile\u001b[39;00m(num\u001b[38;5;241m!=\u001b[39m\u001b[38;5;241m0\u001b[39m):\n\u001b[1;32m---> 14\u001b[0m     r\u001b[38;5;241m=\u001b[39m\u001b[43mnum\u001b[49m\u001b[38;5;241;43m%\u001b[39;49m\u001b[38;5;241;43m10\u001b[39;49m\n\u001b[0;32m     15\u001b[0m     num\u001b[38;5;241m=\u001b[39mnum\u001b[38;5;241m/\u001b[39m\u001b[38;5;241m/\u001b[39m\u001b[38;5;241m10\u001b[39m\n\u001b[0;32m     16\u001b[0m     rev\u001b[38;5;241m=\u001b[39mrev\u001b[38;5;241m*\u001b[39m\u001b[38;5;241m10\u001b[39m\u001b[38;5;241m+\u001b[39mr\n",
      "\u001b[1;31mTypeError\u001b[0m: not all arguments converted during string formatting"
     ]
    }
   ],
   "source": [
    "list=input(\"Enter the range :\").split(\" \")\n",
    "temp=0\n",
    "rev=0\n",
    "print(list)\n",
    "\n",
    "for num in list:\n",
    "    print(\"num---\",num)\n",
    "    temp=num\n",
    "    print(\"temp---\",num)\n",
    "    print(num)\n",
    "  \n",
    "    rev=0\n",
    "    while(num!=0):\n",
    "        r=num%10\n",
    "        num=num//10\n",
    "        rev=rev*10+r\n",
    "    print(\"reverse---\",rev)\n",
    "    print(\"temp after reverse\",temp)\n",
    "    if temp==rev:\n",
    "        print(\"rev---\",rev)\n",
    "        print(\"temp---\",temp)\n",
    "        print(temp,\"is palindrome\")\n",
    "    else:\n",
    "        print(temp,\"not palindrome\")\n"
   ]
  },
  {
   "cell_type": "markdown",
   "id": "e1a9568b",
   "metadata": {},
   "source": [
    "# menudriven program"
   ]
  },
  {
   "cell_type": "code",
   "execution_count": 4,
   "id": "95e5e799",
   "metadata": {},
   "outputs": [
    {
     "name": "stdout",
     "output_type": "stream",
     "text": [
      "enter the number2\n",
      "u wish to enter the number more press 1: yes and 0 for no: 1\n",
      "enter the number4\n",
      "u wish to enter the number more press 1: yes and 0 for no: 0\n",
      "6\n"
     ]
    }
   ],
   "source": [
    "#menudriven program\n",
    "sum=0\n",
    "while(1):\n",
    "    num=int(input(\"enter the number\"))\n",
    "    sum=sum+num\n",
    "    choice=input(\"u wish to enter the number more press 1: yes and 0 for no: \")\n",
    "    if choice==\"1\":\n",
    "        continue\n",
    "    elif choice==\"0\":\n",
    "        break\n",
    "    else:\n",
    "        print(\"invalid choice\")\n",
    "        break\n",
    "print(sum)\n"
   ]
  },
  {
   "cell_type": "code",
   "execution_count": null,
   "id": "a11d153e",
   "metadata": {},
   "outputs": [],
   "source": []
  }
 ],
 "metadata": {
  "kernelspec": {
   "display_name": "Python 3 (ipykernel)",
   "language": "python",
   "name": "python3"
  },
  "language_info": {
   "codemirror_mode": {
    "name": "ipython",
    "version": 3
   },
   "file_extension": ".py",
   "mimetype": "text/x-python",
   "name": "python",
   "nbconvert_exporter": "python",
   "pygments_lexer": "ipython3",
   "version": "3.9.12"
  }
 },
 "nbformat": 4,
 "nbformat_minor": 5
}
