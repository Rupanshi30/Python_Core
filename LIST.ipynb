{
 "cells": [
  {
   "cell_type": "markdown",
   "id": "934e8efa",
   "metadata": {},
   "source": [
    "# HOW TO CREATE THE LIST"
   ]
  },
  {
   "cell_type": "code",
   "execution_count": 1,
   "id": "feb74eab",
   "metadata": {},
   "outputs": [
    {
     "data": {
      "text/plain": [
       "[]"
      ]
     },
     "execution_count": 1,
     "metadata": {},
     "output_type": "execute_result"
    }
   ],
   "source": [
    "#empty list\n",
    "l=[]\n",
    "l "
   ]
  },
  {
   "cell_type": "code",
   "execution_count": 2,
   "id": "5db62f3d",
   "metadata": {},
   "outputs": [
    {
     "data": {
      "text/plain": [
       "list"
      ]
     },
     "execution_count": 2,
     "metadata": {},
     "output_type": "execute_result"
    }
   ],
   "source": [
    "#homogeneous list- all elements are of same type\n",
    "l=[1,2,3,4,5]\n",
    "type(l)"
   ]
  },
  {
   "cell_type": "code",
   "execution_count": 4,
   "id": "d9021b6f",
   "metadata": {},
   "outputs": [
    {
     "data": {
      "text/plain": [
       "[1, 2, 3, 4, 5, 'hello']"
      ]
     },
     "execution_count": 4,
     "metadata": {},
     "output_type": "execute_result"
    }
   ],
   "source": [
    "#heterogeneous list-mixed data types\n",
    "l=[1,2,3,4,5,\"hello\"]\n",
    "l"
   ]
  },
  {
   "cell_type": "code",
   "execution_count": 5,
   "id": "a3071ed7",
   "metadata": {},
   "outputs": [
    {
     "data": {
      "text/plain": [
       "['aman', 2, [2, 3, 4], 'mn']"
      ]
     },
     "execution_count": 5,
     "metadata": {},
     "output_type": "execute_result"
    }
   ],
   "source": [
    "l=[\"aman\",2,[2,3,4],\"mn\"]\n",
    "l"
   ]
  },
  {
   "cell_type": "code",
   "execution_count": 6,
   "id": "3279d269",
   "metadata": {},
   "outputs": [
    {
     "data": {
      "text/plain": [
       "2"
      ]
     },
     "execution_count": 6,
     "metadata": {},
     "output_type": "execute_result"
    }
   ],
   "source": [
    "l=[\"aman\",2,[2,3,4],\"mn\"]\n",
    "l[1]"
   ]
  },
  {
   "cell_type": "code",
   "execution_count": 7,
   "id": "7a17c2c7",
   "metadata": {},
   "outputs": [
    {
     "data": {
      "text/plain": [
       "[2, 3, 4]"
      ]
     },
     "execution_count": 7,
     "metadata": {},
     "output_type": "execute_result"
    }
   ],
   "source": [
    "l=[\"aman\",2,[2,3,4],\"mn\"]\n",
    "l[-2]"
   ]
  },
  {
   "cell_type": "code",
   "execution_count": 9,
   "id": "feea6b26",
   "metadata": {},
   "outputs": [
    {
     "data": {
      "text/plain": [
       "['aman', 2, [2, 3, 4]]"
      ]
     },
     "execution_count": 9,
     "metadata": {},
     "output_type": "execute_result"
    }
   ],
   "source": [
    "l=[\"aman\",2,[2,3,4],\"mn\"]\n",
    "l[0:3]"
   ]
  },
  {
   "cell_type": "code",
   "execution_count": 10,
   "id": "207122cf",
   "metadata": {},
   "outputs": [
    {
     "data": {
      "text/plain": [
       "3"
      ]
     },
     "execution_count": 10,
     "metadata": {},
     "output_type": "execute_result"
    }
   ],
   "source": [
    "l=[\"aman\",2,[2,3,4],\"mn\"]\n",
    "l[2][1]"
   ]
  },
  {
   "cell_type": "code",
   "execution_count": 11,
   "id": "fd569bec",
   "metadata": {},
   "outputs": [
    {
     "name": "stdout",
     "output_type": "stream",
     "text": [
      "[[1, 2, 3], [4, 5, 6]]\n"
     ]
    }
   ],
   "source": [
    "#nested list\n",
    "l=[[1,2,3],[4,5,6]]   #2-D\n",
    "print(l)"
   ]
  },
  {
   "cell_type": "code",
   "execution_count": 12,
   "id": "ebac197a",
   "metadata": {},
   "outputs": [
    {
     "data": {
      "text/plain": [
       "[1, 2, 3]"
      ]
     },
     "execution_count": 12,
     "metadata": {},
     "output_type": "execute_result"
    }
   ],
   "source": [
    "l=[[1,2,3],[4,5,6]]\n",
    "l[0]"
   ]
  },
  {
   "cell_type": "code",
   "execution_count": 13,
   "id": "5ec7d011",
   "metadata": {},
   "outputs": [
    {
     "data": {
      "text/plain": [
       "6"
      ]
     },
     "execution_count": 13,
     "metadata": {},
     "output_type": "execute_result"
    }
   ],
   "source": [
    "l=[[1,2,3],[4,5,6]]\n",
    "l[1][2]"
   ]
  },
  {
   "cell_type": "code",
   "execution_count": 14,
   "id": "4f878794",
   "metadata": {},
   "outputs": [
    {
     "data": {
      "text/plain": [
       "[[1, 2], [40, 50]]"
      ]
     },
     "execution_count": 14,
     "metadata": {},
     "output_type": "execute_result"
    }
   ],
   "source": [
    "#3-D list\n",
    "l=[[[1,2],[40,50]],[[4,5],[100,200]]]\n",
    "l[0]"
   ]
  },
  {
   "cell_type": "code",
   "execution_count": 15,
   "id": "16cc5aaf",
   "metadata": {},
   "outputs": [
    {
     "data": {
      "text/plain": [
       "[[4, 5], [100, 200]]"
      ]
     },
     "execution_count": 15,
     "metadata": {},
     "output_type": "execute_result"
    }
   ],
   "source": [
    "l=[[[1,2],[40,50]],[[4,5],[100,200]]]\n",
    "l[1]"
   ]
  },
  {
   "cell_type": "code",
   "execution_count": 16,
   "id": "685734fe",
   "metadata": {},
   "outputs": [
    {
     "data": {
      "text/plain": [
       "50"
      ]
     },
     "execution_count": 16,
     "metadata": {},
     "output_type": "execute_result"
    }
   ],
   "source": [
    "l=[[[1,2],[40,50]],[[4,5],[100,200]]]\n",
    "l[0][1][1]"
   ]
  },
  {
   "cell_type": "code",
   "execution_count": 17,
   "id": "78de50ec",
   "metadata": {},
   "outputs": [
    {
     "data": {
      "text/plain": [
       "[98, 87, 100]"
      ]
     },
     "execution_count": 17,
     "metadata": {},
     "output_type": "execute_result"
    }
   ],
   "source": [
    "l1=[1,2,3,\"madrid\",\"hello\",[48,98,87,100,110]]\n",
    "l1[5][1:4]"
   ]
  },
  {
   "cell_type": "code",
   "execution_count": 18,
   "id": "ba031de5",
   "metadata": {},
   "outputs": [
    {
     "name": "stdout",
     "output_type": "stream",
     "text": [
      "['1', '2', '3']\n"
     ]
    }
   ],
   "source": [
    "## using list constructor : type conversion\n",
    "l=list(\"123\")\n",
    "print(l)"
   ]
  },
  {
   "cell_type": "code",
   "execution_count": 19,
   "id": "3e496764",
   "metadata": {},
   "outputs": [
    {
     "name": "stdout",
     "output_type": "stream",
     "text": [
      "[1, 2, 3, 4, 56]\n"
     ]
    }
   ],
   "source": [
    "#list hold mutable property\n",
    "l=[1,2,3,4,5]\n",
    "l[-1]=56\n",
    "print(l)"
   ]
  },
  {
   "cell_type": "code",
   "execution_count": 20,
   "id": "6cd24c30",
   "metadata": {},
   "outputs": [
    {
     "name": "stdout",
     "output_type": "stream",
     "text": [
      "[1, 43, 56, 4, 5]\n"
     ]
    }
   ],
   "source": [
    "l=[1,2,3,4,5]\n",
    "l[1:3]=[43,56]\n",
    "print(l)"
   ]
  },
  {
   "cell_type": "markdown",
   "id": "06f13dac",
   "metadata": {},
   "source": [
    "# how to add elements at the end: using append()"
   ]
  },
  {
   "cell_type": "code",
   "execution_count": 21,
   "id": "06bb33d3",
   "metadata": {},
   "outputs": [
    {
     "data": {
      "text/plain": [
       "[1, 2, 3, 4, 5, '100']"
      ]
     },
     "execution_count": 21,
     "metadata": {},
     "output_type": "execute_result"
    }
   ],
   "source": [
    "l=[1,2,3,4,5]\n",
    "l.append(\"100\") #we can add one at a time in the end using append function\n",
    "l"
   ]
  },
  {
   "cell_type": "markdown",
   "id": "06766cb3",
   "metadata": {},
   "source": [
    "# how to add multiple elements at the end : using extend()"
   ]
  },
  {
   "cell_type": "code",
   "execution_count": 22,
   "id": "34bfed1a",
   "metadata": {},
   "outputs": [
    {
     "name": "stdout",
     "output_type": "stream",
     "text": [
      "[1, 2, 3, 'software', 'madrid']\n"
     ]
    }
   ],
   "source": [
    "l1=[1,2,3]\n",
    "l2=[\"software\",\"madrid\"]\n",
    "l1.extend(l2)\n",
    "print(l1)"
   ]
  },
  {
   "cell_type": "code",
   "execution_count": 25,
   "id": "2c4a7923",
   "metadata": {},
   "outputs": [
    {
     "name": "stdout",
     "output_type": "stream",
     "text": [
      "enter the input1 5\n",
      "[1, 2, 3, 4, 5]\n"
     ]
    }
   ],
   "source": [
    "start,end=input(\"enter the input\").split(\" \")\n",
    "start=int(start)\n",
    "end=int(end)\n",
    "l=[]\n",
    "for i in range(start,end+1):\n",
    "    l.append(i)\n",
    "print(l)\n",
    "    "
   ]
  },
  {
   "cell_type": "markdown",
   "id": "db83d0b7",
   "metadata": {},
   "source": [
    "# how to add elements at desired location : insert()"
   ]
  },
  {
   "cell_type": "code",
   "execution_count": 26,
   "id": "37a30aff",
   "metadata": {},
   "outputs": [
    {
     "data": {
      "text/plain": [
       "[1, 2, 100, 3, 4]"
      ]
     },
     "execution_count": 26,
     "metadata": {},
     "output_type": "execute_result"
    }
   ],
   "source": [
    "l=[1,2,3,4]\n",
    "l.insert(2,100)\n",
    "l"
   ]
  },
  {
   "cell_type": "code",
   "execution_count": 27,
   "id": "009cb78e",
   "metadata": {},
   "outputs": [],
   "source": [
    "# how to delete the element from the list\n",
    "# del remove pop"
   ]
  },
  {
   "cell_type": "code",
   "execution_count": 28,
   "id": "0118fda5",
   "metadata": {},
   "outputs": [
    {
     "data": {
      "text/plain": [
       "[2, 3, 4, 5, 6]"
      ]
     },
     "execution_count": 28,
     "metadata": {},
     "output_type": "execute_result"
    }
   ],
   "source": [
    "l=[1,2,3,4,5,6]\n",
    "del l[0] #del deletss the element from the memory of the function\n",
    "l"
   ]
  },
  {
   "cell_type": "code",
   "execution_count": 30,
   "id": "41ac7b9a",
   "metadata": {},
   "outputs": [],
   "source": [
    "l=[1,2,3,4]\n",
    "del l\n"
   ]
  },
  {
   "cell_type": "code",
   "execution_count": 31,
   "id": "47d344ad",
   "metadata": {},
   "outputs": [
    {
     "data": {
      "text/plain": [
       "'hello'"
      ]
     },
     "execution_count": 31,
     "metadata": {},
     "output_type": "execute_result"
    }
   ],
   "source": [
    "#pop-delete last element by default and return popped element\n",
    "l=[23,45,6,7,\"hello\"]\n",
    "l.pop()"
   ]
  },
  {
   "cell_type": "code",
   "execution_count": 32,
   "id": "a7d5f42a",
   "metadata": {},
   "outputs": [
    {
     "data": {
      "text/plain": [
       "[23, 45, 6, 7]"
      ]
     },
     "execution_count": 32,
     "metadata": {},
     "output_type": "execute_result"
    }
   ],
   "source": [
    "l=[23,45,6,7,\"hello\"]\n",
    "l.pop()\n",
    "l"
   ]
  },
  {
   "cell_type": "code",
   "execution_count": 34,
   "id": "73d8e126",
   "metadata": {},
   "outputs": [
    {
     "data": {
      "text/plain": [
       "[23, 45, 6]"
      ]
     },
     "execution_count": 34,
     "metadata": {},
     "output_type": "execute_result"
    }
   ],
   "source": [
    "l=[23,45,6,7,\"hello\"]\n",
    "l.pop()\n",
    "l.pop()\n",
    "l"
   ]
  },
  {
   "cell_type": "code",
   "execution_count": 37,
   "id": "9d4ca592",
   "metadata": {},
   "outputs": [
    {
     "name": "stdout",
     "output_type": "stream",
     "text": [
      "[1, 2, 3, 4]\n",
      "[1, 2, 3]\n",
      "[1, 2]\n",
      "[1]\n",
      "[]\n"
     ]
    }
   ],
   "source": [
    "l=[1,2,3,4,5]\n",
    "for i in range(0,5):\n",
    "    l.pop()\n",
    "    print(l)"
   ]
  },
  {
   "cell_type": "code",
   "execution_count": 36,
   "id": "345a69cf",
   "metadata": {},
   "outputs": [],
   "source": [
    "# if we know position of element then use del to delete otherwise use remove"
   ]
  },
  {
   "cell_type": "code",
   "execution_count": 37,
   "id": "af830bfd",
   "metadata": {},
   "outputs": [
    {
     "data": {
      "text/plain": [
       "[200, 400, 500]"
      ]
     },
     "execution_count": 37,
     "metadata": {},
     "output_type": "execute_result"
    }
   ],
   "source": [
    "l=[200,400,3,500]\n",
    "l.remove(3)\n",
    "l"
   ]
  },
  {
   "cell_type": "code",
   "execution_count": 39,
   "id": "5e79369e",
   "metadata": {},
   "outputs": [
    {
     "name": "stdout",
     "output_type": "stream",
     "text": [
      "[]\n"
     ]
    }
   ],
   "source": [
    "l=[1,2,3,4]\n",
    "l.clear()\n",
    "print(l)"
   ]
  },
  {
   "cell_type": "code",
   "execution_count": 41,
   "id": "b50e3e04",
   "metadata": {},
   "outputs": [
    {
     "name": "stdout",
     "output_type": "stream",
     "text": [
      "[1, 23, 45, 34, 56, 77, 23, 56]\n"
     ]
    }
   ],
   "source": [
    "#concatenation\n",
    "l=[1,23,45]+[34,56,77]+[23,56]\n",
    "print(l)"
   ]
  },
  {
   "cell_type": "code",
   "execution_count": 42,
   "id": "241a453c",
   "metadata": {},
   "outputs": [
    {
     "name": "stdout",
     "output_type": "stream",
     "text": [
      "['hello', 'hello', 'hello', 'hello', 'hello', 'hello', 'hello', 'hello', 'hello', 'hello']\n"
     ]
    }
   ],
   "source": [
    "#replication\n",
    "l=[\"hello\"]*10\n",
    "print(l)"
   ]
  },
  {
   "cell_type": "code",
   "execution_count": 46,
   "id": "e8682957",
   "metadata": {},
   "outputs": [
    {
     "data": {
      "text/plain": [
       "False"
      ]
     },
     "execution_count": 46,
     "metadata": {},
     "output_type": "execute_result"
    }
   ],
   "source": [
    "#membership\n",
    "l=[1,2,3,[34,56]]\n",
    "56 in l #bcz 34 and 56 are treated as one element"
   ]
  },
  {
   "cell_type": "code",
   "execution_count": 47,
   "id": "d8f2b1f0",
   "metadata": {},
   "outputs": [
    {
     "data": {
      "text/plain": [
       "True"
      ]
     },
     "execution_count": 47,
     "metadata": {},
     "output_type": "execute_result"
    }
   ],
   "source": [
    "l=[1,2,3,[34,56]]\n",
    "[34,56] in l"
   ]
  },
  {
   "cell_type": "markdown",
   "id": "f5ef1790",
   "metadata": {},
   "source": [
    "# 20/09/22 Homework"
   ]
  },
  {
   "cell_type": "code",
   "execution_count": 2,
   "id": "8431ca95",
   "metadata": {},
   "outputs": [
    {
     "name": "stdout",
     "output_type": "stream",
     "text": [
      "enter the input2 10\n",
      "[2, 4, 6, 8, 10]\n"
     ]
    }
   ],
   "source": [
    "start,end=input(\"enter the input\").split(\" \")\n",
    "start=int(start)\n",
    "end=int(end)\n",
    "l=[]\n",
    "for i in range(start,end+1):\n",
    "    if i%2==0:\n",
    "        l.append(i)\n",
    "    \n",
    "print(l)"
   ]
  },
  {
   "cell_type": "code",
   "execution_count": 19,
   "id": "568bf313",
   "metadata": {},
   "outputs": [
    {
     "name": "stdout",
     "output_type": "stream",
     "text": [
      "[2] ----\n",
      "[2, 4] ----\n",
      "[2, 4, 56] ----\n",
      "[2, 4, 56, 6] ----\n",
      "[2, 4, 56, 6]\n"
     ]
    }
   ],
   "source": [
    "list=[1,2,3,4,56,6]\n",
    "\n",
    "l=[]\n",
    "for i in list:\n",
    "    if i%2==0:\n",
    "        l.append(i)\n",
    "        print(l,\"----\")\n",
    "print(l)"
   ]
  },
  {
   "cell_type": "code",
   "execution_count": 20,
   "id": "b79d2916",
   "metadata": {},
   "outputs": [
    {
     "name": "stdout",
     "output_type": "stream",
     "text": [
      "<class 'float'>\n",
      "<class 'int'>\n",
      "<class 'str'>\n"
     ]
    }
   ],
   "source": [
    "list=[1.1,23,\"hello\"]\n",
    "for i in list:\n",
    "    print(type(i))"
   ]
  },
  {
   "cell_type": "code",
   "execution_count": 35,
   "id": "20e6fdf7",
   "metadata": {},
   "outputs": [
    {
     "name": "stdout",
     "output_type": "stream",
     "text": [
      "enter the list----23.67\n",
      "['7']\n"
     ]
    }
   ],
   "source": [
    "list=input(\"enter the list----\")\n",
    "\n",
    "for i in list:\n",
    "    l=[]\n",
    "    l.append(i)\n",
    "print(l)\n",
    "    "
   ]
  },
  {
   "cell_type": "code",
   "execution_count": 1,
   "id": "a3a92b54",
   "metadata": {},
   "outputs": [
    {
     "data": {
      "text/plain": [
       "['__add__',\n",
       " '__class__',\n",
       " '__class_getitem__',\n",
       " '__contains__',\n",
       " '__delattr__',\n",
       " '__delitem__',\n",
       " '__dir__',\n",
       " '__doc__',\n",
       " '__eq__',\n",
       " '__format__',\n",
       " '__ge__',\n",
       " '__getattribute__',\n",
       " '__getitem__',\n",
       " '__gt__',\n",
       " '__hash__',\n",
       " '__iadd__',\n",
       " '__imul__',\n",
       " '__init__',\n",
       " '__init_subclass__',\n",
       " '__iter__',\n",
       " '__le__',\n",
       " '__len__',\n",
       " '__lt__',\n",
       " '__mul__',\n",
       " '__ne__',\n",
       " '__new__',\n",
       " '__reduce__',\n",
       " '__reduce_ex__',\n",
       " '__repr__',\n",
       " '__reversed__',\n",
       " '__rmul__',\n",
       " '__setattr__',\n",
       " '__setitem__',\n",
       " '__sizeof__',\n",
       " '__str__',\n",
       " '__subclasshook__',\n",
       " 'append',\n",
       " 'clear',\n",
       " 'copy',\n",
       " 'count',\n",
       " 'extend',\n",
       " 'index',\n",
       " 'insert',\n",
       " 'pop',\n",
       " 'remove',\n",
       " 'reverse',\n",
       " 'sort']"
      ]
     },
     "execution_count": 1,
     "metadata": {},
     "output_type": "execute_result"
    }
   ],
   "source": [
    "dir(list)"
   ]
  },
  {
   "cell_type": "markdown",
   "id": "82ad3b7a",
   "metadata": {},
   "source": [
    "# 21/09/22"
   ]
  },
  {
   "cell_type": "code",
   "execution_count": 2,
   "id": "1c8586b2",
   "metadata": {},
   "outputs": [
    {
     "name": "stdout",
     "output_type": "stream",
     "text": [
      "3\n"
     ]
    }
   ],
   "source": [
    "l=[1,2,3]\n",
    "print(len(l))"
   ]
  },
  {
   "cell_type": "code",
   "execution_count": 3,
   "id": "7a713b4b",
   "metadata": {},
   "outputs": [
    {
     "data": {
      "text/plain": [
       "500"
      ]
     },
     "execution_count": 3,
     "metadata": {},
     "output_type": "execute_result"
    }
   ],
   "source": [
    "l=[100,200,500]\n",
    "max(l)"
   ]
  },
  {
   "cell_type": "code",
   "execution_count": 4,
   "id": "43434b01",
   "metadata": {},
   "outputs": [
    {
     "data": {
      "text/plain": [
       "['a', 'a', 'a', 'b', 'c', 'r', 't', 't', 't']"
      ]
     },
     "execution_count": 4,
     "metadata": {},
     "output_type": "execute_result"
    }
   ],
   "source": [
    "s=\"catbatrat\"\n",
    "sorted(s)"
   ]
  },
  {
   "cell_type": "code",
   "execution_count": 5,
   "id": "d108e101",
   "metadata": {},
   "outputs": [
    {
     "data": {
      "text/plain": [
       "['t', 't', 't', 'r', 'c', 'b', 'a', 'a', 'a']"
      ]
     },
     "execution_count": 5,
     "metadata": {},
     "output_type": "execute_result"
    }
   ],
   "source": [
    "s=\"catbatrat\"\n",
    "sorted(s,reverse=True)"
   ]
  },
  {
   "cell_type": "code",
   "execution_count": 6,
   "id": "e15b3c14",
   "metadata": {},
   "outputs": [
    {
     "data": {
      "text/plain": [
       "'catbatrat'"
      ]
     },
     "execution_count": 6,
     "metadata": {},
     "output_type": "execute_result"
    }
   ],
   "source": [
    "s=\"catbatrat\"\n",
    "sorted(s,reverse=True)\n",
    "s"
   ]
  },
  {
   "cell_type": "code",
   "execution_count": 8,
   "id": "befa9778",
   "metadata": {},
   "outputs": [
    {
     "data": {
      "text/plain": [
       "[100, 400, 200, 110]"
      ]
     },
     "execution_count": 8,
     "metadata": {},
     "output_type": "execute_result"
    }
   ],
   "source": [
    "l=[100,400,200,110]\n",
    "sorted(l)\n",
    "l #no change in l "
   ]
  },
  {
   "cell_type": "code",
   "execution_count": 10,
   "id": "d0a7983f",
   "metadata": {},
   "outputs": [
    {
     "data": {
      "text/plain": [
       "[100, 200, 400]"
      ]
     },
     "execution_count": 10,
     "metadata": {},
     "output_type": "execute_result"
    }
   ],
   "source": [
    "l=[100,400,200]\n",
    "l.sort()\n",
    "l #change in l"
   ]
  },
  {
   "cell_type": "code",
   "execution_count": 11,
   "id": "92c0dac2",
   "metadata": {},
   "outputs": [
    {
     "data": {
      "text/plain": [
       "'aabbc'"
      ]
     },
     "execution_count": 11,
     "metadata": {},
     "output_type": "execute_result"
    }
   ],
   "source": [
    "l=[\"aabbc\",\"hello\",\"abc\",\"balmeet\"]\n",
    "min(l) #according to ascii value not on length"
   ]
  },
  {
   "cell_type": "code",
   "execution_count": 12,
   "id": "15a9cbec",
   "metadata": {},
   "outputs": [
    {
     "name": "stdout",
     "output_type": "stream",
     "text": [
      "[56, 87, -1]\n"
     ]
    }
   ],
   "source": [
    "l=[-1,87,56]\n",
    "l.reverse()\n",
    "print(l)"
   ]
  },
  {
   "cell_type": "markdown",
   "id": "6894e161",
   "metadata": {},
   "source": [
    "# iteration on list"
   ]
  },
  {
   "cell_type": "code",
   "execution_count": 14,
   "id": "db8df257",
   "metadata": {},
   "outputs": [
    {
     "name": "stdout",
     "output_type": "stream",
     "text": [
      "['here', 'helearn', 'heon', 'we re', 'we learn', 'we on', 'pyre', 'pylearn', 'pyon']\n"
     ]
    }
   ],
   "source": [
    "l1=[\"he\",\"we \",\"py\"]\n",
    "l2=[\"re\",\"learn\",\"on\"]\n",
    "#l=[\"here\",\"helearn\",\"heon\",\"we re\",\"we learn\",\"we on\",\"pyre\",\"pylearn\",\"pyon\"]\n",
    "l=[]\n",
    "for i in l1:\n",
    "    for j in l2:\n",
    "        l.append(i+j)\n",
    "print(l)"
   ]
  },
  {
   "cell_type": "code",
   "execution_count": 1,
   "id": "42ac3568",
   "metadata": {},
   "outputs": [
    {
     "name": "stdout",
     "output_type": "stream",
     "text": [
      "['here', 'we learn', 'pyon']\n"
     ]
    }
   ],
   "source": [
    "l1=[\"he\",\"we \",\"py\"]\n",
    "l2=[\"re\",\"learn\",\"on\"]\n",
    "#l=[\"here\",\"we learn\",\"pyon\"]\n",
    "l=[]\n",
    "for (i,j) in zip(l1,l2):\n",
    "    l.append(i+j)\n",
    "print(l)"
   ]
  },
  {
   "cell_type": "code",
   "execution_count": 17,
   "id": "47cb1f72",
   "metadata": {},
   "outputs": [
    {
     "data": {
      "text/plain": [
       "[(1, 'one'), (2, 'two'), (3, 'three'), (4, 'four'), (5, 'five')]"
      ]
     },
     "execution_count": 17,
     "metadata": {},
     "output_type": "execute_result"
    }
   ],
   "source": [
    "l1=[1,2,3,4,5]\n",
    "l2=[\"one\",\"two\",\"three\",\"four\",\"five\"]\n",
    "list(zip(l1,l2)) #tuple of elements"
   ]
  },
  {
   "cell_type": "code",
   "execution_count": 18,
   "id": "5f423847",
   "metadata": {},
   "outputs": [
    {
     "data": {
      "text/plain": [
       "{(1, 'one'), (2, 'two'), (3, 'three'), (4, 'four'), (5, 'five')}"
      ]
     },
     "execution_count": 18,
     "metadata": {},
     "output_type": "execute_result"
    }
   ],
   "source": [
    "l1=[1,2,3,4,5]\n",
    "l2=[\"one\",\"two\",\"three\",\"four\",\"five\"]\n",
    "set(zip(l1,l2)) #tuple of elements"
   ]
  },
  {
   "cell_type": "code",
   "execution_count": 20,
   "id": "726ab04d",
   "metadata": {},
   "outputs": [
    {
     "data": {
      "text/plain": [
       "[(1, 'one', 'I'),\n",
       " (2, 'two', 'II'),\n",
       " (3, 'three', 'III'),\n",
       " (4, 'four', 'IV'),\n",
       " (5, 'five', 'V')]"
      ]
     },
     "execution_count": 20,
     "metadata": {},
     "output_type": "execute_result"
    }
   ],
   "source": [
    "l1=[1,2,3,4,5]\n",
    "l2=[\"one\",\"two\",\"three\",\"four\",\"five\"]\n",
    "l3=[\"I\",\"II\",\"III\",\"IV\",\"V\"]\n",
    "list(zip(l1,l2,l3)) #tuple of elements"
   ]
  },
  {
   "cell_type": "code",
   "execution_count": 21,
   "id": "5a4fca0f",
   "metadata": {},
   "outputs": [
    {
     "data": {
      "text/plain": [
       "[('p', 'c'), ('y', 'o'), ('t', 'r'), ('h', 'e')]"
      ]
     },
     "execution_count": 21,
     "metadata": {},
     "output_type": "execute_result"
    }
   ],
   "source": [
    "s1=\"python\"\n",
    "s2=\"core\"\n",
    "list(zip(s1,s2)) #it will zip till shortest length"
   ]
  },
  {
   "cell_type": "code",
   "execution_count": 24,
   "id": "7f2f5302",
   "metadata": {},
   "outputs": [
    {
     "data": {
      "text/plain": [
       "('t', 'r')"
      ]
     },
     "execution_count": 24,
     "metadata": {},
     "output_type": "execute_result"
    }
   ],
   "source": [
    "s1=\"python\"\n",
    "s2=\"core\"\n",
    "l1=list(zip(s1,s2))\n",
    "l1[2]"
   ]
  },
  {
   "cell_type": "code",
   "execution_count": 25,
   "id": "bf75c739",
   "metadata": {},
   "outputs": [
    {
     "data": {
      "text/plain": [
       "'t'"
      ]
     },
     "execution_count": 25,
     "metadata": {},
     "output_type": "execute_result"
    }
   ],
   "source": [
    "s1=\"python\"\n",
    "s2=\"core\"\n",
    "l1=list(zip(s1,s2))\n",
    "l1[2][0]"
   ]
  },
  {
   "cell_type": "markdown",
   "id": "9ac24dc3",
   "metadata": {},
   "source": [
    "# list comprehensions"
   ]
  },
  {
   "cell_type": "code",
   "execution_count": 30,
   "id": "2bc5630b",
   "metadata": {},
   "outputs": [
    {
     "name": "stdout",
     "output_type": "stream",
     "text": [
      "[1, 2, 3, 4, 5]\n"
     ]
    }
   ],
   "source": [
    "l=[]\n",
    "for i in range(1,6):\n",
    "    l.append(i)\n",
    "print(l)"
   ]
  },
  {
   "cell_type": "code",
   "execution_count": 31,
   "id": "f41b16dc",
   "metadata": {},
   "outputs": [
    {
     "data": {
      "text/plain": [
       "[1, 2, 3, 4, 5]"
      ]
     },
     "execution_count": 31,
     "metadata": {},
     "output_type": "execute_result"
    }
   ],
   "source": [
    "[i for i in range(1,6)] #using list comprehension"
   ]
  },
  {
   "cell_type": "code",
   "execution_count": 33,
   "id": "33fa2b5d",
   "metadata": {},
   "outputs": [
    {
     "name": "stdout",
     "output_type": "stream",
     "text": [
      "[2, 4, 6, 8, 10]\n"
     ]
    }
   ],
   "source": [
    "l=[]\n",
    "for i in range(1,11):\n",
    "    if i%2==0:\n",
    "        l.append(i)\n",
    "print(l)"
   ]
  },
  {
   "cell_type": "code",
   "execution_count": 35,
   "id": "0cf1a22b",
   "metadata": {},
   "outputs": [
    {
     "data": {
      "text/plain": [
       "[2, 4, 6, 8, 10]"
      ]
     },
     "execution_count": 35,
     "metadata": {},
     "output_type": "execute_result"
    }
   ],
   "source": [
    "[i for i in range(1,11) if i%2==0]  #if condition will be followed by for loop"
   ]
  },
  {
   "cell_type": "code",
   "execution_count": 5,
   "id": "2a5b6b71",
   "metadata": {},
   "outputs": [
    {
     "data": {
      "text/plain": [
       "['odd', 2, 'odd', 4, 'odd', 6, 'odd', 8, 'odd', 10]"
      ]
     },
     "execution_count": 5,
     "metadata": {},
     "output_type": "execute_result"
    }
   ],
   "source": [
    "[i if i%2==0 else \"odd\" for i in range(1,11)]"
   ]
  },
  {
   "cell_type": "code",
   "execution_count": 37,
   "id": "0a8a5f88",
   "metadata": {},
   "outputs": [
    {
     "data": {
      "text/plain": [
       "[5, 6, 7]"
      ]
     },
     "execution_count": 37,
     "metadata": {},
     "output_type": "execute_result"
    }
   ],
   "source": [
    "l=[[2,3,4],[5,6,7],[8,9,0]]\n",
    "l[1]"
   ]
  },
  {
   "cell_type": "code",
   "execution_count": 39,
   "id": "b7101ee8",
   "metadata": {},
   "outputs": [
    {
     "data": {
      "text/plain": [
       "['yes it is present']"
      ]
     },
     "execution_count": 39,
     "metadata": {},
     "output_type": "execute_result"
    }
   ],
   "source": [
    "[\"yes it is present\" for i in l if i==[5,6,7]]"
   ]
  },
  {
   "cell_type": "code",
   "execution_count": 44,
   "id": "358c1555",
   "metadata": {},
   "outputs": [
    {
     "name": "stdout",
     "output_type": "stream",
     "text": [
      "enter the number1\n",
      "enter the number2\n",
      "enter the number3\n",
      "enter the number4\n",
      "enter the number5\n",
      "enter the number6\n",
      "enter the number7\n",
      "enter the number8\n",
      "enter the number9\n",
      "enter the number10\n",
      "[1, 2, 3, 4, 5, 6, 7, 8, 9, 10]\n",
      "enter the number to be searched---4\n",
      "the element is present\n"
     ]
    }
   ],
   "source": [
    "l=[]\n",
    "flag=0\n",
    "for i in range(0,10):\n",
    "    i=int(input(\"enter the number\"))\n",
    "    l.append(i)\n",
    "print(l)\n",
    "element=int(input(\"enter the number to be searched---\"))\n",
    "for j in l:\n",
    "    if j==element:\n",
    "        flag=1\n",
    "if flag==1:\n",
    "    print(\"the element is present\")\n",
    "else:\n",
    "    print(\"the element is not present\")\n",
    "        \n",
    "    \n",
    "    "
   ]
  },
  {
   "cell_type": "markdown",
   "id": "97ca5cff",
   "metadata": {},
   "source": [
    "# wap to display the smallest element of the list\n"
   ]
  },
  {
   "cell_type": "code",
   "execution_count": 1,
   "id": "d1b53323",
   "metadata": {},
   "outputs": [
    {
     "name": "stdout",
     "output_type": "stream",
     "text": [
      "enter the number1 2 3 4 5\n"
     ]
    },
    {
     "ename": "TypeError",
     "evalue": "'list' object cannot be interpreted as an integer",
     "output_type": "error",
     "traceback": [
      "\u001b[1;31m---------------------------------------------------------------------------\u001b[0m",
      "\u001b[1;31mTypeError\u001b[0m                                 Traceback (most recent call last)",
      "Input \u001b[1;32mIn [1]\u001b[0m, in \u001b[0;36m<cell line: 3>\u001b[1;34m()\u001b[0m\n\u001b[0;32m      1\u001b[0m l\u001b[38;5;241m=\u001b[39m[]\n\u001b[0;32m      2\u001b[0m a\u001b[38;5;241m=\u001b[39m\u001b[38;5;28minput\u001b[39m(\u001b[38;5;124m\"\u001b[39m\u001b[38;5;124menter the number\u001b[39m\u001b[38;5;124m\"\u001b[39m)\u001b[38;5;241m.\u001b[39msplit(\u001b[38;5;124m\"\u001b[39m\u001b[38;5;124m \u001b[39m\u001b[38;5;124m\"\u001b[39m)\n\u001b[1;32m----> 3\u001b[0m \u001b[38;5;28;01mfor\u001b[39;00m i \u001b[38;5;129;01min\u001b[39;00m \u001b[38;5;28;43mrange\u001b[39;49m\u001b[43m(\u001b[49m\u001b[43ma\u001b[49m\u001b[43m)\u001b[49m:\n\u001b[0;32m      4\u001b[0m     l\u001b[38;5;241m.\u001b[39mappend(i)\n\u001b[0;32m      5\u001b[0m \u001b[38;5;28mmin\u001b[39m(l)\n",
      "\u001b[1;31mTypeError\u001b[0m: 'list' object cannot be interpreted as an integer"
     ]
    }
   ],
   "source": [
    "l=[]\n",
    "a=input(\"enter the number\").split(\" \")\n",
    "for i in range(a):\n",
    "    l.append(i)\n",
    "min(l)\n",
    "    "
   ]
  },
  {
   "cell_type": "code",
   "execution_count": 48,
   "id": "e7333a3f",
   "metadata": {},
   "outputs": [
    {
     "name": "stdout",
     "output_type": "stream",
     "text": [
      "0 is smallest number\n"
     ]
    }
   ],
   "source": [
    "s=[1,4,5,6,7,2,0]\n",
    "smallest=s[0]\n",
    "for i in s:\n",
    "    if i<smallest:\n",
    "        smallest=i\n",
    "print(smallest,\"is smallest number\")"
   ]
  },
  {
   "cell_type": "markdown",
   "id": "6f86467b",
   "metadata": {},
   "source": [
    "# wap to remove duplicate elements from the list"
   ]
  },
  {
   "cell_type": "code",
   "execution_count": 49,
   "id": "a3730ad1",
   "metadata": {},
   "outputs": [
    {
     "name": "stdout",
     "output_type": "stream",
     "text": [
      "[1, 2, 3, 4]\n"
     ]
    }
   ],
   "source": [
    "unique=[]\n",
    "list=[1,2,3,1,2,4,2]\n",
    "for i in list:\n",
    "    if i not in unique:\n",
    "        unique.append(i)\n",
    "print(unique)\n",
    "    "
   ]
  },
  {
   "cell_type": "markdown",
   "id": "57fd7f4a",
   "metadata": {},
   "source": [
    "#wap to remove repetitive elements"
   ]
  },
  {
   "cell_type": "code",
   "execution_count": 50,
   "id": "7f2f6754",
   "metadata": {},
   "outputs": [
    {
     "data": {
      "text/plain": [
       "[40, 30, 20, 60]"
      ]
     },
     "execution_count": 50,
     "metadata": {},
     "output_type": "execute_result"
    }
   ],
   "source": [
    "l=[20,40,30,20,60]\n",
    "l.remove(20)\n",
    "l"
   ]
  },
  {
   "cell_type": "code",
   "execution_count": 58,
   "id": "cc80ff87",
   "metadata": {},
   "outputs": [
    {
     "name": "stdout",
     "output_type": "stream",
     "text": [
      "[40, 30, 60, 20]\n"
     ]
    }
   ],
   "source": [
    "l=[20,20,20,40,30,20,60,20]\n",
    "for i in l:\n",
    "    if i==20:\n",
    "        l.remove(i)\n",
    "print(l)"
   ]
  },
  {
   "cell_type": "code",
   "execution_count": 12,
   "id": "5378a7fe",
   "metadata": {},
   "outputs": [
    {
     "name": "stdout",
     "output_type": "stream",
     "text": [
      "4.0\n",
      "the fashionably guest are : rupanshi\n",
      "the fashionably guest are : vanshita\n",
      "the fashionably guest are : nishant\n"
     ]
    }
   ],
   "source": [
    "guestlist=[\"priyanka\",\"yash\",\"ronak\",\"rahul\",\"rupanshi\",\"vanshita\",\"nishant\",\"umar\"]\n",
    "half_list=len(guestlist)/2\n",
    "print(half_list)\n",
    "for i in range(0,len(guestlist)-1):\n",
    "    if i>=half_list:\n",
    "        print(\"the fashionably guest are :\",guestlist[i])\n"
   ]
  },
  {
   "cell_type": "code",
   "execution_count": 2,
   "id": "6c9de1b0",
   "metadata": {},
   "outputs": [
    {
     "name": "stdout",
     "output_type": "stream",
     "text": [
      "[12, 33, 44, 55]\n"
     ]
    },
    {
     "data": {
      "text/plain": [
       "[12, 33, 55]"
      ]
     },
     "execution_count": 2,
     "metadata": {},
     "output_type": "execute_result"
    }
   ],
   "source": [
    "l=[12,33,44,55,55,33]\n",
    "ul=[]\n",
    "for i in l:\n",
    "    if i not in ul:\n",
    "        ul.append(i)\n",
    "print(ul)\n",
    "ul.remove(44)\n",
    "ul"
   ]
  },
  {
   "cell_type": "code",
   "execution_count": null,
   "id": "22c9bfc8",
   "metadata": {},
   "outputs": [],
   "source": []
  }
 ],
 "metadata": {
  "kernelspec": {
   "display_name": "Python 3 (ipykernel)",
   "language": "python",
   "name": "python3"
  },
  "language_info": {
   "codemirror_mode": {
    "name": "ipython",
    "version": 3
   },
   "file_extension": ".py",
   "mimetype": "text/x-python",
   "name": "python",
   "nbconvert_exporter": "python",
   "pygments_lexer": "ipython3",
   "version": "3.9.12"
  }
 },
 "nbformat": 4,
 "nbformat_minor": 5
}
