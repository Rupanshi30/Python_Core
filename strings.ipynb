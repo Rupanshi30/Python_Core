{
 "cells": [
  {
   "cell_type": "code",
   "execution_count": 1,
   "id": "912ed56c",
   "metadata": {},
   "outputs": [],
   "source": [
    "#how to create the string"
   ]
  },
  {
   "cell_type": "code",
   "execution_count": 2,
   "id": "968665a8",
   "metadata": {},
   "outputs": [
    {
     "name": "stdout",
     "output_type": "stream",
     "text": [
      "python\n"
     ]
    }
   ],
   "source": [
    "#single quotes\n",
    "s='python'\n",
    "print(s)"
   ]
  },
  {
   "cell_type": "code",
   "execution_count": 3,
   "id": "3d8b7be1",
   "metadata": {},
   "outputs": [
    {
     "name": "stdout",
     "output_type": "stream",
     "text": [
      "hi how'r u\n"
     ]
    }
   ],
   "source": [
    "#double quotes\n",
    "s1=\"hi how'r u\"\n",
    "print(s1)"
   ]
  },
  {
   "cell_type": "code",
   "execution_count": 4,
   "id": "21eb23f3",
   "metadata": {},
   "outputs": [
    {
     "name": "stdout",
     "output_type": "stream",
     "text": [
      "bujwbknx\n",
      "wbhdkd\n",
      "bikcxn\n"
     ]
    }
   ],
   "source": [
    "#triple quotes-to create the string in multiline\n",
    "s='''bujwbknx\n",
    "wbhdkd\n",
    "bikcxn'''\n",
    "print(s)"
   ]
  },
  {
   "cell_type": "code",
   "execution_count": 6,
   "id": "c54ecb60",
   "metadata": {},
   "outputs": [
    {
     "name": "stdout",
     "output_type": "stream",
     "text": [
      "helllo\n"
     ]
    }
   ],
   "source": [
    "#using constructor\n",
    "s=str(\"helllo\")\n",
    "print(s)"
   ]
  },
  {
   "cell_type": "code",
   "execution_count": 7,
   "id": "8470aa81",
   "metadata": {},
   "outputs": [
    {
     "name": "stdout",
     "output_type": "stream",
     "text": [
      "\n"
     ]
    }
   ],
   "source": [
    "#empty string\n",
    "s=\"\"\n",
    "print(s)"
   ]
  },
  {
   "cell_type": "code",
   "execution_count": 8,
   "id": "fbf6b29a",
   "metadata": {},
   "outputs": [
    {
     "name": "stdout",
     "output_type": "stream",
     "text": [
      "\n"
     ]
    }
   ],
   "source": [
    "s=str()\n",
    "print(s)"
   ]
  },
  {
   "cell_type": "code",
   "execution_count": 10,
   "id": "3372d976",
   "metadata": {},
   "outputs": [
    {
     "data": {
      "text/plain": [
       "'o'"
      ]
     },
     "execution_count": 10,
     "metadata": {},
     "output_type": "execute_result"
    }
   ],
   "source": [
    "s=\"python\"\n",
    "s[1]\n",
    "s[-2]"
   ]
  },
  {
   "cell_type": "code",
   "execution_count": 12,
   "id": "652ded18",
   "metadata": {},
   "outputs": [
    {
     "data": {
      "text/plain": [
       "'yth'"
      ]
     },
     "execution_count": 12,
     "metadata": {},
     "output_type": "execute_result"
    }
   ],
   "source": [
    "#slicing\n",
    "s=\"python\"\n",
    "s[1:4]"
   ]
  },
  {
   "cell_type": "code",
   "execution_count": 13,
   "id": "83fe454a",
   "metadata": {},
   "outputs": [
    {
     "data": {
      "text/plain": [
       "'yth'"
      ]
     },
     "execution_count": 13,
     "metadata": {},
     "output_type": "execute_result"
    }
   ],
   "source": [
    "s=\"python\"\n",
    "s[1:-2]"
   ]
  },
  {
   "cell_type": "code",
   "execution_count": 14,
   "id": "5126772a",
   "metadata": {},
   "outputs": [
    {
     "data": {
      "text/plain": [
       "'re sub'"
      ]
     },
     "execution_count": 14,
     "metadata": {},
     "output_type": "execute_result"
    }
   ],
   "source": [
    "s=\"python is my core subject\"\n",
    "s[-10:-4]"
   ]
  },
  {
   "cell_type": "code",
   "execution_count": 15,
   "id": "c3139e8d",
   "metadata": {},
   "outputs": [
    {
     "data": {
      "text/plain": [
       "'ython is my core subject'"
      ]
     },
     "execution_count": 15,
     "metadata": {},
     "output_type": "execute_result"
    }
   ],
   "source": [
    "s=\"python is my core subject\"\n",
    "s[1:]"
   ]
  },
  {
   "cell_type": "code",
   "execution_count": 17,
   "id": "4aa6330f",
   "metadata": {},
   "outputs": [
    {
     "data": {
      "text/plain": [
       "'python is my core subject'"
      ]
     },
     "execution_count": 17,
     "metadata": {},
     "output_type": "execute_result"
    }
   ],
   "source": [
    "#if we need full string :\n",
    "s=\"python is my core subject\"\n",
    "s[:]"
   ]
  },
  {
   "cell_type": "code",
   "execution_count": 19,
   "id": "f735122c",
   "metadata": {},
   "outputs": [
    {
     "data": {
      "text/plain": [
       "'jb'"
      ]
     },
     "execution_count": 19,
     "metadata": {},
     "output_type": "execute_result"
    }
   ],
   "source": [
    "s=\"python is my core subject\"\n",
    "s[-4:-6]#we need to give stepsize of -1\n",
    "s[-4:-6:-1]"
   ]
  },
  {
   "cell_type": "code",
   "execution_count": 18,
   "id": "abf3957f",
   "metadata": {},
   "outputs": [
    {
     "data": {
      "text/plain": [
       "'yhni'"
      ]
     },
     "execution_count": 18,
     "metadata": {},
     "output_type": "execute_result"
    }
   ],
   "source": [
    "#stepsize of 2\n",
    "s=\"python is my core subject\"\n",
    "s[1:9:2]"
   ]
  },
  {
   "cell_type": "code",
   "execution_count": 20,
   "id": "dbe8cede",
   "metadata": {},
   "outputs": [
    {
     "data": {
      "text/plain": [
       "'yoim'"
      ]
     },
     "execution_count": 20,
     "metadata": {},
     "output_type": "execute_result"
    }
   ],
   "source": [
    "s=\"python is my core subject\"\n",
    "s[1:12:3]"
   ]
  },
  {
   "cell_type": "code",
   "execution_count": 21,
   "id": "ab54b3c8",
   "metadata": {},
   "outputs": [
    {
     "data": {
      "text/plain": [
       "'tcejbus '"
      ]
     },
     "execution_count": 21,
     "metadata": {},
     "output_type": "execute_result"
    }
   ],
   "source": [
    "s=\"python is my core subject\"\n",
    "s[-1:-9:-1]"
   ]
  },
  {
   "cell_type": "code",
   "execution_count": 23,
   "id": "17f2403f",
   "metadata": {},
   "outputs": [
    {
     "data": {
      "text/plain": [
       "'tebs'"
      ]
     },
     "execution_count": 23,
     "metadata": {},
     "output_type": "execute_result"
    }
   ],
   "source": [
    "s=\"python is my core subject\"\n",
    "s[-1:-9:-2]"
   ]
  },
  {
   "cell_type": "code",
   "execution_count": 24,
   "id": "9f78a41b",
   "metadata": {},
   "outputs": [
    {
     "data": {
      "text/plain": [
       "'eroc ym si noht'"
      ]
     },
     "execution_count": 24,
     "metadata": {},
     "output_type": "execute_result"
    }
   ],
   "source": [
    "s=\"python is my core subject\"\n",
    "s[-9:1:-1]"
   ]
  },
  {
   "cell_type": "code",
   "execution_count": 25,
   "id": "40d20018",
   "metadata": {},
   "outputs": [
    {
     "data": {
      "text/plain": [
       "'python is my core subject'"
      ]
     },
     "execution_count": 25,
     "metadata": {},
     "output_type": "execute_result"
    }
   ],
   "source": [
    "s=\"python is my core subject\"\n",
    "s[::] #gets the whole string"
   ]
  },
  {
   "cell_type": "code",
   "execution_count": 26,
   "id": "bf7f8e01",
   "metadata": {},
   "outputs": [
    {
     "data": {
      "text/plain": [
       "'tcejbus eroc ym si nohtyp'"
      ]
     },
     "execution_count": 26,
     "metadata": {},
     "output_type": "execute_result"
    }
   ],
   "source": [
    "s=\"python is my core subject\"\n",
    "s[::-1]"
   ]
  },
  {
   "cell_type": "code",
   "execution_count": 27,
   "id": "fbefdbe6",
   "metadata": {},
   "outputs": [
    {
     "data": {
      "text/plain": [
       "False"
      ]
     },
     "execution_count": 27,
     "metadata": {},
     "output_type": "execute_result"
    }
   ],
   "source": [
    "s=\"python is my core subject\"\n",
    "s[::]==s[::-1]#to check palindrome using slicing"
   ]
  },
  {
   "cell_type": "code",
   "execution_count": 28,
   "id": "d02c0a11",
   "metadata": {},
   "outputs": [
    {
     "data": {
      "text/plain": [
       "'thon is my core subject'"
      ]
     },
     "execution_count": 28,
     "metadata": {},
     "output_type": "execute_result"
    }
   ],
   "source": [
    "s=\"python is my core subject\"\n",
    "s[2::]"
   ]
  },
  {
   "cell_type": "code",
   "execution_count": 29,
   "id": "fa8580f7",
   "metadata": {},
   "outputs": [
    {
     "data": {
      "text/plain": [
       "'t mose'"
      ]
     },
     "execution_count": 29,
     "metadata": {},
     "output_type": "execute_result"
    }
   ],
   "source": [
    "s=\"python is my core subject\"\n",
    "s[2::4] #after double colon we are giving stepsize"
   ]
  },
  {
   "cell_type": "code",
   "execution_count": 30,
   "id": "d9ae3826",
   "metadata": {},
   "outputs": [
    {
     "data": {
      "text/plain": [
       "'ubject'"
      ]
     },
     "execution_count": 30,
     "metadata": {},
     "output_type": "execute_result"
    }
   ],
   "source": [
    "s=\"python is my core subject\"\n",
    "s[-6::] #it gives the end "
   ]
  },
  {
   "cell_type": "code",
   "execution_count": 31,
   "id": "3b697f1e",
   "metadata": {},
   "outputs": [
    {
     "data": {
      "text/plain": [
       "'us eroc ym si nohtyp'"
      ]
     },
     "execution_count": 31,
     "metadata": {},
     "output_type": "execute_result"
    }
   ],
   "source": [
    "s=\"python is my core subject\"\n",
    "s[-6::-1]"
   ]
  },
  {
   "cell_type": "markdown",
   "id": "f68bffb6",
   "metadata": {},
   "source": [
    "### immutability-cannot change"
   ]
  },
  {
   "cell_type": "code",
   "execution_count": 32,
   "id": "f1d79925",
   "metadata": {},
   "outputs": [
    {
     "ename": "TypeError",
     "evalue": "'str' object does not support item assignment",
     "output_type": "error",
     "traceback": [
      "\u001b[1;31m---------------------------------------------------------------------------\u001b[0m",
      "\u001b[1;31mTypeError\u001b[0m                                 Traceback (most recent call last)",
      "Input \u001b[1;32mIn [32]\u001b[0m, in \u001b[0;36m<cell line: 2>\u001b[1;34m()\u001b[0m\n\u001b[0;32m      1\u001b[0m s\u001b[38;5;241m=\u001b[39m\u001b[38;5;124m\"\u001b[39m\u001b[38;5;124mpython\u001b[39m\u001b[38;5;124m\"\u001b[39m\n\u001b[1;32m----> 2\u001b[0m s[\u001b[38;5;241m1\u001b[39m]\u001b[38;5;241m=\u001b[39m\u001b[38;5;124m'\u001b[39m\u001b[38;5;124mb\u001b[39m\u001b[38;5;124m'\u001b[39m\n",
      "\u001b[1;31mTypeError\u001b[0m: 'str' object does not support item assignment"
     ]
    }
   ],
   "source": [
    "s=\"python\"\n",
    "s[1]='b'"
   ]
  },
  {
   "cell_type": "code",
   "execution_count": 39,
   "id": "0641234c",
   "metadata": {},
   "outputs": [],
   "source": [
    "s=\"python\"\n",
    "del s"
   ]
  },
  {
   "cell_type": "code",
   "execution_count": 40,
   "id": "ee9a3760",
   "metadata": {},
   "outputs": [
    {
     "name": "stdout",
     "output_type": "stream",
     "text": [
      "python\n",
      "madrid\n"
     ]
    }
   ],
   "source": [
    "s=\"python\"\n",
    "print(s)\n",
    "s=\"madrid\"\n",
    "print(s)"
   ]
  },
  {
   "cell_type": "code",
   "execution_count": 42,
   "id": "0c909a03",
   "metadata": {},
   "outputs": [
    {
     "data": {
      "text/plain": [
       "'pythoncore'"
      ]
     },
     "execution_count": 42,
     "metadata": {},
     "output_type": "execute_result"
    }
   ],
   "source": [
    "s=\"python\"\n",
    "s1=\"core\"\n",
    "s+s1"
   ]
  },
  {
   "cell_type": "code",
   "execution_count": 44,
   "id": "6c62351b",
   "metadata": {},
   "outputs": [
    {
     "name": "stdout",
     "output_type": "stream",
     "text": [
      "enter the number4\n",
      "enter the second number5\n"
     ]
    },
    {
     "data": {
      "text/plain": [
       "'45'"
      ]
     },
     "execution_count": 44,
     "metadata": {},
     "output_type": "execute_result"
    }
   ],
   "source": [
    "num1=(input(\"enter the number\"))\n",
    "num2=(input(\"enter the second number\"))\n",
    "num1+num2 #string supports concatenation "
   ]
  },
  {
   "cell_type": "code",
   "execution_count": 46,
   "id": "a3bc4a2b",
   "metadata": {},
   "outputs": [
    {
     "data": {
      "text/plain": [
       "'corepython     is interested'"
      ]
     },
     "execution_count": 46,
     "metadata": {},
     "output_type": "execute_result"
    }
   ],
   "source": [
    "s=\"python\"\n",
    "s1=\"core\"\n",
    "k=s1+s+\"     \"+\"is interested\" #using+\n",
    "k"
   ]
  },
  {
   "cell_type": "code",
   "execution_count": 47,
   "id": "c88c9e0c",
   "metadata": {},
   "outputs": [
    {
     "data": {
      "text/plain": [
       "'hellohellohellohellohellohellohellohellohellohello'"
      ]
     },
     "execution_count": 47,
     "metadata": {},
     "output_type": "execute_result"
    }
   ],
   "source": [
    "\"hello\"*10 #giving replication or copies"
   ]
  },
  {
   "cell_type": "markdown",
   "id": "58e09b16",
   "metadata": {},
   "source": [
    "### relational operators\n"
   ]
  },
  {
   "cell_type": "code",
   "execution_count": 49,
   "id": "a55b802f",
   "metadata": {},
   "outputs": [
    {
     "name": "stdout",
     "output_type": "stream",
     "text": [
      "False\n"
     ]
    }
   ],
   "source": [
    "#==\n",
    "a=\"hii\"\n",
    "b=\"hello\"\n",
    "print(a==b)"
   ]
  },
  {
   "cell_type": "code",
   "execution_count": 50,
   "id": "f79c9dcb",
   "metadata": {},
   "outputs": [
    {
     "name": "stdout",
     "output_type": "stream",
     "text": [
      "True\n"
     ]
    }
   ],
   "source": [
    "#!=\n",
    "a=\"hii\"\n",
    "b=\"hello\"\n",
    "print(a!=b)"
   ]
  },
  {
   "cell_type": "code",
   "execution_count": 52,
   "id": "b0036956",
   "metadata": {},
   "outputs": [
    {
     "name": "stdout",
     "output_type": "stream",
     "text": [
      "True\n"
     ]
    }
   ],
   "source": [
    "#>\n",
    "s1=\"seerat\"\n",
    "s2=\"keerat\" #it compares ascii value not length,it's called lexical \n",
    "print(s1>s2)"
   ]
  },
  {
   "cell_type": "code",
   "execution_count": 53,
   "id": "84901620",
   "metadata": {},
   "outputs": [
    {
     "name": "stdout",
     "output_type": "stream",
     "text": [
      "False\n"
     ]
    }
   ],
   "source": [
    "s1=\"balm\"\n",
    "s2=\"balmeet\"\n",
    "print(s1>s2)"
   ]
  },
  {
   "cell_type": "markdown",
   "id": "0ced21cf",
   "metadata": {},
   "source": [
    "### logical operators"
   ]
  },
  {
   "cell_type": "code",
   "execution_count": 54,
   "id": "f8b4d311",
   "metadata": {},
   "outputs": [
    {
     "data": {
      "text/plain": [
       "''"
      ]
     },
     "execution_count": 54,
     "metadata": {},
     "output_type": "execute_result"
    }
   ],
   "source": [
    "k=\"balmeet\" and \"\"\n",
    "k #empty string is false"
   ]
  },
  {
   "cell_type": "code",
   "execution_count": 55,
   "id": "43762f4e",
   "metadata": {},
   "outputs": [
    {
     "data": {
      "text/plain": [
       "'balmeet'"
      ]
     },
     "execution_count": 55,
     "metadata": {},
     "output_type": "execute_result"
    }
   ],
   "source": [
    "k=\"balmeet\" or \"\"\n",
    "k"
   ]
  },
  {
   "cell_type": "code",
   "execution_count": 56,
   "id": "742cbf64",
   "metadata": {},
   "outputs": [
    {
     "data": {
      "text/plain": [
       "'balmeet'"
      ]
     },
     "execution_count": 56,
     "metadata": {},
     "output_type": "execute_result"
    }
   ],
   "source": [
    "k=\"balmeet\" or \"kaur\"\n",
    "k #first string is true so it will not go to second string"
   ]
  },
  {
   "cell_type": "code",
   "execution_count": 57,
   "id": "cd50c514",
   "metadata": {},
   "outputs": [
    {
     "data": {
      "text/plain": [
       "'kaur'"
      ]
     },
     "execution_count": 57,
     "metadata": {},
     "output_type": "execute_result"
    }
   ],
   "source": [
    "k=\"balmeet\" and \"kaur\"\n",
    "k"
   ]
  },
  {
   "cell_type": "markdown",
   "id": "ddaaa521",
   "metadata": {},
   "source": [
    "### loops in string"
   ]
  },
  {
   "cell_type": "code",
   "execution_count": 59,
   "id": "b0c7c052",
   "metadata": {},
   "outputs": [
    {
     "name": "stdout",
     "output_type": "stream",
     "text": [
      "h\n",
      "e\n",
      "l\n",
      "l\n",
      "o\n"
     ]
    }
   ],
   "source": [
    "s=\"hello\"\n",
    "for i in s:\n",
    "    print(i)"
   ]
  },
  {
   "cell_type": "code",
   "execution_count": 60,
   "id": "baec9e45",
   "metadata": {},
   "outputs": [
    {
     "name": "stdout",
     "output_type": "stream",
     "text": [
      "l\n",
      "l\n",
      "o\n"
     ]
    }
   ],
   "source": [
    "s=\"hello\"\n",
    "for i in s[2:5]:\n",
    "    print(i)"
   ]
  },
  {
   "cell_type": "markdown",
   "id": "9a90b6bf",
   "metadata": {},
   "source": [
    "### membership operator-in and not in"
   ]
  },
  {
   "cell_type": "code",
   "execution_count": 63,
   "id": "25cc82b5",
   "metadata": {},
   "outputs": [
    {
     "data": {
      "text/plain": [
       "True"
      ]
     },
     "execution_count": 63,
     "metadata": {},
     "output_type": "execute_result"
    }
   ],
   "source": [
    "s=\"hello\"\n",
    "'h' in s\n",
    "    "
   ]
  },
  {
   "cell_type": "code",
   "execution_count": 64,
   "id": "065e5819",
   "metadata": {},
   "outputs": [],
   "source": [
    "#common functions-len(),max(),min(),sorted()"
   ]
  },
  {
   "cell_type": "code",
   "execution_count": 65,
   "id": "c2971e16",
   "metadata": {},
   "outputs": [
    {
     "data": {
      "text/plain": [
       "8"
      ]
     },
     "execution_count": 65,
     "metadata": {},
     "output_type": "execute_result"
    }
   ],
   "source": [
    "len(\"rupanshi\")"
   ]
  },
  {
   "cell_type": "code",
   "execution_count": 66,
   "id": "13237aa1",
   "metadata": {},
   "outputs": [
    {
     "data": {
      "text/plain": [
       "'a'"
      ]
     },
     "execution_count": 66,
     "metadata": {},
     "output_type": "execute_result"
    }
   ],
   "source": [
    "min(\"madrid\") #returns on based of ascii value"
   ]
  },
  {
   "cell_type": "code",
   "execution_count": 67,
   "id": "7e96d526",
   "metadata": {},
   "outputs": [
    {
     "data": {
      "text/plain": [
       "'r'"
      ]
     },
     "execution_count": 67,
     "metadata": {},
     "output_type": "execute_result"
    }
   ],
   "source": [
    "max(\"madrid\")"
   ]
  },
  {
   "cell_type": "code",
   "execution_count": 68,
   "id": "57a6a35f",
   "metadata": {},
   "outputs": [
    {
     "data": {
      "text/plain": [
       "8"
      ]
     },
     "execution_count": 68,
     "metadata": {},
     "output_type": "execute_result"
    }
   ],
   "source": [
    "len([1,2,3,4,5,6,7,8])"
   ]
  },
  {
   "cell_type": "code",
   "execution_count": 69,
   "id": "90c2874f",
   "metadata": {},
   "outputs": [
    {
     "ename": "TypeError",
     "evalue": "object of type 'int' has no len()",
     "output_type": "error",
     "traceback": [
      "\u001b[1;31m---------------------------------------------------------------------------\u001b[0m",
      "\u001b[1;31mTypeError\u001b[0m                                 Traceback (most recent call last)",
      "Input \u001b[1;32mIn [69]\u001b[0m, in \u001b[0;36m<cell line: 1>\u001b[1;34m()\u001b[0m\n\u001b[1;32m----> 1\u001b[0m \u001b[38;5;28;43mlen\u001b[39;49m\u001b[43m(\u001b[49m\u001b[38;5;241;43m1\u001b[39;49m\u001b[43m)\u001b[49m\n",
      "\u001b[1;31mTypeError\u001b[0m: object of type 'int' has no len()"
     ]
    }
   ],
   "source": [
    "len(1) #bcz 1 is not sequence type"
   ]
  },
  {
   "cell_type": "code",
   "execution_count": 70,
   "id": "5b077350",
   "metadata": {},
   "outputs": [
    {
     "data": {
      "text/plain": [
       "1"
      ]
     },
     "execution_count": 70,
     "metadata": {},
     "output_type": "execute_result"
    }
   ],
   "source": [
    "len(\"1\") #now 1 becomes our string"
   ]
  },
  {
   "cell_type": "code",
   "execution_count": 71,
   "id": "4edab34d",
   "metadata": {},
   "outputs": [
    {
     "data": {
      "text/plain": [
       "['a', 'd', 'd', 'i', 'm', 'r']"
      ]
     },
     "execution_count": 71,
     "metadata": {},
     "output_type": "execute_result"
    }
   ],
   "source": [
    "sorted(\"madrid\") #defalt- ascending order"
   ]
  },
  {
   "cell_type": "code",
   "execution_count": 73,
   "id": "a64acca2",
   "metadata": {},
   "outputs": [
    {
     "data": {
      "text/plain": [
       "['r', 'm', 'i', 'd', 'd', 'a']"
      ]
     },
     "execution_count": 73,
     "metadata": {},
     "output_type": "execute_result"
    }
   ],
   "source": [
    "sorted(\"madrid\",reverse=True) #use reverse for descending order"
   ]
  },
  {
   "cell_type": "code",
   "execution_count": 74,
   "id": "c229b024",
   "metadata": {},
   "outputs": [
    {
     "data": {
      "text/plain": [
       "['__add__',\n",
       " '__class__',\n",
       " '__contains__',\n",
       " '__delattr__',\n",
       " '__dir__',\n",
       " '__doc__',\n",
       " '__eq__',\n",
       " '__format__',\n",
       " '__ge__',\n",
       " '__getattribute__',\n",
       " '__getitem__',\n",
       " '__getnewargs__',\n",
       " '__gt__',\n",
       " '__hash__',\n",
       " '__init__',\n",
       " '__init_subclass__',\n",
       " '__iter__',\n",
       " '__le__',\n",
       " '__len__',\n",
       " '__lt__',\n",
       " '__mod__',\n",
       " '__mul__',\n",
       " '__ne__',\n",
       " '__new__',\n",
       " '__reduce__',\n",
       " '__reduce_ex__',\n",
       " '__repr__',\n",
       " '__rmod__',\n",
       " '__rmul__',\n",
       " '__setattr__',\n",
       " '__sizeof__',\n",
       " '__str__',\n",
       " '__subclasshook__',\n",
       " 'capitalize',\n",
       " 'casefold',\n",
       " 'center',\n",
       " 'count',\n",
       " 'encode',\n",
       " 'endswith',\n",
       " 'expandtabs',\n",
       " 'find',\n",
       " 'format',\n",
       " 'format_map',\n",
       " 'index',\n",
       " 'isalnum',\n",
       " 'isalpha',\n",
       " 'isascii',\n",
       " 'isdecimal',\n",
       " 'isdigit',\n",
       " 'isidentifier',\n",
       " 'islower',\n",
       " 'isnumeric',\n",
       " 'isprintable',\n",
       " 'isspace',\n",
       " 'istitle',\n",
       " 'isupper',\n",
       " 'join',\n",
       " 'ljust',\n",
       " 'lower',\n",
       " 'lstrip',\n",
       " 'maketrans',\n",
       " 'partition',\n",
       " 'removeprefix',\n",
       " 'removesuffix',\n",
       " 'replace',\n",
       " 'rfind',\n",
       " 'rindex',\n",
       " 'rjust',\n",
       " 'rpartition',\n",
       " 'rsplit',\n",
       " 'rstrip',\n",
       " 'split',\n",
       " 'splitlines',\n",
       " 'startswith',\n",
       " 'strip',\n",
       " 'swapcase',\n",
       " 'title',\n",
       " 'translate',\n",
       " 'upper',\n",
       " 'zfill']"
      ]
     },
     "execution_count": 74,
     "metadata": {},
     "output_type": "execute_result"
    }
   ],
   "source": [
    "dir('str')"
   ]
  },
  {
   "cell_type": "code",
   "execution_count": 3,
   "id": "695e3d57",
   "metadata": {},
   "outputs": [],
   "source": [
    "#specific string fuctions"
   ]
  },
  {
   "cell_type": "code",
   "execution_count": 4,
   "id": "c93bb606",
   "metadata": {},
   "outputs": [],
   "source": [
    "#capitilize,lower,upper,title,swapcase"
   ]
  },
  {
   "cell_type": "code",
   "execution_count": 78,
   "id": "52f97de7",
   "metadata": {},
   "outputs": [
    {
     "data": {
      "text/plain": [
       "'Python core'"
      ]
     },
     "execution_count": 78,
     "metadata": {},
     "output_type": "execute_result"
    }
   ],
   "source": [
    "s=\"python core\"\n",
    "s.capitalize() #caps 1st letter"
   ]
  },
  {
   "cell_type": "code",
   "execution_count": 81,
   "id": "c6136167",
   "metadata": {},
   "outputs": [
    {
     "name": "stdout",
     "output_type": "stream",
     "text": [
      "Python Core\n",
      "python core\n"
     ]
    }
   ],
   "source": [
    "s=\"python core\"\n",
    "print(s.title())\n",
    "print(s) #doesn't change original string"
   ]
  },
  {
   "cell_type": "code",
   "execution_count": 82,
   "id": "c4e8bef7",
   "metadata": {},
   "outputs": [
    {
     "name": "stdout",
     "output_type": "stream",
     "text": [
      "Python Core\n"
     ]
    }
   ],
   "source": [
    "s=\"python core\"\n",
    "t=s.title()\n",
    "print(t)"
   ]
  },
  {
   "cell_type": "code",
   "execution_count": 1,
   "id": "0273326d",
   "metadata": {},
   "outputs": [
    {
     "name": "stdout",
     "output_type": "stream",
     "text": [
      "python core\n",
      "Python core\n"
     ]
    }
   ],
   "source": [
    "s=\"Python core\"\n",
    "print(s.lower())\n",
    "print(s)"
   ]
  },
  {
   "cell_type": "code",
   "execution_count": 84,
   "id": "582b381b",
   "metadata": {},
   "outputs": [
    {
     "name": "stdout",
     "output_type": "stream",
     "text": [
      "PYTHON CORE\n",
      "python core\n"
     ]
    }
   ],
   "source": [
    "s=\"python core\"\n",
    "print(s.upper())\n",
    "print(s)"
   ]
  },
  {
   "cell_type": "code",
   "execution_count": 86,
   "id": "381bcfb0",
   "metadata": {},
   "outputs": [
    {
     "data": {
      "text/plain": [
       "'pyTHON cORE'"
      ]
     },
     "execution_count": 86,
     "metadata": {},
     "output_type": "execute_result"
    }
   ],
   "source": [
    "a=\"PYthon Core\"\n",
    "a.swapcase()"
   ]
  },
  {
   "cell_type": "markdown",
   "id": "fde5af86",
   "metadata": {},
   "source": [
    "### count and location"
   ]
  },
  {
   "cell_type": "code",
   "execution_count": 88,
   "id": "7ab72cde",
   "metadata": {},
   "outputs": [
    {
     "data": {
      "text/plain": [
       "3"
      ]
     },
     "execution_count": 88,
     "metadata": {},
     "output_type": "execute_result"
    }
   ],
   "source": [
    "s=\"hi heena how'r u\"\n",
    "s.count(\"h\")"
   ]
  },
  {
   "cell_type": "code",
   "execution_count": 89,
   "id": "464be5c6",
   "metadata": {},
   "outputs": [
    {
     "data": {
      "text/plain": [
       "2"
      ]
     },
     "execution_count": 89,
     "metadata": {},
     "output_type": "execute_result"
    }
   ],
   "source": [
    "s='''hi pooja\n",
    "bye pooja'''\n",
    "s.count(\"pooja\") #tells occorence of particular substring"
   ]
  },
  {
   "cell_type": "code",
   "execution_count": 2,
   "id": "75b7edbe",
   "metadata": {},
   "outputs": [
    {
     "data": {
      "text/plain": [
       "3"
      ]
     },
     "execution_count": 2,
     "metadata": {},
     "output_type": "execute_result"
    }
   ],
   "source": [
    "a='''hii poojaaa\n",
    "byee poojaaa'''\n",
    "a.count(\"a\",0,11) #start and end specified\n"
   ]
  },
  {
   "cell_type": "code",
   "execution_count": 92,
   "id": "23f98381",
   "metadata": {},
   "outputs": [
    {
     "data": {
      "text/plain": [
       "0"
      ]
     },
     "execution_count": 92,
     "metadata": {},
     "output_type": "execute_result"
    }
   ],
   "source": [
    "a='''hii poojaaa\n",
    "byee poojaaa'''\n",
    "a.count(\"k\")\n"
   ]
  },
  {
   "cell_type": "code",
   "execution_count": 1,
   "id": "f468a770",
   "metadata": {},
   "outputs": [
    {
     "data": {
      "text/plain": [
       "4"
      ]
     },
     "execution_count": 1,
     "metadata": {},
     "output_type": "execute_result"
    }
   ],
   "source": [
    "s=\"python core\"\n",
    "s.index(\"o\") #gives the position of first occurrence"
   ]
  },
  {
   "cell_type": "code",
   "execution_count": 2,
   "id": "b0e824cf",
   "metadata": {},
   "outputs": [
    {
     "data": {
      "text/plain": [
       "2"
      ]
     },
     "execution_count": 2,
     "metadata": {},
     "output_type": "execute_result"
    }
   ],
   "source": [
    "s=\"python core\"\n",
    "s.index(\"th\")"
   ]
  },
  {
   "cell_type": "code",
   "execution_count": 3,
   "id": "1e0f44f5",
   "metadata": {},
   "outputs": [
    {
     "data": {
      "text/plain": [
       "7"
      ]
     },
     "execution_count": 3,
     "metadata": {},
     "output_type": "execute_result"
    }
   ],
   "source": [
    "s=\"python core\"\n",
    "s.index(\"core\")"
   ]
  },
  {
   "cell_type": "code",
   "execution_count": 4,
   "id": "dc93cf5b",
   "metadata": {},
   "outputs": [
    {
     "ename": "ValueError",
     "evalue": "substring not found",
     "output_type": "error",
     "traceback": [
      "\u001b[1;31m---------------------------------------------------------------------------\u001b[0m",
      "\u001b[1;31mValueError\u001b[0m                                Traceback (most recent call last)",
      "Input \u001b[1;32mIn [4]\u001b[0m, in \u001b[0;36m<cell line: 2>\u001b[1;34m()\u001b[0m\n\u001b[0;32m      1\u001b[0m s\u001b[38;5;241m=\u001b[39m\u001b[38;5;124m\"\u001b[39m\u001b[38;5;124mpython core\u001b[39m\u001b[38;5;124m\"\u001b[39m\n\u001b[1;32m----> 2\u001b[0m \u001b[43ms\u001b[49m\u001b[38;5;241;43m.\u001b[39;49m\u001b[43mindex\u001b[49m\u001b[43m(\u001b[49m\u001b[38;5;124;43m\"\u001b[39;49m\u001b[38;5;124;43mk\u001b[39;49m\u001b[38;5;124;43m\"\u001b[39;49m\u001b[43m)\u001b[49m\n",
      "\u001b[1;31mValueError\u001b[0m: substring not found"
     ]
    }
   ],
   "source": [
    "s=\"python core\"\n",
    "s.index(\"k\") #bcz k is not present"
   ]
  },
  {
   "cell_type": "markdown",
   "id": "be56be9c",
   "metadata": {},
   "source": [
    "### find"
   ]
  },
  {
   "cell_type": "code",
   "execution_count": 5,
   "id": "bf4a78fb",
   "metadata": {},
   "outputs": [
    {
     "data": {
      "text/plain": [
       "-1"
      ]
     },
     "execution_count": 5,
     "metadata": {},
     "output_type": "execute_result"
    }
   ],
   "source": [
    "s=\"python core\"\n",
    "s.find(\"k\") #in place of error it will give -1"
   ]
  },
  {
   "cell_type": "code",
   "execution_count": 2,
   "id": "85ecee9f",
   "metadata": {},
   "outputs": [
    {
     "data": {
      "text/plain": [
       "8"
      ]
     },
     "execution_count": 2,
     "metadata": {},
     "output_type": "execute_result"
    }
   ],
   "source": [
    "s=\"python core\"\n",
    "s.index(\"o\",7,9) #giving search range"
   ]
  },
  {
   "cell_type": "code",
   "execution_count": 7,
   "id": "77c82067",
   "metadata": {},
   "outputs": [
    {
     "data": {
      "text/plain": [
       "False"
      ]
     },
     "execution_count": 7,
     "metadata": {},
     "output_type": "execute_result"
    }
   ],
   "source": [
    "s=\" Madrid Solutions\"\n",
    "s.isalnum() #it should contain both alpha and numeric"
   ]
  },
  {
   "cell_type": "code",
   "execution_count": 8,
   "id": "6c44a8d3",
   "metadata": {},
   "outputs": [
    {
     "data": {
      "text/plain": [
       "False"
      ]
     },
     "execution_count": 8,
     "metadata": {},
     "output_type": "execute_result"
    }
   ],
   "source": [
    "s=\" Madrid Solutions\"\n",
    "s.isalpha() #bcz of space"
   ]
  },
  {
   "cell_type": "code",
   "execution_count": 15,
   "id": "9667eecb",
   "metadata": {},
   "outputs": [
    {
     "data": {
      "text/plain": [
       "True"
      ]
     },
     "execution_count": 15,
     "metadata": {},
     "output_type": "execute_result"
    }
   ],
   "source": [
    "s=\"MadridSolutions\"\n",
    "s.isalpha()"
   ]
  },
  {
   "cell_type": "code",
   "execution_count": 14,
   "id": "28aa56e7",
   "metadata": {},
   "outputs": [
    {
     "data": {
      "text/plain": [
       "True"
      ]
     },
     "execution_count": 14,
     "metadata": {},
     "output_type": "execute_result"
    }
   ],
   "source": [
    "s=\"MadridSolutions1\"\n",
    "s.isalnum()"
   ]
  },
  {
   "cell_type": "code",
   "execution_count": 5,
   "id": "f759b801",
   "metadata": {},
   "outputs": [
    {
     "data": {
      "text/plain": [
       "True"
      ]
     },
     "execution_count": 5,
     "metadata": {},
     "output_type": "execute_result"
    }
   ],
   "source": [
    "s=\" Madrid Solutions\"\n",
    "s.istitle()"
   ]
  },
  {
   "cell_type": "code",
   "execution_count": 13,
   "id": "101bdb05",
   "metadata": {},
   "outputs": [
    {
     "data": {
      "text/plain": [
       "False"
      ]
     },
     "execution_count": 13,
     "metadata": {},
     "output_type": "execute_result"
    }
   ],
   "source": [
    "s=\"Madrid solutions\"\n",
    "s.istitle() #s is small"
   ]
  },
  {
   "cell_type": "code",
   "execution_count": 16,
   "id": "44eb1560",
   "metadata": {},
   "outputs": [
    {
     "data": {
      "text/plain": [
       "False"
      ]
     },
     "execution_count": 16,
     "metadata": {},
     "output_type": "execute_result"
    }
   ],
   "source": [
    "s=\"Madrid Solutions\"\n",
    "s.islower()"
   ]
  },
  {
   "cell_type": "code",
   "execution_count": 17,
   "id": "c70253ee",
   "metadata": {},
   "outputs": [
    {
     "data": {
      "text/plain": [
       "False"
      ]
     },
     "execution_count": 17,
     "metadata": {},
     "output_type": "execute_result"
    }
   ],
   "source": [
    "s=\"Madrid Solutions\"\n",
    "s.isupper()"
   ]
  },
  {
   "cell_type": "code",
   "execution_count": 18,
   "id": "f95f82fc",
   "metadata": {},
   "outputs": [
    {
     "data": {
      "text/plain": [
       "False"
      ]
     },
     "execution_count": 18,
     "metadata": {},
     "output_type": "execute_result"
    }
   ],
   "source": [
    "s=\"Madrid Solutions1\"\n",
    "s.isdigit() #all are not digits"
   ]
  },
  {
   "cell_type": "code",
   "execution_count": 19,
   "id": "5886a9e6",
   "metadata": {},
   "outputs": [
    {
     "data": {
      "text/plain": [
       "True"
      ]
     },
     "execution_count": 19,
     "metadata": {},
     "output_type": "execute_result"
    }
   ],
   "source": [
    "s=\"1234567\"\n",
    "s.isdigit()"
   ]
  },
  {
   "cell_type": "code",
   "execution_count": 20,
   "id": "51282522",
   "metadata": {},
   "outputs": [
    {
     "data": {
      "text/plain": [
       "False"
      ]
     },
     "execution_count": 20,
     "metadata": {},
     "output_type": "execute_result"
    }
   ],
   "source": [
    "s=\"Madrid Solutions\"\n",
    "s.isspace()"
   ]
  },
  {
   "cell_type": "code",
   "execution_count": 22,
   "id": "b16b8410",
   "metadata": {},
   "outputs": [
    {
     "data": {
      "text/plain": [
       "True"
      ]
     },
     "execution_count": 22,
     "metadata": {},
     "output_type": "execute_result"
    }
   ],
   "source": [
    "s=\"    \"\n",
    "s.isspace()"
   ]
  },
  {
   "cell_type": "code",
   "execution_count": 25,
   "id": "f3e9e970",
   "metadata": {},
   "outputs": [
    {
     "data": {
      "text/plain": [
       "'Madrid solutions'"
      ]
     },
     "execution_count": 25,
     "metadata": {},
     "output_type": "execute_result"
    }
   ],
   "source": [
    "s=\"Madrid Solutions\"\n",
    "s.()#tab will show all the fuctions after ."
   ]
  },
  {
   "cell_type": "markdown",
   "id": "5ac7a9d8",
   "metadata": {},
   "source": [
    "### replace"
   ]
  },
  {
   "cell_type": "code",
   "execution_count": 29,
   "id": "83f39519",
   "metadata": {},
   "outputs": [
    {
     "name": "stdout",
     "output_type": "stream",
     "text": [
      "python core is boring\n",
      "python core is interesting\n"
     ]
    }
   ],
   "source": [
    "s=\"python core is interesting\"\n",
    "s1=s.replace(\"interesting\",\"boring\")\n",
    "print(s1)\n",
    "print(s)"
   ]
  },
  {
   "cell_type": "code",
   "execution_count": 27,
   "id": "7b99712f",
   "metadata": {},
   "outputs": [
    {
     "data": {
      "text/plain": [
       "'python core is boring'"
      ]
     },
     "execution_count": 27,
     "metadata": {},
     "output_type": "execute_result"
    }
   ],
   "source": [
    "s=\"python core is interesting\"\n",
    "s.replace(\"interesting\",\"boring\")"
   ]
  },
  {
   "cell_type": "code",
   "execution_count": 28,
   "id": "520f287b",
   "metadata": {},
   "outputs": [
    {
     "data": {
      "text/plain": [
       "'pythvn cvre is interesting'"
      ]
     },
     "execution_count": 28,
     "metadata": {},
     "output_type": "execute_result"
    }
   ],
   "source": [
    "s=\"python core is interesting\"\n",
    "s.replace(\"o\",\"v\")"
   ]
  },
  {
   "cell_type": "code",
   "execution_count": 31,
   "id": "36f0a73e",
   "metadata": {},
   "outputs": [
    {
     "name": "stdout",
     "output_type": "stream",
     "text": [
      "pythvn core is interesting\n",
      "python core is interesting\n"
     ]
    }
   ],
   "source": [
    "s=\"python core is interesting\"\n",
    "s1=s.replace(\"o\",\"v\",1) #we are giving count=1,it will replace o with v one time only\n",
    "print(s1)\n",
    "print(s)"
   ]
  },
  {
   "cell_type": "markdown",
   "id": "e074ee10",
   "metadata": {},
   "source": [
    "# wap to remove a particular string from a given string"
   ]
  },
  {
   "cell_type": "code",
   "execution_count": 33,
   "id": "75b8c966",
   "metadata": {},
   "outputs": [
    {
     "name": "stdout",
     "output_type": "stream",
     "text": [
      "enter the string-----madrid\n",
      "enter the substring----r\n"
     ]
    },
    {
     "data": {
      "text/plain": [
       "'madid'"
      ]
     },
     "execution_count": 33,
     "metadata": {},
     "output_type": "execute_result"
    }
   ],
   "source": [
    "s=input(\"enter the string-----\")\n",
    "s1=input(\"enter the substring----\")\n",
    "s.replace(s1,\"\")"
   ]
  },
  {
   "cell_type": "markdown",
   "id": "a45d50f1",
   "metadata": {},
   "source": [
    "# remove a particular character from particular position"
   ]
  },
  {
   "cell_type": "markdown",
   "id": "f9b1454c",
   "metadata": {},
   "source": [
    "# naive method"
   ]
  },
  {
   "cell_type": "code",
   "execution_count": 36,
   "id": "d3ef7837",
   "metadata": {},
   "outputs": [
    {
     "name": "stdout",
     "output_type": "stream",
     "text": [
      "enter the string----madrid\n",
      "enter the position---2\n",
      "marid\n"
     ]
    }
   ],
   "source": [
    "s=input(\"enter the string----\")\n",
    "pos=int(input(\"enter the position---\"))\n",
    "s1=\"\"\n",
    "for i in range(0,len(s)):\n",
    "    if i!=pos: #concatenated\n",
    "        s1=s1+s[i] # indexing \n",
    "print(s1)"
   ]
  },
  {
   "cell_type": "markdown",
   "id": "e7f2cd0f",
   "metadata": {},
   "source": [
    "# using slicing and concatenation"
   ]
  },
  {
   "cell_type": "code",
   "execution_count": 39,
   "id": "62bb3e09",
   "metadata": {},
   "outputs": [
    {
     "name": "stdout",
     "output_type": "stream",
     "text": [
      "enter the string---madrid\n",
      "enter the position---2\n",
      "marid\n"
     ]
    }
   ],
   "source": [
    "s=input(\"enter the string---\")\n",
    "pos=int(input(\"enter the position---\"))\n",
    "s=s[0:pos]+s[pos+1:]\n",
    "print(s)"
   ]
  },
  {
   "cell_type": "code",
   "execution_count": 40,
   "id": "da1fef60",
   "metadata": {},
   "outputs": [
    {
     "name": "stdout",
     "output_type": "stream",
     "text": [
      "4 is the square of 2\n"
     ]
    }
   ],
   "source": [
    "a=2\n",
    "b=4\n",
    "print(b,\"is the square of\",a)"
   ]
  },
  {
   "cell_type": "code",
   "execution_count": 41,
   "id": "6699fd76",
   "metadata": {},
   "outputs": [
    {
     "name": "stdout",
     "output_type": "stream",
     "text": [
      "4 is the square of 2\n"
     ]
    }
   ],
   "source": [
    "print(\"{} is the square of {}\".format(b,a)) #full string .format"
   ]
  },
  {
   "cell_type": "code",
   "execution_count": 42,
   "id": "b9d108b5",
   "metadata": {},
   "outputs": [
    {
     "name": "stdout",
     "output_type": "stream",
     "text": [
      "hello is the square of hi\n"
     ]
    }
   ],
   "source": [
    "print(\"{} is the square of {}\".format(\"hello\",\"hi\"))"
   ]
  },
  {
   "cell_type": "code",
   "execution_count": 44,
   "id": "26aabd32",
   "metadata": {},
   "outputs": [
    {
     "name": "stdout",
     "output_type": "stream",
     "text": [
      "hi simran kaur \n"
     ]
    }
   ],
   "source": [
    "string=\"hi {} {} \".format('simran','kaur')\n",
    "print(string)"
   ]
  },
  {
   "cell_type": "code",
   "execution_count": 45,
   "id": "01eea575",
   "metadata": {},
   "outputs": [
    {
     "name": "stdout",
     "output_type": "stream",
     "text": [
      "it's,hello,you\n"
     ]
    }
   ],
   "source": [
    "string1=\"{1},{0},{2}\".format('hello',\"it's\",\"you\")\n",
    "print(string1)"
   ]
  },
  {
   "cell_type": "code",
   "execution_count": 51,
   "id": "7a915762",
   "metadata": {},
   "outputs": [
    {
     "name": "stdout",
     "output_type": "stream",
     "text": [
      "hello it's you\n"
     ]
    }
   ],
   "source": [
    "#keyword formatting\n",
    "string2=\"{j} {l} {k}\".format(\"rupanshi\",j='hello',l=\"it's\",k=\"you\")\n",
    "print(string2)"
   ]
  },
  {
   "cell_type": "code",
   "execution_count": 47,
   "id": "cb41f4e4",
   "metadata": {},
   "outputs": [
    {
     "data": {
      "text/plain": [
       "True"
      ]
     },
     "execution_count": 47,
     "metadata": {},
     "output_type": "execute_result"
    }
   ],
   "source": [
    "#startswith and endswith\n",
    "s=\"madrid\"\n",
    "s.startswith(\"m\")"
   ]
  },
  {
   "cell_type": "code",
   "execution_count": 50,
   "id": "e0d9f4ab",
   "metadata": {},
   "outputs": [
    {
     "data": {
      "text/plain": [
       "False"
      ]
     },
     "execution_count": 50,
     "metadata": {},
     "output_type": "execute_result"
    }
   ],
   "source": [
    "s=\" madrid\"\n",
    "s.startswith(\"m\") #false bcz starting with space"
   ]
  },
  {
   "cell_type": "code",
   "execution_count": 48,
   "id": "d3d58b33",
   "metadata": {},
   "outputs": [
    {
     "data": {
      "text/plain": [
       "False"
      ]
     },
     "execution_count": 48,
     "metadata": {},
     "output_type": "execute_result"
    }
   ],
   "source": [
    "s=\"madrid\"\n",
    "s.endswith(\"m\")"
   ]
  },
  {
   "cell_type": "code",
   "execution_count": 49,
   "id": "2a01b0bf",
   "metadata": {},
   "outputs": [
    {
     "data": {
      "text/plain": [
       "True"
      ]
     },
     "execution_count": 49,
     "metadata": {},
     "output_type": "execute_result"
    }
   ],
   "source": [
    "s=\"madrid\"\n",
    "s.endswith(\"d\")"
   ]
  },
  {
   "cell_type": "markdown",
   "id": "2830534a",
   "metadata": {},
   "source": [
    "# split function"
   ]
  },
  {
   "cell_type": "code",
   "execution_count": 53,
   "id": "318c0f89",
   "metadata": {},
   "outputs": [
    {
     "data": {
      "text/plain": [
       "['python', 'core']"
      ]
     },
     "execution_count": 53,
     "metadata": {},
     "output_type": "execute_result"
    }
   ],
   "source": [
    "s=\"python core\"\n",
    "s.split() #by default separator is space\"\""
   ]
  },
  {
   "cell_type": "code",
   "execution_count": 54,
   "id": "91462850",
   "metadata": {},
   "outputs": [
    {
     "data": {
      "text/plain": [
       "['pyth', 'n c', 're']"
      ]
     },
     "execution_count": 54,
     "metadata": {},
     "output_type": "execute_result"
    }
   ],
   "source": [
    "s=\"python core\"\n",
    "s.split(\"o\") #separator will not print"
   ]
  },
  {
   "cell_type": "code",
   "execution_count": 56,
   "id": "86060a87",
   "metadata": {},
   "outputs": [
    {
     "data": {
      "text/plain": [
       "['rupanshi.rana30', 'gmail.com']"
      ]
     },
     "execution_count": 56,
     "metadata": {},
     "output_type": "execute_result"
    }
   ],
   "source": [
    "s=\"rupanshi.rana30@gmail.com\"\n",
    "s.split(\"@\")"
   ]
  },
  {
   "cell_type": "code",
   "execution_count": 57,
   "id": "86f7a2d5",
   "metadata": {},
   "outputs": [
    {
     "data": {
      "text/plain": [
       "['python core']"
      ]
     },
     "execution_count": 57,
     "metadata": {},
     "output_type": "execute_result"
    }
   ],
   "source": [
    "s=\"python core\"\n",
    "s.split(\"a\") #string will not split"
   ]
  },
  {
   "cell_type": "markdown",
   "id": "b22314af",
   "metadata": {},
   "source": [
    "# max split"
   ]
  },
  {
   "cell_type": "code",
   "execution_count": 58,
   "id": "fa0f8dd9",
   "metadata": {},
   "outputs": [
    {
     "data": {
      "text/plain": [
       "['ca', 'ba', 'sa', 'fa', 'or']"
      ]
     },
     "execution_count": 58,
     "metadata": {},
     "output_type": "execute_result"
    }
   ],
   "source": [
    "s=\"catbatsatfator\"\n",
    "s.split(\"t\")"
   ]
  },
  {
   "cell_type": "code",
   "execution_count": 59,
   "id": "16552a4f",
   "metadata": {},
   "outputs": [
    {
     "data": {
      "text/plain": [
       "['ca', 'ba', 'satfator']"
      ]
     },
     "execution_count": 59,
     "metadata": {},
     "output_type": "execute_result"
    }
   ],
   "source": [
    "s=\"catbatsatfator\"\n",
    "s.split(\"t\",2) #2 is my maxsplit"
   ]
  },
  {
   "cell_type": "code",
   "execution_count": 60,
   "id": "e193fc81",
   "metadata": {},
   "outputs": [
    {
     "data": {
      "text/plain": [
       "['catbatsatfator']"
      ]
     },
     "execution_count": 60,
     "metadata": {},
     "output_type": "execute_result"
    }
   ],
   "source": [
    "s=\"catbatsatfator\"\n",
    "s.split()"
   ]
  },
  {
   "cell_type": "code",
   "execution_count": 61,
   "id": "bb4df69a",
   "metadata": {},
   "outputs": [
    {
     "data": {
      "text/plain": [
       "['w', 'e', 'l', 'c', 'o', 'm', 'e']"
      ]
     },
     "execution_count": 61,
     "metadata": {},
     "output_type": "execute_result"
    }
   ],
   "source": [
    "s=\"w,e,l,c,o,m,e\"\n",
    "s.split(\",\")"
   ]
  },
  {
   "cell_type": "code",
   "execution_count": 62,
   "id": "6e376f29",
   "metadata": {},
   "outputs": [
    {
     "data": {
      "text/plain": [
       "['w', 'e', 'l,c,o,m,e']"
      ]
     },
     "execution_count": 62,
     "metadata": {},
     "output_type": "execute_result"
    }
   ],
   "source": [
    "s=\"w,e,l,c,o,m,e\"\n",
    "s.split(\",\",2) #by default it will check from left to right"
   ]
  },
  {
   "cell_type": "code",
   "execution_count": 65,
   "id": "72bb9f1b",
   "metadata": {},
   "outputs": [
    {
     "data": {
      "text/plain": [
       "['w,e,l,c,o', 'm', 'e']"
      ]
     },
     "execution_count": 65,
     "metadata": {},
     "output_type": "execute_result"
    }
   ],
   "source": [
    "s=\"w,e,l,c,o,m,e\"\n",
    "s.rsplit(\",\",2) #from right to left USE rsplit"
   ]
  },
  {
   "cell_type": "code",
   "execution_count": 66,
   "id": "786555a5",
   "metadata": {},
   "outputs": [
    {
     "data": {
      "text/plain": [
       "['rupanshi.rana30@gmail.com', 'mails', 'inbox']"
      ]
     },
     "execution_count": 66,
     "metadata": {},
     "output_type": "execute_result"
    }
   ],
   "source": [
    "s=\"rupanshi.rana30@gmail.com/mails/inbox\"\n",
    "s.rsplit(\"/\")"
   ]
  },
  {
   "cell_type": "code",
   "execution_count": 67,
   "id": "2d68b5ea",
   "metadata": {},
   "outputs": [
    {
     "data": {
      "text/plain": [
       "['rupanshi.rana30@gmail.com', 'mails', 'inbox']"
      ]
     },
     "execution_count": 67,
     "metadata": {},
     "output_type": "execute_result"
    }
   ],
   "source": [
    "s=\"rupanshi.rana30@gmail.com/mails/inbox\"\n",
    "s.rsplit(\"/\",2)"
   ]
  },
  {
   "cell_type": "markdown",
   "id": "d172db2c",
   "metadata": {},
   "source": [
    "# strip()"
   ]
  },
  {
   "cell_type": "code",
   "execution_count": 69,
   "id": "e76ed272",
   "metadata": {},
   "outputs": [
    {
     "name": "stdout",
     "output_type": "stream",
     "text": [
      "   hi how r u    \n"
     ]
    },
    {
     "data": {
      "text/plain": [
       "'hi how r u'"
      ]
     },
     "execution_count": 69,
     "metadata": {},
     "output_type": "execute_result"
    }
   ],
   "source": [
    "s=\"   hi how r u    \"\n",
    "print(s) # s is printing with space\n",
    "s.strip() # strip will remove the space"
   ]
  },
  {
   "cell_type": "code",
   "execution_count": 70,
   "id": "60efd997",
   "metadata": {},
   "outputs": [
    {
     "name": "stdout",
     "output_type": "stream",
     "text": [
      "@hi how r u    \n"
     ]
    },
    {
     "data": {
      "text/plain": [
       "'hi how r u    '"
      ]
     },
     "execution_count": 70,
     "metadata": {},
     "output_type": "execute_result"
    }
   ],
   "source": [
    "s=\"@hi how r u    \"\n",
    "print(s) #by default is space\n",
    "s.strip(\"@\")"
   ]
  },
  {
   "cell_type": "code",
   "execution_count": 71,
   "id": "4de4b397",
   "metadata": {},
   "outputs": [],
   "source": [
    "#lstrip-only from left\n",
    "#rstrip-only from right\n",
    "#string-from both right and left"
   ]
  },
  {
   "cell_type": "markdown",
   "id": "51b196d3",
   "metadata": {},
   "source": [
    "# join"
   ]
  },
  {
   "cell_type": "code",
   "execution_count": 72,
   "id": "56e3fa31",
   "metadata": {},
   "outputs": [
    {
     "data": {
      "text/plain": [
       "'1*2*3*4*5'"
      ]
     },
     "execution_count": 72,
     "metadata": {},
     "output_type": "execute_result"
    }
   ],
   "source": [
    "l=[\"1\",\"2\",\"3\",\"4\",\"5\"]\n",
    "s=\"*\"\n",
    "s.join(l) #same as concatenation but here we are giving joining parameter too"
   ]
  },
  {
   "cell_type": "code",
   "execution_count": 75,
   "id": "894d3516",
   "metadata": {},
   "outputs": [
    {
     "name": "stdout",
     "output_type": "stream",
     "text": [
      "enter the fruits---apple orange avacado\n",
      "apple\n",
      "avacado\n"
     ]
    }
   ],
   "source": [
    "#take a list of a string from the user and display all the words of the list which starts with a\n",
    "fruit=input(\"enter the fruits---\").split(\" \")\n",
    "for i in fruit:\n",
    "    if i.startswith(\"a\"):\n",
    "        print(i)"
   ]
  },
  {
   "cell_type": "code",
   "execution_count": 4,
   "id": "344452cf",
   "metadata": {},
   "outputs": [
    {
     "name": "stdout",
     "output_type": "stream",
     "text": [
      "6 is upper case\n",
      "10 is lower case\n",
      "7 is digits\n",
      "6 is special characters\n"
     ]
    }
   ],
   "source": [
    "#wap to check how many uppercase lowercase digits and special characters in the string\n",
    "string=\"asdf234ghjAS4567!@#$%^AfghFGG\"\n",
    "u=0\n",
    "l=0\n",
    "d=0\n",
    "s=0\n",
    "for i in string:\n",
    "   \n",
    "    if i.isupper():\n",
    "        u+=1\n",
    "        \n",
    "    elif i.islower():\n",
    "        l+=1\n",
    "        \n",
    "    elif i.isdigit():\n",
    "        d+=1\n",
    "       \n",
    "    else:\n",
    "        s+=1\n",
    "        \n",
    "print(u,\"is upper case\")\n",
    "print(l,\"is lower case\")\n",
    "print(d,\"is digits\")\n",
    "print(s,\"is special characters\")"
   ]
  },
  {
   "cell_type": "code",
   "execution_count": 82,
   "id": "65d283a6",
   "metadata": {},
   "outputs": [
    {
     "name": "stdout",
     "output_type": "stream",
     "text": [
      "dirdam"
     ]
    }
   ],
   "source": [
    "#reverse order using while loop\n",
    "s=\"madrid\"\n",
    "l=len(s)\n",
    "l1=l-1\n",
    "while(l1>=0):\n",
    "    print(s[l1],end=\"\")\n",
    "    l1=l1-1"
   ]
  },
  {
   "cell_type": "code",
   "execution_count": 2,
   "id": "4fa90297",
   "metadata": {},
   "outputs": [
    {
     "name": "stdout",
     "output_type": "stream",
     "text": [
      "enter the stringAEDGaedg1234!@#$\n",
      "4\n",
      "4\n",
      "4\n",
      "4\n"
     ]
    }
   ],
   "source": [
    "#wap to display and count vowels and consonants,digit and special characters in the string\n",
    "string=input(\"enter the string\")\n",
    "v,c,d,s=0,0,0,0\n",
    "for i in string:\n",
    "    if i.isalpha():\n",
    "        if i==\"a\" or i==\"e\" or i==\"i\" or i==\"o\" or i==\"u\" or i==\"A\" or i==\"E\" or  i==\"I\" or i==\"O\" or i==\"U\":\n",
    "            v+=1\n",
    "        else:\n",
    "            c+=1\n",
    "    elif i.isdigit():\n",
    "        d+=1\n",
    "    else:\n",
    "        s+=1\n",
    "print(v)\n",
    "print(c)\n",
    "print(d)\n",
    "print(s)"
   ]
  },
  {
   "cell_type": "markdown",
   "id": "a60c28db",
   "metadata": {},
   "source": [
    "# homework 19/09/22"
   ]
  },
  {
   "cell_type": "code",
   "execution_count": 1,
   "id": "8c01920e",
   "metadata": {},
   "outputs": [
    {
     "name": "stdout",
     "output_type": "stream",
     "text": [
      "enter the string----abcde\n",
      "ebcda\n"
     ]
    }
   ],
   "source": [
    "#q-1\n",
    "def exchange(str1):\n",
    "    return str1[-1:] + str1[1:-1] + str1[:1]\n",
    "\n",
    "str=input(\"enter the string----\")\n",
    "e=exchange(str)\n",
    "print(e)"
   ]
  },
  {
   "cell_type": "code",
   "execution_count": 1,
   "id": "58a73340",
   "metadata": {},
   "outputs": [
    {
     "data": {
      "text/plain": [
       "'dadrim'"
      ]
     },
     "execution_count": 1,
     "metadata": {},
     "output_type": "execute_result"
    }
   ],
   "source": [
    "s=\"madrid\"\n",
    "a=s[0]\n",
    "b=s[-1]\n",
    "b+s[1:-1]+a"
   ]
  },
  {
   "cell_type": "code",
   "execution_count": 5,
   "id": "06cd00ae",
   "metadata": {},
   "outputs": [
    {
     "name": "stdout",
     "output_type": "stream",
     "text": [
      "enter the string---abcde\n"
     ]
    },
    {
     "data": {
      "text/plain": [
       "'ace'"
      ]
     },
     "execution_count": 5,
     "metadata": {},
     "output_type": "execute_result"
    }
   ],
   "source": [
    "#q-2\n",
    "def remove_odd(str1):\n",
    "    even=\"\"\n",
    "    for i in range(len(str1)):\n",
    "        if i%2==0:\n",
    "            even = even + str1[i]\n",
    "    return even\n",
    "string=input(\"enter the string---\")\n",
    "remove_odd(string)\n",
    "\n"
   ]
  },
  {
   "cell_type": "code",
   "execution_count": 5,
   "id": "9213c7ac",
   "metadata": {},
   "outputs": [
    {
     "name": "stdout",
     "output_type": "stream",
     "text": [
      "enter the stringrupanshi\n",
      "8\n"
     ]
    }
   ],
   "source": [
    "#q-3\n",
    "s=input(\"enter the string\")\n",
    "count=0\n",
    "for i in s:\n",
    "    count+=1\n",
    "print(count)"
   ]
  },
  {
   "cell_type": "code",
   "execution_count": 4,
   "id": "784c1d4d",
   "metadata": {},
   "outputs": [
    {
     "name": "stdout",
     "output_type": "stream",
     "text": [
      "enter the passwordAdfghjmk\n",
      "invalid password\n",
      "---kindly renter it----\n",
      "enter the passwordsdcfvgbhnjm\n",
      "invalid password\n",
      "---kindly renter it----\n",
      "enter the passwordxcvb\n",
      "invalid password\n",
      "---kindly renter it----\n",
      "enter the passwordxcvb\n",
      "invalid password\n",
      "---kindly renter it----\n",
      "enter the passwordxcfvgbhn\n",
      "invalid password\n",
      "---kindly renter it----\n"
     ]
    }
   ],
   "source": [
    "#q-4\n",
    "attempt=0\n",
    "while True:\n",
    "    p=input(\"enter the password\")\n",
    "    u,l,d,s=0,0,0,0\n",
    "    for i in p:\n",
    "        if i.isupper():\n",
    "            u+=1\n",
    "        elif i.islower():\n",
    "            l+=1\n",
    "        elif i.isdigit():\n",
    "            d+=1\n",
    "        else:\n",
    "            s+=1\n",
    "    if l>0 and u>0 and d>0 and s>0 and len(p)>=10:\n",
    "        print(\"valid password\",p)\n",
    "        break\n",
    "    else:\n",
    "        print(\"invalid password\")\n",
    "        print(\"---kindly renter it----\")\n",
    "        attempt+=1\n",
    "        if attempt==5:\n",
    "            break\n",
    "        else:\n",
    "            continue\n",
    "            "
   ]
  },
  {
   "cell_type": "code",
   "execution_count": 2,
   "id": "b4e34071",
   "metadata": {},
   "outputs": [
    {
     "name": "stdout",
     "output_type": "stream",
     "text": [
      "m ----- 1\n",
      "a ----- 1\n",
      "d ----- 2\n",
      "r ----- 1\n",
      "i ----- 1\n",
      "d ----- 2\n"
     ]
    }
   ],
   "source": [
    "s=\"madrid\"\n",
    "for i in s:\n",
    "    print(i,\"-----\",s.count(i))"
   ]
  },
  {
   "cell_type": "code",
   "execution_count": 4,
   "id": "2cbe3594",
   "metadata": {},
   "outputs": [
    {
     "name": "stdout",
     "output_type": "stream",
     "text": [
      "enter the string---madrid\n",
      "madrid\n"
     ]
    },
    {
     "data": {
      "text/plain": [
       "Counter({'m': 1, 'a': 1, 'd': 2, 'r': 1, 'i': 1})"
      ]
     },
     "execution_count": 4,
     "metadata": {},
     "output_type": "execute_result"
    }
   ],
   "source": [
    "from collections import Counter\n",
    "s=input(\"enter the string---\")\n",
    "print(s)\n",
    "Counter(s)"
   ]
  },
  {
   "cell_type": "code",
   "execution_count": null,
   "id": "316c46e8",
   "metadata": {},
   "outputs": [],
   "source": []
  }
 ],
 "metadata": {
  "kernelspec": {
   "display_name": "Python 3 (ipykernel)",
   "language": "python",
   "name": "python3"
  },
  "language_info": {
   "codemirror_mode": {
    "name": "ipython",
    "version": 3
   },
   "file_extension": ".py",
   "mimetype": "text/x-python",
   "name": "python",
   "nbconvert_exporter": "python",
   "pygments_lexer": "ipython3",
   "version": "3.9.12"
  }
 },
 "nbformat": 4,
 "nbformat_minor": 5
}
