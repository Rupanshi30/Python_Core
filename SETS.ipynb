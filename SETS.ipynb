{
 "cells": [
  {
   "cell_type": "markdown",
   "id": "1bb280d8",
   "metadata": {},
   "source": [
    "# SETS()-sets are mutuable but values are immutable"
   ]
  },
  {
   "cell_type": "markdown",
   "id": "f4eca2d3",
   "metadata": {},
   "source": [
    "# sets are unordered collection of data enclosed in {}\n",
    "# properties of data\n",
    "set elements are unique,duplicate elements are not allowed \n",
    "no indexing and slicing\n",
    "sets do not allow mutuable data type\n",
    "set itself is mutuable data type implies2d/3d cannot be possible"
   ]
  },
  {
   "cell_type": "code",
   "execution_count": 4,
   "id": "95bc77a0",
   "metadata": {},
   "outputs": [
    {
     "data": {
      "text/plain": [
       "dict"
      ]
     },
     "execution_count": 4,
     "metadata": {},
     "output_type": "execute_result"
    }
   ],
   "source": [
    "s={}\n",
    "type(s) #use type constructor"
   ]
  },
  {
   "cell_type": "code",
   "execution_count": 1,
   "id": "a5c2a9ad",
   "metadata": {},
   "outputs": [
    {
     "data": {
      "text/plain": [
       "set"
      ]
     },
     "execution_count": 1,
     "metadata": {},
     "output_type": "execute_result"
    }
   ],
   "source": [
    "s=set()\n",
    "type(s) #empty set"
   ]
  },
  {
   "cell_type": "code",
   "execution_count": 3,
   "id": "a8c561a9",
   "metadata": {},
   "outputs": [
    {
     "name": "stdout",
     "output_type": "stream",
     "text": [
      "{1, 2, 3, 4}\n"
     ]
    },
    {
     "data": {
      "text/plain": [
       "set"
      ]
     },
     "execution_count": 3,
     "metadata": {},
     "output_type": "execute_result"
    }
   ],
   "source": [
    "s={1,2,3,4}\n",
    "print(s)\n",
    "type(s)"
   ]
  },
  {
   "cell_type": "code",
   "execution_count": 5,
   "id": "63aa3861",
   "metadata": {},
   "outputs": [
    {
     "data": {
      "text/plain": [
       "{1, 2, 3, 4, 5, 6}"
      ]
     },
     "execution_count": 5,
     "metadata": {},
     "output_type": "execute_result"
    }
   ],
   "source": [
    "s={1,2,3,3,4,5,6,3,4,3}\n",
    "type(s)\n",
    "s #gives unique element only"
   ]
  },
  {
   "cell_type": "code",
   "execution_count": 6,
   "id": "cedc838d",
   "metadata": {},
   "outputs": [
    {
     "data": {
      "text/plain": [
       "{1, 2, 3, 4, 5}"
      ]
     },
     "execution_count": 6,
     "metadata": {},
     "output_type": "execute_result"
    }
   ],
   "source": [
    "l=[1,2,3,4,3,4,5,3,4]\n",
    "set(l) #if order does not matter than use set "
   ]
  },
  {
   "cell_type": "code",
   "execution_count": 8,
   "id": "f0f841d5",
   "metadata": {},
   "outputs": [
    {
     "data": {
      "text/plain": [
       "{2, 3, 4, 5, 7, 8}"
      ]
     },
     "execution_count": 8,
     "metadata": {},
     "output_type": "execute_result"
    }
   ],
   "source": [
    "s={2,3,8,4,5,7} #does not maintain the order-unordered\n",
    "s"
   ]
  },
  {
   "cell_type": "code",
   "execution_count": 11,
   "id": "d311343a",
   "metadata": {},
   "outputs": [
    {
     "data": {
      "text/plain": [
       "set"
      ]
     },
     "execution_count": 11,
     "metadata": {},
     "output_type": "execute_result"
    }
   ],
   "source": [
    "s={1,2,3,5.6,\"rupanshi\",7.8}\n",
    "type(s)"
   ]
  },
  {
   "cell_type": "markdown",
   "id": "45d0ebbf",
   "metadata": {},
   "source": [
    "# list to set"
   ]
  },
  {
   "cell_type": "code",
   "execution_count": 12,
   "id": "de8d0db8",
   "metadata": {},
   "outputs": [
    {
     "data": {
      "text/plain": [
       "{1, 2, 3, 4}"
      ]
     },
     "execution_count": 12,
     "metadata": {},
     "output_type": "execute_result"
    }
   ],
   "source": [
    "l=[1,2,3,4]\n",
    "set(l)"
   ]
  },
  {
   "cell_type": "code",
   "execution_count": 13,
   "id": "fd50966a",
   "metadata": {},
   "outputs": [
    {
     "ename": "TypeError",
     "evalue": "unhashable type: 'list'",
     "output_type": "error",
     "traceback": [
      "\u001b[1;31m---------------------------------------------------------------------------\u001b[0m",
      "\u001b[1;31mTypeError\u001b[0m                                 Traceback (most recent call last)",
      "Input \u001b[1;32mIn [13]\u001b[0m, in \u001b[0;36m<cell line: 2>\u001b[1;34m()\u001b[0m\n\u001b[0;32m      1\u001b[0m \u001b[38;5;66;03m#sets do not allow mutuable data\u001b[39;00m\n\u001b[1;32m----> 2\u001b[0m s1\u001b[38;5;241m=\u001b[39m{\u001b[38;5;241m1\u001b[39m,\u001b[38;5;241m2\u001b[39m,\u001b[38;5;241m3\u001b[39m,\u001b[38;5;241m4\u001b[39m,[\u001b[38;5;124m\"\u001b[39m\u001b[38;5;124mbalmmet\u001b[39m\u001b[38;5;124m\"\u001b[39m,\u001b[38;5;124m\"\u001b[39m\u001b[38;5;124mmadrid\u001b[39m\u001b[38;5;124m\"\u001b[39m]}\n\u001b[0;32m      3\u001b[0m \u001b[38;5;28mtype\u001b[39m(s1)\n",
      "\u001b[1;31mTypeError\u001b[0m: unhashable type: 'list'"
     ]
    }
   ],
   "source": [
    "#sets do not allow mutuable data \n",
    "s1={1,2,3,4,[\"balmmet\",\"madrid\"]}\n",
    "type(s1)"
   ]
  },
  {
   "cell_type": "code",
   "execution_count": 14,
   "id": "f6b209a0",
   "metadata": {},
   "outputs": [
    {
     "ename": "TypeError",
     "evalue": "unhashable type: 'set'",
     "output_type": "error",
     "traceback": [
      "\u001b[1;31m---------------------------------------------------------------------------\u001b[0m",
      "\u001b[1;31mTypeError\u001b[0m                                 Traceback (most recent call last)",
      "Input \u001b[1;32mIn [14]\u001b[0m, in \u001b[0;36m<cell line: 1>\u001b[1;34m()\u001b[0m\n\u001b[1;32m----> 1\u001b[0m s1\u001b[38;5;241m=\u001b[39m{\u001b[38;5;241m1\u001b[39m,\u001b[38;5;241m2\u001b[39m,\u001b[38;5;241m3\u001b[39m,\u001b[38;5;241m4\u001b[39m,{\u001b[38;5;124m\"\u001b[39m\u001b[38;5;124mbalmmet\u001b[39m\u001b[38;5;124m\"\u001b[39m,\u001b[38;5;124m\"\u001b[39m\u001b[38;5;124mmadrid\u001b[39m\u001b[38;5;124m\"\u001b[39m}}\n\u001b[0;32m      2\u001b[0m \u001b[38;5;28mtype\u001b[39m(s1)\n",
      "\u001b[1;31mTypeError\u001b[0m: unhashable type: 'set'"
     ]
    }
   ],
   "source": [
    "s1={1,2,3,4,{\"balmmet\",\"madrid\"}}\n",
    "type(s1)"
   ]
  },
  {
   "cell_type": "code",
   "execution_count": 15,
   "id": "41e39dd2",
   "metadata": {},
   "outputs": [
    {
     "ename": "TypeError",
     "evalue": "'set' object is not subscriptable",
     "output_type": "error",
     "traceback": [
      "\u001b[1;31m---------------------------------------------------------------------------\u001b[0m",
      "\u001b[1;31mTypeError\u001b[0m                                 Traceback (most recent call last)",
      "Input \u001b[1;32mIn [15]\u001b[0m, in \u001b[0;36m<cell line: 2>\u001b[1;34m()\u001b[0m\n\u001b[0;32m      1\u001b[0m s\u001b[38;5;241m=\u001b[39m{\u001b[38;5;241m1\u001b[39m,\u001b[38;5;241m2\u001b[39m,\u001b[38;5;241m3\u001b[39m,\u001b[38;5;124m\"\u001b[39m\u001b[38;5;124mmadrid\u001b[39m\u001b[38;5;124m\"\u001b[39m}\n\u001b[1;32m----> 2\u001b[0m \u001b[43ms\u001b[49m\u001b[43m[\u001b[49m\u001b[38;5;241;43m3\u001b[39;49m\u001b[43m]\u001b[49m\n",
      "\u001b[1;31mTypeError\u001b[0m: 'set' object is not subscriptable"
     ]
    }
   ],
   "source": [
    "s={1,2,3,\"madrid\"}\n",
    "s[3] #no indexing or slicing"
   ]
  },
  {
   "cell_type": "code",
   "execution_count": 16,
   "id": "864c5f09",
   "metadata": {},
   "outputs": [
    {
     "data": {
      "text/plain": [
       "['__and__',\n",
       " '__class__',\n",
       " '__class_getitem__',\n",
       " '__contains__',\n",
       " '__delattr__',\n",
       " '__dir__',\n",
       " '__doc__',\n",
       " '__eq__',\n",
       " '__format__',\n",
       " '__ge__',\n",
       " '__getattribute__',\n",
       " '__gt__',\n",
       " '__hash__',\n",
       " '__iand__',\n",
       " '__init__',\n",
       " '__init_subclass__',\n",
       " '__ior__',\n",
       " '__isub__',\n",
       " '__iter__',\n",
       " '__ixor__',\n",
       " '__le__',\n",
       " '__len__',\n",
       " '__lt__',\n",
       " '__ne__',\n",
       " '__new__',\n",
       " '__or__',\n",
       " '__rand__',\n",
       " '__reduce__',\n",
       " '__reduce_ex__',\n",
       " '__repr__',\n",
       " '__ror__',\n",
       " '__rsub__',\n",
       " '__rxor__',\n",
       " '__setattr__',\n",
       " '__sizeof__',\n",
       " '__str__',\n",
       " '__sub__',\n",
       " '__subclasshook__',\n",
       " '__xor__',\n",
       " 'add',\n",
       " 'clear',\n",
       " 'copy',\n",
       " 'difference',\n",
       " 'difference_update',\n",
       " 'discard',\n",
       " 'intersection',\n",
       " 'intersection_update',\n",
       " 'isdisjoint',\n",
       " 'issubset',\n",
       " 'issuperset',\n",
       " 'pop',\n",
       " 'remove',\n",
       " 'symmetric_difference',\n",
       " 'symmetric_difference_update',\n",
       " 'union',\n",
       " 'update']"
      ]
     },
     "execution_count": 16,
     "metadata": {},
     "output_type": "execute_result"
    }
   ],
   "source": [
    "dir(set)"
   ]
  },
  {
   "cell_type": "markdown",
   "id": "60b6c7c1",
   "metadata": {},
   "source": [
    "# add the elements-using add()"
   ]
  },
  {
   "cell_type": "code",
   "execution_count": 18,
   "id": "306ef72b",
   "metadata": {},
   "outputs": [
    {
     "name": "stdout",
     "output_type": "stream",
     "text": [
      "1655023956032\n",
      "{56, 34, 99, 78}\n",
      "1655023956032\n"
     ]
    }
   ],
   "source": [
    "s={34,56,78}\n",
    "print(id(s))\n",
    "s.add(99)\n",
    "print(s)\n",
    "print(id(s)) #same memory address-mutuable"
   ]
  },
  {
   "cell_type": "markdown",
   "id": "cf88dd86",
   "metadata": {},
   "source": [
    "# deletion in set()"
   ]
  },
  {
   "cell_type": "code",
   "execution_count": 19,
   "id": "34e3e952",
   "metadata": {},
   "outputs": [
    {
     "ename": "TypeError",
     "evalue": "'set' object doesn't support item deletion",
     "output_type": "error",
     "traceback": [
      "\u001b[1;31m---------------------------------------------------------------------------\u001b[0m",
      "\u001b[1;31mTypeError\u001b[0m                                 Traceback (most recent call last)",
      "Input \u001b[1;32mIn [19]\u001b[0m, in \u001b[0;36m<cell line: 2>\u001b[1;34m()\u001b[0m\n\u001b[0;32m      1\u001b[0m s\u001b[38;5;241m=\u001b[39m{\u001b[38;5;241m1\u001b[39m,\u001b[38;5;241m2\u001b[39m,\u001b[38;5;241m3\u001b[39m,\u001b[38;5;241m4\u001b[39m}\n\u001b[1;32m----> 2\u001b[0m \u001b[38;5;28;01mdel\u001b[39;00m s[\u001b[38;5;241m2\u001b[39m]\n",
      "\u001b[1;31mTypeError\u001b[0m: 'set' object doesn't support item deletion"
     ]
    }
   ],
   "source": [
    "s={1,2,3,4}\n",
    "del s[2] #no del allowed in set-use remove"
   ]
  },
  {
   "cell_type": "code",
   "execution_count": 20,
   "id": "8686e44f",
   "metadata": {},
   "outputs": [
    {
     "data": {
      "text/plain": [
       "{1, 2, 3, 4, 5}"
      ]
     },
     "execution_count": 20,
     "metadata": {},
     "output_type": "execute_result"
    }
   ],
   "source": [
    "s={1,2,3,4,5,66}\n",
    "s.remove(66)\n",
    "s"
   ]
  },
  {
   "cell_type": "markdown",
   "id": "e47daad4",
   "metadata": {},
   "source": [
    "# using pop()-unordered so it will delete random element"
   ]
  },
  {
   "cell_type": "code",
   "execution_count": 21,
   "id": "fdb68ba3",
   "metadata": {},
   "outputs": [
    {
     "name": "stdout",
     "output_type": "stream",
     "text": [
      "{2, 3, 4, 5.6, 'rupanshi'}\n"
     ]
    }
   ],
   "source": [
    "s={1,2,3,4,5.6,\"rupanshi\"}\n",
    "s.pop()\n",
    "print(s) #del random element"
   ]
  },
  {
   "cell_type": "markdown",
   "id": "4e8dc753",
   "metadata": {},
   "source": [
    "# loop in set"
   ]
  },
  {
   "cell_type": "code",
   "execution_count": 22,
   "id": "ec25270f",
   "metadata": {},
   "outputs": [
    {
     "name": "stdout",
     "output_type": "stream",
     "text": [
      "1\n",
      "2\n",
      "3\n",
      "4\n"
     ]
    }
   ],
   "source": [
    "for i in{1,2,3,4}:\n",
    "    print(i)"
   ]
  },
  {
   "cell_type": "code",
   "execution_count": 23,
   "id": "c091aeff",
   "metadata": {},
   "outputs": [],
   "source": [
    "# wap to add the element into the set which is enetered by user"
   ]
  },
  {
   "cell_type": "code",
   "execution_count": 26,
   "id": "c1cf3e88",
   "metadata": {},
   "outputs": [
    {
     "name": "stdout",
     "output_type": "stream",
     "text": [
      "enter the number of element in the set--5\n",
      "enter the value to be added in the list--2\n",
      "enter the value to be added in the list--3\n",
      "enter the value to be added in the list--4\n",
      "enter the value to be added in the list--45\n",
      "enter the value to be added in the list--54\n",
      "{'2', '3', '54', '4', '45'}\n"
     ]
    }
   ],
   "source": [
    "s=set()\n",
    "size=int(input(\"enter the number of element in the set--\"))\n",
    "for i in range(1,size+1):\n",
    "    a=input(\"enter the value to be added in the list--\")\n",
    "    s.add(a)\n",
    "print(s)"
   ]
  },
  {
   "cell_type": "markdown",
   "id": "c346b656",
   "metadata": {},
   "source": [
    "# operations-len,max,min,sorted"
   ]
  },
  {
   "cell_type": "code",
   "execution_count": 27,
   "id": "818bca37",
   "metadata": {},
   "outputs": [
    {
     "data": {
      "text/plain": [
       "set()"
      ]
     },
     "execution_count": 27,
     "metadata": {},
     "output_type": "execute_result"
    }
   ],
   "source": [
    "s={1,2,3,4}\n",
    "s.clear() #it does not delete the set but clear it\n",
    "s"
   ]
  },
  {
   "cell_type": "markdown",
   "id": "bc56c637",
   "metadata": {},
   "source": [
    "# union()"
   ]
  },
  {
   "cell_type": "code",
   "execution_count": 28,
   "id": "2c25bea0",
   "metadata": {},
   "outputs": [
    {
     "data": {
      "text/plain": [
       "{1, 2, 3, 4, 5, 6, 7, 8}"
      ]
     },
     "execution_count": 28,
     "metadata": {},
     "output_type": "execute_result"
    }
   ],
   "source": [
    "s1={1,2,3,4}\n",
    "s2={5,6,7,8}\n",
    "s1.union(s2)"
   ]
  },
  {
   "cell_type": "code",
   "execution_count": 29,
   "id": "7b3b93b3",
   "metadata": {},
   "outputs": [
    {
     "data": {
      "text/plain": [
       "{1, 2, 3, 4, 5, 6, 7, 8}"
      ]
     },
     "execution_count": 29,
     "metadata": {},
     "output_type": "execute_result"
    }
   ],
   "source": [
    "s1={1,2,3,4}\n",
    "s2={5,6,7,8}\n",
    "s1|s2"
   ]
  },
  {
   "cell_type": "markdown",
   "id": "f3badcef",
   "metadata": {},
   "source": [
    " # intersection()"
   ]
  },
  {
   "cell_type": "code",
   "execution_count": 31,
   "id": "5d4a5146",
   "metadata": {},
   "outputs": [
    {
     "data": {
      "text/plain": [
       "{5}"
      ]
     },
     "execution_count": 31,
     "metadata": {},
     "output_type": "execute_result"
    }
   ],
   "source": [
    "s1={1,2,3,5,4}\n",
    "s2={5,6,7,8}\n",
    "s1.intersection(s2)"
   ]
  },
  {
   "cell_type": "code",
   "execution_count": 33,
   "id": "9afa7e0e",
   "metadata": {},
   "outputs": [
    {
     "name": "stdout",
     "output_type": "stream",
     "text": [
      "{5}\n"
     ]
    }
   ],
   "source": [
    "s1={1,2,3,5,4}\n",
    "s2={5,6,7,8}\n",
    "print(s1&s2)"
   ]
  },
  {
   "cell_type": "markdown",
   "id": "7ce1cc51",
   "metadata": {},
   "source": [
    "# difference-remove common part"
   ]
  },
  {
   "cell_type": "code",
   "execution_count": 34,
   "id": "beb89a5b",
   "metadata": {},
   "outputs": [
    {
     "data": {
      "text/plain": [
       "{1, 2, 3, 4}"
      ]
     },
     "execution_count": 34,
     "metadata": {},
     "output_type": "execute_result"
    }
   ],
   "source": [
    "s1={1,2,3,5,4}\n",
    "s2={5,6,7,8}\n",
    "s1.difference(s2) #remove s2 part"
   ]
  },
  {
   "cell_type": "code",
   "execution_count": 38,
   "id": "83c35fa4",
   "metadata": {},
   "outputs": [
    {
     "name": "stdout",
     "output_type": "stream",
     "text": [
      "{1, 2, 3, 4}\n"
     ]
    },
    {
     "data": {
      "text/plain": [
       "{1, 2, 3, 4, 5}"
      ]
     },
     "execution_count": 38,
     "metadata": {},
     "output_type": "execute_result"
    }
   ],
   "source": [
    "s1={1,2,3,5,4}\n",
    "s2={5,6,7,8}\n",
    "print(s1-s2)\n",
    "s1 #does not change s1"
   ]
  },
  {
   "cell_type": "markdown",
   "id": "23ea8729",
   "metadata": {},
   "source": [
    "# difference_update()"
   ]
  },
  {
   "cell_type": "code",
   "execution_count": 37,
   "id": "7eb5462d",
   "metadata": {},
   "outputs": [
    {
     "name": "stdout",
     "output_type": "stream",
     "text": [
      "{1, 2, 3, 4}\n"
     ]
    },
    {
     "data": {
      "text/plain": [
       "{1, 2, 3, 4}"
      ]
     },
     "execution_count": 37,
     "metadata": {},
     "output_type": "execute_result"
    }
   ],
   "source": [
    "s1={1,2,3,5,4}\n",
    "s2={5,6,7,8}\n",
    "s1.difference_update(s2)\n",
    "print(s1)\n",
    "s1 #it will update the s1"
   ]
  },
  {
   "cell_type": "markdown",
   "id": "2a07a902",
   "metadata": {},
   "source": [
    "# symmetric_difference()-gives all elements except common"
   ]
  },
  {
   "cell_type": "code",
   "execution_count": 40,
   "id": "8d981808",
   "metadata": {},
   "outputs": [
    {
     "data": {
      "text/plain": [
       "{1, 2, 3, 4, 6, 7, 8}"
      ]
     },
     "execution_count": 40,
     "metadata": {},
     "output_type": "execute_result"
    }
   ],
   "source": [
    "s1={1,2,3,5,4}\n",
    "s2={5,6,7,8}\n",
    "s1.symmetric_difference(s2)"
   ]
  },
  {
   "cell_type": "markdown",
   "id": "1eb4eb4b",
   "metadata": {},
   "source": [
    "# subset-issubset()-all elemnts of s1 present in s2"
   ]
  },
  {
   "cell_type": "code",
   "execution_count": 41,
   "id": "89da2537",
   "metadata": {},
   "outputs": [
    {
     "data": {
      "text/plain": [
       "False"
      ]
     },
     "execution_count": 41,
     "metadata": {},
     "output_type": "execute_result"
    }
   ],
   "source": [
    "s1={1,2,3,5,4}\n",
    "s2={5,6,7,8}\n",
    "s1.issubset(s2)"
   ]
  },
  {
   "cell_type": "markdown",
   "id": "e1534674",
   "metadata": {},
   "source": [
    "# isdisjoint()-distinct nothing common"
   ]
  },
  {
   "cell_type": "code",
   "execution_count": 43,
   "id": "8c45d509",
   "metadata": {},
   "outputs": [
    {
     "data": {
      "text/plain": [
       "True"
      ]
     },
     "execution_count": 43,
     "metadata": {},
     "output_type": "execute_result"
    }
   ],
   "source": [
    "s1={1,2,3,5,4}\n",
    "s2={6,7,8}\n",
    "s1.isdisjoint(s2)"
   ]
  },
  {
   "cell_type": "markdown",
   "id": "35c04496",
   "metadata": {},
   "source": [
    "# frozen set()-immutable version of set,elements will remain same after creation.due to this sets can be used as keys of dict"
   ]
  },
  {
   "cell_type": "code",
   "execution_count": 44,
   "id": "059e042c",
   "metadata": {},
   "outputs": [
    {
     "name": "stdout",
     "output_type": "stream",
     "text": [
      "{1, 2, 3, 4, 5}\n"
     ]
    }
   ],
   "source": [
    "a={1,2,3,4,5}\n",
    "a1=frozenset(a)\n",
    "print(a)"
   ]
  },
  {
   "cell_type": "code",
   "execution_count": 45,
   "id": "7f84c66b",
   "metadata": {},
   "outputs": [
    {
     "ename": "AttributeError",
     "evalue": "'frozenset' object has no attribute 'add'",
     "output_type": "error",
     "traceback": [
      "\u001b[1;31m---------------------------------------------------------------------------\u001b[0m",
      "\u001b[1;31mAttributeError\u001b[0m                            Traceback (most recent call last)",
      "Input \u001b[1;32mIn [45]\u001b[0m, in \u001b[0;36m<cell line: 1>\u001b[1;34m()\u001b[0m\n\u001b[1;32m----> 1\u001b[0m \u001b[43ma1\u001b[49m\u001b[38;5;241;43m.\u001b[39;49m\u001b[43madd\u001b[49m(\u001b[38;5;241m3\u001b[39m)\n",
      "\u001b[1;31mAttributeError\u001b[0m: 'frozenset' object has no attribute 'add'"
     ]
    }
   ],
   "source": [
    "a1.add(3)"
   ]
  },
  {
   "cell_type": "code",
   "execution_count": 4,
   "id": "abeb6c89",
   "metadata": {},
   "outputs": [
    {
     "name": "stdout",
     "output_type": "stream",
     "text": [
      "{2048, 2060, 2062, 2064, 2066, 2068, 2080, 2082, 2084, 2086, 2088, 2000, 2002, 2004, 2006, 2008, 2020, 2022, 2024, 2026, 2028, 2040, 2042, 2044, 2046}\n"
     ]
    }
   ],
   "source": [
    "#wap to add all the elements in the set from 2000 to 2100 whose all digits are even\n",
    "s=set()\n",
    "for i in range(2000,2101):\n",
    "    s1=str(i)\n",
    "    count=0\n",
    "    for j in s1:\n",
    "        j=int(j)\n",
    "        if j%2==0:\n",
    "            count=count+1\n",
    "    if count==4:\n",
    "        s.add(i)\n",
    "print(s)"
   ]
  },
  {
   "cell_type": "code",
   "execution_count": 5,
   "id": "71edd5c1",
   "metadata": {},
   "outputs": [],
   "source": [
    "'''l1=[\"jai kumar singh\"]\n",
    "l2=[\"nitish singh kataria\"]\n",
    "output\n",
    "first=[\"jai\",\"nitish\"]\n",
    "middle=[\"kumar\",\"singh\"]\n",
    "last=[\"singh\",\"kataria\"]'''\n",
    "l1=[\"jai kumar singh\"]\n",
    "l2=[\"nitish singh kataria\"]\n"
   ]
  },
  {
   "cell_type": "code",
   "execution_count": null,
   "id": "d5db30bf",
   "metadata": {},
   "outputs": [],
   "source": [
    "\n",
    "    "
   ]
  },
  {
   "cell_type": "code",
   "execution_count": null,
   "id": "656c5f26",
   "metadata": {},
   "outputs": [],
   "source": []
  }
 ],
 "metadata": {
  "kernelspec": {
   "display_name": "Python 3 (ipykernel)",
   "language": "python",
   "name": "python3"
  },
  "language_info": {
   "codemirror_mode": {
    "name": "ipython",
    "version": 3
   },
   "file_extension": ".py",
   "mimetype": "text/x-python",
   "name": "python",
   "nbconvert_exporter": "python",
   "pygments_lexer": "ipython3",
   "version": "3.9.12"
  }
 },
 "nbformat": 4,
 "nbformat_minor": 5
}
