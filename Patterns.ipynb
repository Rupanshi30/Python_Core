{
 "cells": [
  {
   "cell_type": "code",
   "execution_count": 1,
   "id": "b0c3e3f0",
   "metadata": {},
   "outputs": [
    {
     "name": "stdout",
     "output_type": "stream",
     "text": [
      "enter the number of rows5\n",
      "#####\n",
      "#####\n",
      "#####\n",
      "#####\n",
      "#####\n"
     ]
    }
   ],
   "source": [
    "rows=int(input(\"enter the number of rows\"))\n",
    "for i in range(1,rows+1):\n",
    "    for j in range(1,6):\n",
    "        print(\"#\",end=\"\")\n",
    "    print(end=\"\\n\")"
   ]
  },
  {
   "cell_type": "code",
   "execution_count": 2,
   "id": "abbe8020",
   "metadata": {},
   "outputs": [
    {
     "name": "stdout",
     "output_type": "stream",
     "text": [
      "enter the number of rows5\n",
      "enter the number of columns 5\n",
      "1  2  3  4  5  \n",
      "1  2  3  4  5  \n",
      "1  2  3  4  5  \n",
      "1  2  3  4  5  \n",
      "1  2  3  4  5  \n"
     ]
    }
   ],
   "source": [
    "rows=int(input(\"enter the number of rows\"))\n",
    "num=int(input(\"enter the number of columns \"))\n",
    "for i in range(1,rows+1):\n",
    "    for j in range(1,num+1):\n",
    "        print(j,\" \",end=\"\")\n",
    "    print(end=\"\\n\")"
   ]
  },
  {
   "cell_type": "code",
   "execution_count": 3,
   "id": "c205baeb",
   "metadata": {},
   "outputs": [
    {
     "name": "stdout",
     "output_type": "stream",
     "text": [
      "enter the number of rows5\n",
      "enter the number of columns 5\n",
      "1 2 3 4 5 \n",
      "6 7 8 9 10 \n",
      "11 12 13 14 15 \n",
      "16 17 18 19 20 \n",
      "21 22 23 24 25 \n"
     ]
    }
   ],
   "source": [
    "rows=int(input(\"enter the number of rows\"))\n",
    "num=int(input(\"enter the number of columns \"))\n",
    "count=1\n",
    "for i in range(1,rows+1):\n",
    "    for j in range(1,num+1):\n",
    "        print(count,end=\" \")\n",
    "        count+=1\n",
    "    print(end=\"\\n\")"
   ]
  },
  {
   "cell_type": "markdown",
   "id": "278a8aae",
   "metadata": {},
   "source": [
    "#homework of 6th september"
   ]
  },
  {
   "cell_type": "code",
   "execution_count": 4,
   "id": "f6a9ebf4",
   "metadata": {},
   "outputs": [
    {
     "name": "stdout",
     "output_type": "stream",
     "text": [
      "enter the number of rows5\n",
      "* \n",
      "* * \n",
      "* * * \n",
      "* * * * \n",
      "* * * * * \n"
     ]
    }
   ],
   "source": [
    "rows=int(input(\"enter the number of rows\"))\n",
    "for i in range(1,rows+1):\n",
    "    for j in range(1,i+1):\n",
    "        print(\"*\",end=\" \")\n",
    "    print(end=\"\\n\")"
   ]
  },
  {
   "cell_type": "code",
   "execution_count": 9,
   "id": "204c4343",
   "metadata": {},
   "outputs": [
    {
     "name": "stdout",
     "output_type": "stream",
     "text": [
      "enter the no of row:5\n",
      "0  1  0  1  0  \n",
      "1  0  1  0  1  \n",
      "0  1  0  1  0  \n",
      "1  0  1  0  1  \n",
      "0  1  0  1  0  \n"
     ]
    }
   ],
   "source": [
    "row=int(input(\"enter the no of row:\"))\n",
    "k=0\n",
    "for i in range(1,row+1):\n",
    "    for j in range(1,row+1):\n",
    "        print(k,\" \",end=\"\")\n",
    "        k=int(not k)\n",
    "    print(end=\"\\n\")"
   ]
  },
  {
   "cell_type": "code",
   "execution_count": 10,
   "id": "e2c37adc",
   "metadata": {},
   "outputs": [
    {
     "name": "stdout",
     "output_type": "stream",
     "text": [
      "enter the number of rows:5\n",
      "A  F  K  P  U  \n",
      "B  G  L  Q  V  \n",
      "C  H  M  R  W  \n",
      "D  I  N  S  X  \n",
      "E  J  O  T  Y  \n"
     ]
    }
   ],
   "source": [
    "row=int(input(\"enter the number of rows:\"))\n",
    "m=65\n",
    "for i in range(1,row+1):\n",
    "    k=m\n",
    "    for j in range(1,row+1):\n",
    "        print(chr(k),\" \",end=\"\")\n",
    "        k=k+5\n",
    "    m=m+1\n",
    "    print(end=\"\\n\")"
   ]
  },
  {
   "cell_type": "code",
   "execution_count": 11,
   "id": "1991c354",
   "metadata": {},
   "outputs": [
    {
     "data": {
      "text/plain": [
       "'&'"
      ]
     },
     "execution_count": 11,
     "metadata": {},
     "output_type": "execute_result"
    }
   ],
   "source": [
    "chr(38)"
   ]
  },
  {
   "cell_type": "code",
   "execution_count": 12,
   "id": "c8bf5364",
   "metadata": {},
   "outputs": [
    {
     "data": {
      "text/plain": [
       "42"
      ]
     },
     "execution_count": 12,
     "metadata": {},
     "output_type": "execute_result"
    }
   ],
   "source": [
    "ord(\"*\")"
   ]
  },
  {
   "cell_type": "code",
   "execution_count": 13,
   "id": "3d31392f",
   "metadata": {},
   "outputs": [
    {
     "name": "stdout",
     "output_type": "stream",
     "text": [
      "enter the number of rows5\n",
      "*   *   *   *   *    \n",
      "*   *   *   *    \n",
      "*   *   *    \n",
      "*   *    \n",
      "*    \n"
     ]
    }
   ],
   "source": [
    "rows=int(input(\"enter the number of rows\"))\n",
    "k=rows\n",
    "for i in range(1,rows+1):\n",
    "    for j in range(1,k+1):\n",
    "        print(\"*\",\" \",end=\" \")\n",
    "    k=k-1\n",
    "    print(\" \")"
   ]
  },
  {
   "cell_type": "code",
   "execution_count": 14,
   "id": "e6c35cf1",
   "metadata": {},
   "outputs": [
    {
     "name": "stdout",
     "output_type": "stream",
     "text": [
      "enter the no of rows 5\n",
      "    *\n",
      "   **\n",
      "  ***\n",
      " ****\n",
      "*****\n"
     ]
    }
   ],
   "source": [
    "row=int(input(\"enter the no of rows \"))\n",
    "space=row\n",
    "for i in range(1,row+1):\n",
    "    for j in range(1,space):\n",
    "        print(end=\" \")\n",
    "    space=space-1\n",
    "    for k in range(1,i+1):\n",
    "        print(\"*\",end=\"\")\n",
    "    print(end = \"\\n\")"
   ]
  },
  {
   "cell_type": "code",
   "execution_count": 15,
   "id": "fed8119a",
   "metadata": {},
   "outputs": [
    {
     "name": "stdout",
     "output_type": "stream",
     "text": [
      "enter the no of rows: 5\n",
      "5\n",
      "44\n",
      "333\n",
      "2222\n",
      "11111\n"
     ]
    }
   ],
   "source": [
    "row=int(input(\"enter the no of rows: \"))\n",
    "k=row\n",
    "for i in range(1,row+1):\n",
    "    for j in range(1,i+1):\n",
    "        print(k,end=\"\")\n",
    "    k=k-1\n",
    "    print(end=\"\\n\")"
   ]
  },
  {
   "cell_type": "code",
   "execution_count": 14,
   "id": "027c8351",
   "metadata": {},
   "outputs": [
    {
     "name": "stdout",
     "output_type": "stream",
     "text": [
      "enter the number of rows4\n",
      "1 \n",
      "4 9 \n",
      "16 25 36 \n",
      "49 64 81 100 \n"
     ]
    }
   ],
   "source": [
    "rows=int(input(\"enter the number of rows\"))\n",
    "k=1\n",
    "for i in range(1,rows+1):\n",
    "    for j in range(1,i+1):\n",
    "        print(k*k,end=\" \")\n",
    "        k=k+1\n",
    "    print(end=\"\\n\")"
   ]
  },
  {
   "cell_type": "code",
   "execution_count": 1,
   "id": "ffdbce5a",
   "metadata": {},
   "outputs": [
    {
     "name": "stdout",
     "output_type": "stream",
     "text": [
      " enter the no of rows: 3\n",
      "* * * \n",
      "*   * \n",
      "* * * \n"
     ]
    }
   ],
   "source": [
    "p=int(input(\" enter the no of rows: \"))\n",
    "for i in range(1,p+1):\n",
    "    for j in range(1,p+1,1):\n",
    "        if i==1 or j==1 or i==p or j==p:\n",
    "            print(\"*\",end=\" \")\n",
    "        else:\n",
    "            print(end=\"  \")\n",
    "    print()\n",
    "            \n",
    "                \n",
    "                \n",
    "                "
   ]
  },
  {
   "cell_type": "markdown",
   "id": "210e17a1",
   "metadata": {},
   "source": []
  }
 ],
 "metadata": {
  "kernelspec": {
   "display_name": "Python 3 (ipykernel)",
   "language": "python",
   "name": "python3"
  },
  "language_info": {
   "codemirror_mode": {
    "name": "ipython",
    "version": 3
   },
   "file_extension": ".py",
   "mimetype": "text/x-python",
   "name": "python",
   "nbconvert_exporter": "python",
   "pygments_lexer": "ipython3",
   "version": "3.9.12"
  }
 },
 "nbformat": 4,
 "nbformat_minor": 5
}
