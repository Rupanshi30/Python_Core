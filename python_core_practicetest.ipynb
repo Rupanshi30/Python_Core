{
 "cells": [
  {
   "cell_type": "markdown",
   "id": "606791e6",
   "metadata": {},
   "source": [
    "### Q-1 Write a program to print every character of a string entered by user in a new line using loop."
   ]
  },
  {
   "cell_type": "code",
   "execution_count": 3,
   "id": "dc04c9f3",
   "metadata": {},
   "outputs": [
    {
     "name": "stdout",
     "output_type": "stream",
     "text": [
      "enter the string--rupanshi\n",
      "r\n",
      "u\n",
      "p\n",
      "a\n",
      "n\n",
      "s\n",
      "h\n",
      "i\n"
     ]
    }
   ],
   "source": [
    "inp=input(\"enter the string--\")\n",
    "for i in inp:\n",
    "    print(i,end=\"\\n\")"
   ]
  },
  {
   "cell_type": "markdown",
   "id": "b677ca39",
   "metadata": {},
   "source": [
    "### Q-2 Write a program to find out the largest and smallest word in the string \"This is an umbrella\""
   ]
  },
  {
   "cell_type": "code",
   "execution_count": 5,
   "id": "2f069c36",
   "metadata": {},
   "outputs": [
    {
     "name": "stdout",
     "output_type": "stream",
     "text": [
      "enter the string--This is an umbrella\n",
      "is --- is smallest and its length is-- 2\n",
      "an --- is smallest and its length is-- 2\n",
      "umbrella --- is largest and its length is-- 8\n"
     ]
    }
   ],
   "source": [
    "s=input(\"enter the string--\").split(\" \")\n",
    "small=len(s[0])\n",
    "for i in s:\n",
    "    if len(i)<small:\n",
    "        print(i,\"---\",'is smallest and its length is--',len(i))\n",
    "    elif len(i)>small:\n",
    "         print(i,\"---\",'is largest and its length is--',len(i))\n",
    "        "
   ]
  },
  {
   "cell_type": "markdown",
   "id": "aec40994",
   "metadata": {},
   "source": [
    "### 3.\tWrite down the names of 10 of your friends in a list and then sort those in alphabetically ascending order."
   ]
  },
  {
   "cell_type": "code",
   "execution_count": 9,
   "id": "4092d06e",
   "metadata": {},
   "outputs": [
    {
     "name": "stdout",
     "output_type": "stream",
     "text": [
      "enter name of 10 friends of yours--paanu priyanka yash tamanna kirti nikki nishant umar ronak rahul\n",
      "['kirti', 'nikki', 'nishant', 'paanu', 'priyanka', 'rahul', 'ronak', 'tamanna', 'umar', 'yash']\n"
     ]
    }
   ],
   "source": [
    "s=input(\"enter name of 10 friends of yours--\").split(\" \")\n",
    "for i in s:\n",
    "    s.sort()\n",
    "print(s)"
   ]
  },
  {
   "cell_type": "markdown",
   "id": "13bfd2b1",
   "metadata": {},
   "source": [
    "### 4.\tu need to lower all the characters in the given string   s = \"A man, A plan, A goodman:\"\n",
    "and remove all non-alphanumeric characters from the string and check after removing if the string is palindrome or not.\n"
   ]
  },
  {
   "cell_type": "code",
   "execution_count": 13,
   "id": "fe68740e",
   "metadata": {},
   "outputs": [
    {
     "name": "stdout",
     "output_type": "stream",
     "text": [
      "amanaplanagoodman\n",
      "not palindrome\n"
     ]
    }
   ],
   "source": [
    "s=\"A man, A plan, A goodman\"\n",
    "s1=s.replace(\" \",\"\").replace(\",\",\"\")\n",
    "s1=s1.lower()\n",
    "print(s1)\n",
    "if s1==s1[::-1]:\n",
    "    print(s1,\"--is palindrome\")\n",
    "else:\n",
    "    print(\"not palindrome\")"
   ]
  },
  {
   "cell_type": "markdown",
   "id": "aba8c6eb",
   "metadata": {},
   "source": [
    "### 5.\tL=[“5’2”,”8’9”,”90’4”] convert this into L==[5.2,8.9,90.4]"
   ]
  },
  {
   "cell_type": "code",
   "execution_count": 44,
   "id": "73db4932",
   "metadata": {},
   "outputs": [
    {
     "name": "stdout",
     "output_type": "stream",
     "text": [
      "['5.2', '8.9', '90.4']\n",
      "[5.2, 8.9, 90.4]\n",
      "<class 'list'>\n"
     ]
    }
   ],
   "source": [
    "L=[\"5'2\",\"8'9\",\"90'4\"]\n",
    "l1=[]\n",
    "l2=[]\n",
    "for i in L:\n",
    "    #print(i)\n",
    "    i=i.split(\"'\")\n",
    "    #print(i)\n",
    "    l1.append(i[0]+'.'+i[1])\n",
    "print(l1)\n",
    "for j in l1:\n",
    "    j=float(j)\n",
    "    l2.append(j)\n",
    "print(l2)\n",
    "print(type(l2))"
   ]
  },
  {
   "cell_type": "markdown",
   "id": "bbcb56fa",
   "metadata": {},
   "source": [
    "### 6.\tWrite a program to check if the two strings entered by user are anagrams or not. Two words are said to be anagrams if the letters of one word can be rearranged to form the other word. For example, jaxa and ajax are anagrams of each other."
   ]
  },
  {
   "cell_type": "code",
   "execution_count": 69,
   "id": "212ad897",
   "metadata": {},
   "outputs": [
    {
     "name": "stdout",
     "output_type": "stream",
     "text": [
      "enter two strings---rana apun\n",
      "0\n",
      "rana apun ---are not anagrams\n"
     ]
    }
   ],
   "source": [
    "s1,s2=input(\"enter two strings---\").split(\" \")\n",
    "c=0\n",
    "if len(s1)==len(s2):\n",
    "    sorted(s1)\n",
    "    sorted(s2)\n",
    "    if s1.isalpha()==s2.isalpha():\n",
    "        sorted(s1)\n",
    "        sorted(s2)\n",
    "        if s1==s2:\n",
    "            c+=1\n",
    "print(c)\n",
    "if c==1:\n",
    "    print(s1,s2,\"---are anagrams\")\n",
    "else:\n",
    "    print(s1,s2,\"---are not anagrams\")"
   ]
  },
  {
   "cell_type": "code",
   "execution_count": 57,
   "id": "f2fad5d5",
   "metadata": {},
   "outputs": [
    {
     "name": "stdout",
     "output_type": "stream",
     "text": [
      "enter two strings---rana paanu\n",
      "['rana', 'paanu']\n",
      "['rana', 'paanu']\n"
     ]
    }
   ],
   "source": [
    "s1,s2=input(\"enter two strings---\").split(\" \")\n",
    "l=[]\n",
    "l.append(s1)\n",
    "l.append(s2)\n",
    "print(l)\n",
    "for i in l:\n",
    "    sorted(l)\n",
    "print(l)"
   ]
  },
  {
   "cell_type": "markdown",
   "id": "f91abfc4",
   "metadata": {},
   "source": [
    "### 7.\tTake a list contaning only strings. Now, take a string input from user and rearrange the elements of the list according to the number of occurence of the string taken from user in the elements of the list.\n",
    "E.g.-LIST : [\"no bun\",\"bug bun bug bun bug bug\",\"bunny bug\",\"buggy bug bug buggy\"]\n",
    "STRING TAKEN : \"bug\"\n",
    "OUTPUT LIST:[\"bug bun bug bun bug bug\",\"buggy bug bug buggy\",\"bunny bug\",\"no bun\"]\n"
   ]
  },
  {
   "cell_type": "code",
   "execution_count": 84,
   "id": "f37dda62",
   "metadata": {},
   "outputs": [
    {
     "name": "stdout",
     "output_type": "stream",
     "text": [
      "list before occurence of bug --- ['no bun', 'bug bun bug bun bug bug', 'bunny bug', 'buggy bug bug buggy']\n",
      "enetr the string--bug\n",
      "list after occurence of bug ---- ['bug bun bug bun bug bug', 'buggy bug bug buggy', 'bunny bug', 'no bun']\n"
     ]
    }
   ],
   "source": [
    "l=[\"no bun\",\"bug bun bug bun bug bug\",\"bunny bug\",\"buggy bug bug buggy\"]\n",
    "print(\"list before occurence of\",inp,\"---\",l)\n",
    "inp=input(\"enetr the string--\")\n",
    "d={}\n",
    "for i in l:\n",
    "    v=i.count(inp)\n",
    "    d[i]=v\n",
    "#print(d)\n",
    "#print(d.items())\n",
    "k=sorted(d.items(),key=lambda t:t[1],reverse=True)\n",
    "#print(k)\n",
    "l1=[]\n",
    "for i in k:\n",
    "    l1.append(i[0])\n",
    "print(\"list after occurence of\",inp,\"----\",l1)"
   ]
  },
  {
   "cell_type": "markdown",
   "id": "113781c8",
   "metadata": {},
   "source": [
    "### 8.\tWrite a program that will take user input of cost price and selling price and determines whether its a loss or a profit"
   ]
  },
  {
   "cell_type": "code",
   "execution_count": 86,
   "id": "9e9fd62e",
   "metadata": {},
   "outputs": [
    {
     "name": "stdout",
     "output_type": "stream",
     "text": [
      "enter the price--9999 10000\n",
      "profit of 1\n"
     ]
    }
   ],
   "source": [
    "c_price,s_price=input(\"enter the price--\").split(\" \")\n",
    "c_price=int(c_price)\n",
    "s_price=int(s_price)\n",
    "if s_price>c_price:\n",
    "    print(\"profit of\",s_price-c_price)\n",
    "elif s_price<c_price:\n",
    "    print(\"loss of\",c_price-s_price)\n",
    "elif s_price==c_price:\n",
    "    print(\"no profit no loss\")\n",
    "    "
   ]
  },
  {
   "cell_type": "markdown",
   "id": "de79995c",
   "metadata": {},
   "source": [
    "### 9.\tWrite a program that will tell the number of dogs and chicken are there when the user will provide the value of total heads and legs."
   ]
  },
  {
   "cell_type": "code",
   "execution_count": 113,
   "id": "bcea79fe",
   "metadata": {},
   "outputs": [
    {
     "name": "stdout",
     "output_type": "stream",
     "text": [
      "enter the input--56 118\n",
      "there are 56 dogs and chicken according to their heads\n",
      "there are 29 dogs\n",
      "there are 1.0 chicken\n"
     ]
    }
   ],
   "source": [
    "##dogs have four legs while chicken has four legs\n",
    "heads,legs=input(\"enter the input--\").split(\" \")\n",
    "heads=int(heads)\n",
    "legs=int(legs)\n",
    "r=legs%4\n",
    "#print(r)\n",
    "print(\"there are\",heads,\"dogs and chicken according to their heads\")\n",
    "if legs%4==0:\n",
    "    print(\"there are\",legs/4,\"dogs and he has\",legs,\"legs\")\n",
    "elif legs%2==0 & r>=0:\n",
    "    chick_legs=r/2\n",
    "    #print(chick_legs,r)\n",
    "    print(\"there are\",legs//4,\"dogs\")\n",
    "    print(\"there are\",chick_legs,\"chicken\")\n",
    "elif legs%2!=0 & r>=0:\n",
    "    chick_legs=r/2\n",
    "    print(chick_legs,r)\n",
    "    print(\"there are\",legs//4,\"dogs\")\n",
    "    print(\"there are\",chick_legs,\"chicken\")\n",
    "    print(r,\"only one leg left\")\n",
    "\n",
    "    "
   ]
  },
  {
   "cell_type": "markdown",
   "id": "286c8390",
   "metadata": {},
   "source": [
    "### 10.\tWrite a program that will swap numbers"
   ]
  },
  {
   "cell_type": "code",
   "execution_count": 121,
   "id": "4349bd4c",
   "metadata": {},
   "outputs": [
    {
     "name": "stdout",
     "output_type": "stream",
     "text": [
      "enter two numbers--45 56\n",
      "56 is now n1\n",
      "45 is now n2\n"
     ]
    }
   ],
   "source": [
    "n1,n2=input(\"enter two numbers--\").split(\" \")\n",
    "n1=int(n1)\n",
    "n2=int(n2)\n",
    "n=n1\n",
    "n1=n2\n",
    "n2=n\n",
    "print(n1,\"is now n1\")\n",
    "print(n2,\"is now n2\")"
   ]
  },
  {
   "cell_type": "markdown",
   "id": "36ddc2e2",
   "metadata": {},
   "source": [
    "### 11.\tWrite a program to print the first 25 odd numbers"
   ]
  },
  {
   "cell_type": "code",
   "execution_count": 127,
   "id": "414ec49b",
   "metadata": {},
   "outputs": [
    {
     "name": "stdout",
     "output_type": "stream",
     "text": [
      "enter the range25\n",
      "1 3 5 7 9 11 13 15 17 19 21 23 25 27 29 31 33 35 37 39 41 43 45 47 49 "
     ]
    }
   ],
   "source": [
    "n=int(input(\"enter the range\"))\n",
    "for i in range(n*2):\n",
    "    if i%2!=0:\n",
    "        print(i,end=\" \")"
   ]
  },
  {
   "cell_type": "markdown",
   "id": "8f600fad",
   "metadata": {},
   "source": [
    "### 12.\tWrite a Python program that accepts an integer (n) and computes the value of n+nn+nnn."
   ]
  },
  {
   "cell_type": "code",
   "execution_count": 137,
   "id": "3650c666",
   "metadata": {},
   "outputs": [
    {
     "name": "stdout",
     "output_type": "stream",
     "text": [
      "enter the value4\n",
      "492\n"
     ]
    }
   ],
   "source": [
    "n=int(input(\"enter the value\"))\n",
    "temp=str(n)\n",
    "n1=temp+temp\n",
    "n2=n1+temp\n",
    "#print(n1,n2)\n",
    "result=n+int(n1)+int(n2)\n",
    "print(result)"
   ]
  },
  {
   "cell_type": "markdown",
   "id": "f63a0efd",
   "metadata": {},
   "source": [
    "### 13.Take a number from the user and find the number of digits in"
   ]
  },
  {
   "cell_type": "code",
   "execution_count": 144,
   "id": "8d6e0862",
   "metadata": {},
   "outputs": [
    {
     "name": "stdout",
     "output_type": "stream",
     "text": [
      "enter the value35644827\n",
      "there are 8 digits\n"
     ]
    }
   ],
   "source": [
    "n=int(input(\"enter the value\"))\n",
    "n=str(n)\n",
    "print(\"there are\",len(n),\"digits\")"
   ]
  },
  {
   "cell_type": "markdown",
   "id": "879b0984",
   "metadata": {},
   "source": [
    "### 14.\tExtract username from a given email. \n",
    "Eg if the email is nitish24singh@gmail.com then the username should be nitish24singh\n"
   ]
  },
  {
   "cell_type": "code",
   "execution_count": 151,
   "id": "a35be2ce",
   "metadata": {},
   "outputs": [
    {
     "name": "stdout",
     "output_type": "stream",
     "text": [
      "enter a email-- nitish24singh@gmail.com\n",
      "username is--  nitish24singh\n"
     ]
    }
   ],
   "source": [
    "inp=input(\"enter a email--\")\n",
    "s=inp.split(\"@\")\n",
    "print(\"username is--\",s[0])"
   ]
  },
  {
   "cell_type": "markdown",
   "id": "50351f6a",
   "metadata": {},
   "source": [
    "### 15.\tWrite a dummy program that can perform login and registration using a menu driven program"
   ]
  },
  {
   "cell_type": "code",
   "execution_count": null,
   "id": "ae1aeefd",
   "metadata": {},
   "outputs": [],
   "source": [
    "while(1):\n",
    "    login=input(\"enter the login id\")\n",
    "    reg=input(\"enter registration details--\")\n",
    "    choice=input(\"u wish to enter the number more press 1: yes and 0 for no: \")\n",
    "    if choice==\"1\":\n",
    "        continue\n",
    "    elif choice==\"0\":\n",
    "        break\n",
    "    else:\n",
    "        print(\"invalid choice\")\n",
    "        break\n",
    "print(sum)\n"
   ]
  }
 ],
 "metadata": {
  "kernelspec": {
   "display_name": "Python 3 (ipykernel)",
   "language": "python",
   "name": "python3"
  },
  "language_info": {
   "codemirror_mode": {
    "name": "ipython",
    "version": 3
   },
   "file_extension": ".py",
   "mimetype": "text/x-python",
   "name": "python",
   "nbconvert_exporter": "python",
   "pygments_lexer": "ipython3",
   "version": "3.9.12"
  }
 },
 "nbformat": 4,
 "nbformat_minor": 5
}
